{
 "cells": [
  {
   "cell_type": "markdown",
   "metadata": {},
   "source": [
    "# Introduction to dynamic programming with discrete states and discrete actions\n",
    "\n",
    "The goal of this notebook is to build up a value function iteration step by step.\n",
    "To do so, we consider a growth model without uncertainty. The task is to do all the #TODO's."
   ]
  },
  {
   "cell_type": "markdown",
   "metadata": {},
   "source": [
    "# 1. The sequential formulation\n",
    "\\begin{align}\n",
    "&V(k_0)=\\max_{\\{c_t\\}_{t=0}^{\\infty}} \\beta ^t u(c_t) \\\\\n",
    "\\text{subject to: } &k_{t+1} + c_t = k_t^{0.3} + 0.5 k_t \\\\\n",
    "&k_0 > 0 \\text{ given.}\n",
    "\\end{align}"
   ]
  },
  {
   "cell_type": "markdown",
   "metadata": {},
   "source": [
    "# 2. The recursive formulation\n",
    "The problem above can be formualted in recursive from:\n",
    "\\begin{align}\n",
    "&V(k) = \\max_{c} u(c) + \\beta V(k') \\\\\n",
    "\\text{subject to: }& k' + c = k^{0.3} + 0.5 k.\n",
    "\\end{align}\n",
    "We can plug the constraint directly into the maximization problem and get\n",
    "\\begin{align}\n",
    "&V(k) = \\max_{k'} u(k^{0.3} + 0.5 k - k') + \\beta V(k'). \\\\\n",
    "\\end{align}\n",
    "The above equation is also called **Bellman equation**.\n",
    "The goal of value function iteration is to find a function V which fullfills the Bellman equation for all possible $k$.\n",
    "In this example, the **state** is $k$ and the **policy** or **action** is $k'$.\n",
    "\n",
    "The mapping $ k \\rightarrow V(k)$ is the value function.  \n",
    "The mapping $ k \\rightarrow p(k)=k'$ is the policy function.  \n",
    "Given the value function, we can extract the policy function using\n",
    "\\begin{align}\n",
    "p(k) = \\text{arg}\\max_{k'} u(k^{0.3} + 0.5 k - k') + \\beta V(k')\n",
    "\\end{align}"
   ]
  },
  {
   "cell_type": "markdown",
   "metadata": {},
   "source": [
    "# 3. Discrete states and actions\n",
    "We can restrict the state and the actions to be discrete and to take values in a finite set with $N$ discrete values $\\mathcal{K}:=\\{k_1, k_2, \\dots k_N\\}$.\n",
    "Since the state can only take discrete values, the value function takes discrete values as well.\n",
    "We can then represent the entire value function as a vector $\\begin{bmatrix}V_1\\\\\n",
    "V_2\\\\\n",
    "\\dots \\\\\n",
    "V_N\n",
    "\\end{bmatrix} = \\begin{bmatrix}V(k_1)\\\\\n",
    "V(k_2)\\\\\n",
    "\\dots \\\\\n",
    "V(k_N)\n",
    "\\end{bmatrix}.$"
   ]
  },
  {
   "cell_type": "markdown",
   "metadata": {},
   "source": [
    "# 4. Value function iteration\n",
    "In this section we decompose value function iteration for discrete states and actions into several steps.\n",
    "The code for this steps is incomplete and it might be a nice exercise to complete it."
   ]
  },
  {
   "cell_type": "markdown",
   "metadata": {},
   "source": [
    "## 4.1 Initialization\n",
    "To start with value function iteration, we need to chose a grid for the states and the actions.\n",
    "In this example, the action in period $t$ determines the state in period $t+1$, therefore the grid for states and actions is the same."
   ]
  },
  {
   "cell_type": "code",
   "execution_count": 2,
   "metadata": {},
   "outputs": [],
   "source": [
    "import numpy as np\n",
    "\n",
    "# If you change any of these values, comment out the assertions\n",
    "\n",
    "N = 500 # number of grid-points for the capital grid\n",
    "k_low = 0.1 # lower bound for the capital grid\n",
    "k_high = 1 # upper bound for capital grid\n",
    "k_grid = np.linspace(k_low, k_high, N) #grid for capital\n",
    "\n",
    "# Now we initialize the value function, I like to initialize it to zero.\n",
    "V_init = np.zeros_like(k_grid)"
   ]
  },
  {
   "cell_type": "markdown",
   "metadata": {},
   "source": [
    "## 4.2 Value function update for a given state\n",
    "The idea value function iteration is to update the value function vector accroding to\n",
    "$$\n",
    "V_i^{\\text{updated}}=\\max_{k_j \\in \\mathcal{K}} u(k_i^{0.3} + 0.5 k_i - k_j) + \\beta V_j\n",
    "$$\n",
    "Our first step will be to implement this update.\n",
    "For the utility function we chose CRRA utility, with coefficient of relative risk aversion $\\gamma = 2$."
   ]
  },
  {
   "cell_type": "code",
   "execution_count": 39,
   "metadata": {},
   "outputs": [],
   "source": [
    "# I start out with some functions, which may be helpful\n",
    "# If you change the parameters, the assertions don't make sense anymore\n",
    "gamma = 2.\n",
    "beta = 0.9\n",
    "\n",
    "def u(c):\n",
    "    \"\"\"\n",
    "    input: \n",
    "    c: consumption\n",
    "    \n",
    "    output:\n",
    "    utility received from consumption\n",
    "    \"\"\"\n",
    "    return c ** (1 - gamma) / (1 - gamma)\n",
    "\n",
    "# hint: try to understand what this function does first, it is useful for vf_update!\n",
    "def actionvalue_allchoices(k_index, V_old):\n",
    "    \"\"\"\n",
    "    Calculates the current utility of all the discrete k's\n",
    "    \n",
    "    input:\n",
    "    k_index: index so that k_grid[index] corresponds to value of capital this period (state)\n",
    "    V_old: approximation to the value function. V_old[i] approximates V(k_grid[i]).\n",
    "    \n",
    "    output:\n",
    "    action_value: value of all possible state-action pairs.\n",
    "    \"\"\"\n",
    "    k = k_grid[k_index]\n",
    "    \n",
    "    action_value = np.zeros_like(k_grid)\n",
    "    \n",
    "    c = k**0.3 + 0.5 * k - k_grid # consumption implied by policy k_next in state k\n",
    "    action_value[c <= 0] = -999999 # set value to -HUGE for negative consumption\n",
    "    action_value[c > 0] = u(c[c > 0]) + beta * V_old[c > 0]    \n",
    "    return action_value\n",
    "\n",
    "def vf_update(i, V_old):\n",
    "    \"\"\"\n",
    "    input:\n",
    "    i: index corresponding to the entry of the value-function vector which is updated\n",
    "    V_old: value function vector from the previous iteration\n",
    "    \n",
    "    output:\n",
    "    Vi_new: updated value for the value function vector at entry i.\n",
    "    \"\"\"\n",
    "    Vi_new = np.max(actionvalue_allchoices(i, V_old)) # find the maximum unitility among the discrete choices\n",
    "    \n",
    "    return Vi_new"
   ]
  },
  {
   "cell_type": "code",
   "execution_count": 42,
   "metadata": {},
   "outputs": [],
   "source": [
    "# check function\n",
    "assert np.abs(vf_update(0, V_init) - (- 2.216374)) < 0.01, 'Maybe there is an error in the vf_update function.'"
   ]
  },
  {
   "cell_type": "markdown",
   "metadata": {},
   "source": [
    "## 4.3 One update iteration\n",
    "The next step is to write a function, which takes the \"old\" value function vector as input, loops over all states, computes the updated value function at each state and returns the updated value function vector."
   ]
  },
  {
   "cell_type": "code",
   "execution_count": 47,
   "metadata": {},
   "outputs": [],
   "source": [
    "def vf_update_iteration(V_old):\n",
    "    \"\"\"\n",
    "    input: \n",
    "    V_old: array with current approximation of the value function\n",
    "    \n",
    "    output:\n",
    "    V_new: updated approximation of the value function\n",
    "    \"\"\"\n",
    "    V_new = np.zeros_like(V_old)\n",
    "    \n",
    "    maximum = -np.inf\n",
    "    for i in range(len(V_old)):\n",
    "        V_new[i] = vf_update(i, V_old)\n",
    "    \n",
    "    return V_new"
   ]
  },
  {
   "cell_type": "code",
   "execution_count": 48,
   "metadata": {},
   "outputs": [],
   "source": [
    "# check function\n",
    "assert np.max(np.abs(np.mean(vf_update_iteration(V_init)) - (-1.1047))) < 0.001, 'maybe there is an error in the vf_update_iteration function'"
   ]
  },
  {
   "cell_type": "markdown",
   "metadata": {},
   "source": [
    "## 4.4 Iterating until convergence\n",
    "The next step is to set a desired threshold $\\epsilon$.\n",
    "Then we iteratively update the value function as implemented in the last section until the difference between the new and the old value function is smaller than the threshold $\\epsilon$."
   ]
  },
  {
   "cell_type": "code",
   "execution_count": 50,
   "metadata": {
    "scrolled": false
   },
   "outputs": [
    {
     "name": "stdout",
     "output_type": "stream",
     "text": [
      "Iteration: 1\n",
      "Iteration: 2\n"
     ]
    },
    {
     "data": {
      "image/png": "[encoded data removed]",
      "text/plain": [
       "<Figure size 432x288 with 1 Axes>"
      ]
     },
     "metadata": {},
     "output_type": "display_data"
    },
    {
     "name": "stdout",
     "output_type": "stream",
     "text": [
      "Iteration: 3\n",
      "Iteration: 4\n",
      "Iteration: 5\n",
      "Iteration: 6\n",
      "Iteration: 7\n",
      "Iteration: 8\n",
      "Iteration: 9\n",
      "Iteration: 10\n",
      "Iteration: 11\n",
      "Iteration: 12\n",
      "Iteration: 13\n",
      "Iteration: 14\n",
      "Iteration: 15\n",
      "Iteration: 16\n",
      "Iteration: 17\n",
      "Iteration: 18\n",
      "Iteration: 19\n",
      "Iteration: 20\n",
      "Iteration: 21\n",
      "Iteration: 22\n",
      "Iteration: 23\n",
      "Iteration: 24\n",
      "Iteration: 25\n",
      "Iteration: 26\n",
      "Iteration: 27\n",
      "Iteration: 28\n",
      "Iteration: 29\n",
      "Iteration: 30\n",
      "Iteration: 31\n",
      "Iteration: 32\n",
      "Iteration: 33\n",
      "Iteration: 34\n",
      "Iteration: 35\n",
      "Iteration: 36\n",
      "Iteration: 37\n",
      "Iteration: 38\n",
      "Iteration: 39\n",
      "Iteration: 40\n",
      "Iteration: 41\n",
      "Iteration: 42\n",
      "Iteration: 43\n",
      "Iteration: 44\n",
      "Iteration: 45\n",
      "Iteration: 46\n",
      "Iteration: 47\n",
      "Iteration: 48\n",
      "Iteration: 49\n",
      "Iteration: 50\n",
      "Iteration: 51\n",
      "Iteration: 52\n"
     ]
    },
    {
     "data": {
      "image/png": "[encoded data removed]",
      "text/plain": [
       "<Figure size 432x288 with 1 Axes>"
      ]
     },
     "metadata": {},
     "output_type": "display_data"
    },
    {
     "name": "stdout",
     "output_type": "stream",
     "text": [
      "Iteration: 53\n",
      "Iteration: 54\n",
      "Iteration: 55\n",
      "Iteration: 56\n",
      "Iteration: 57\n",
      "Iteration: 58\n",
      "Iteration: 59\n",
      "Iteration: 60\n",
      "Iteration: 61\n",
      "Iteration: 62\n",
      "Iteration: 63\n",
      "Iteration: 64\n",
      "Iteration: 65\n",
      "Iteration: 66\n",
      "Iteration: 67\n",
      "Iteration: 68\n",
      "Iteration: 69\n",
      "Iteration: 70\n",
      "Iteration: 71\n",
      "Iteration: 72\n",
      "Iteration: 73\n",
      "Iteration: 74\n",
      "Iteration: 75\n",
      "Iteration: 76\n",
      "Iteration: 77\n",
      "Iteration: 78\n",
      "Iteration: 79\n",
      "Iteration: 80\n",
      "Iteration: 81\n",
      "Iteration: 82\n",
      "Iteration: 83\n",
      "Iteration: 84\n",
      "Iteration: 85\n",
      "Iteration: 86\n",
      "Iteration: 87\n",
      "Iteration: 88\n",
      "Iteration: 89\n",
      "Iteration: 90\n",
      "Iteration: 91\n",
      "Iteration: 92\n",
      "Iteration: 93\n",
      "Iteration: 94\n",
      "Iteration: 95\n",
      "Iteration: 96\n",
      "Iteration: 97\n",
      "Iteration: 98\n",
      "Iteration: 99\n",
      "Iteration: 100\n",
      "Iteration: 101\n",
      "Iteration: 102\n"
     ]
    },
    {
     "data": {
      "image/png": "[encoded data removed]",
      "text/plain": [
       "<Figure size 432x288 with 1 Axes>"
      ]
     },
     "metadata": {},
     "output_type": "display_data"
    },
    {
     "name": "stdout",
     "output_type": "stream",
     "text": [
      "Iteration: 103\n",
      "Iteration: 104\n",
      "Iteration: 105\n",
      "Iteration: 106\n",
      "Iteration: 107\n",
      "Iteration: 108\n",
      "Iteration: 109\n",
      "Iteration: 110\n",
      "Iteration: 111\n",
      "Iteration: 112\n",
      "Iteration: 113\n",
      "Iteration: 114\n",
      "Iteration: 115\n",
      "Iteration: 116\n",
      "Iteration: 117\n",
      "Iteration: 118\n",
      "Iteration: 119\n",
      "Iteration: 120\n",
      "Iteration: 121\n",
      "Iteration: 122\n",
      "Iteration: 123\n",
      "Iteration: 124\n",
      "Iteration: 125\n",
      "Iteration: 126\n",
      "Iteration: 127\n",
      "Iteration: 128\n",
      "Iteration: 129\n",
      "Iteration: 130\n",
      "Iteration: 131\n",
      "Iteration: 132\n",
      "Iteration: 133\n",
      "Iteration: 134\n",
      "Iteration: 135\n",
      "Iteration: 136\n",
      "Iteration: 137\n",
      "Iteration: 138\n",
      "Iteration: 139\n",
      "Iteration: 140\n",
      "Iteration: 141\n",
      "Iteration: 142\n",
      "Iteration: 143\n",
      "Iteration: 144\n",
      "Iteration: 145\n",
      "Iteration: 146\n",
      "Iteration: 147\n",
      "Iteration: 148\n",
      "Iteration: 149\n",
      "Iteration: 150\n",
      "Iteration: 151\n",
      "Iteration: 152\n"
     ]
    },
    {
     "data": {
      "image/png": "[encoded data removed]",
      "text/plain": [
       "<Figure size 432x288 with 1 Axes>"
      ]
     },
     "metadata": {},
     "output_type": "display_data"
    },
    {
     "name": "stdout",
     "output_type": "stream",
     "text": [
      "Iteration: 153\n",
      "Iteration: 154\n",
      "Iteration: 155\n",
      "Iteration: 156\n",
      "Iteration: 157\n",
      "Iteration: 158\n",
      "Iteration: 159\n",
      "Iteration: 160\n",
      "Iteration: 161\n",
      "Iteration: 162\n",
      "Iteration: 163\n",
      "Iteration: 164\n",
      "Iteration: 165\n",
      "Iteration: 166\n",
      "Iteration: 167\n",
      "Iteration: 168\n",
      "Iteration: 169\n",
      "Iteration: 170\n",
      "Iteration: 171\n",
      "Iteration: 172\n",
      "Iteration: 173\n",
      "Iteration: 174\n",
      "Iteration: 175\n",
      "Iteration: 176\n",
      "Iteration: 177\n",
      "Iteration: 178\n",
      "Iteration: 179\n",
      "Iteration: 180\n",
      "Iteration: 181\n",
      "Iteration: 182\n",
      "Iteration: 183\n",
      "Iteration: 184\n",
      "Iteration: 185\n",
      "Iteration: 186\n",
      "Iteration: 187\n",
      "Iteration: 188\n",
      "Iteration: 189\n",
      "Iteration: 190\n",
      "Iteration: 191\n",
      "Iteration: 192\n",
      "Iteration: 193\n",
      "Iteration: 194\n",
      "Iteration: 195\n",
      "Iteration: 196\n",
      "Iteration: 197\n",
      "Iteration: 198\n",
      "Iteration: 199\n",
      "Iteration: 200\n",
      "Iteration: 201\n",
      "Iteration: 202\n"
     ]
    },
    {
     "data": {
      "image/png": "[encoded data removed]",
      "text/plain": [
       "<Figure size 432x288 with 1 Axes>"
      ]
     },
     "metadata": {},
     "output_type": "display_data"
    },
    {
     "name": "stdout",
     "output_type": "stream",
     "text": [
      "Iteration: 203\n",
      "Iteration: 204\n",
      "Iteration: 205\n",
      "Iteration: 206\n",
      "Iteration: 207\n",
      "Iteration: 208\n",
      "Iteration: 209\n",
      "Iteration: 210\n",
      "Iteration: 211\n",
      "Iteration: 212\n",
      "Iteration: 213\n",
      "Iteration: 214\n",
      "Iteration: 215\n",
      "Iteration: 216\n",
      "Iteration: 217\n",
      "Iteration: 218\n",
      "Iteration: 219\n",
      "Iteration: 220\n",
      "Iteration: 221\n",
      "Iteration: 222\n",
      "Iteration: 223\n",
      "Iteration: 224\n",
      "Iteration: 225\n",
      "Iteration: 226\n",
      "Converged after iteration 226\n"
     ]
    },
    {
     "data": {
      "image/png": "[encoded data removed]",
      "text/plain": [
       "<Figure size 432x288 with 1 Axes>"
      ]
     },
     "metadata": {},
     "output_type": "display_data"
    }
   ],
   "source": [
    "from matplotlib import pyplot as plt\n",
    "\n",
    "difference_list = []\n",
    "threshold = 1e-10\n",
    "max_iterations = 10000\n",
    "plot_interval = 50\n",
    "\n",
    "V = V_init.copy()\n",
    "\n",
    "for iteration in range(max_iterations):\n",
    "    print('Iteration: {}'.format(iteration + 1))\n",
    "    \n",
    "    V_new = vf_update_iteration(V)\n",
    "    difference = np.max(np.abs(V_new - V)) # compute the maximum absolute difference between the old and new function\n",
    "    \n",
    "    difference_list.append(difference)\n",
    "    \n",
    "    V = V_new\n",
    "\n",
    "    \n",
    "    if difference < threshold:\n",
    "        print('Converged after iteration {}'.format(iteration + 1))\n",
    "        \n",
    "        plt.figure()\n",
    "        plt.plot(k_grid, V)\n",
    "        plt.xlabel('k')\n",
    "        plt.ylabel('V(k)')\n",
    "        plt.title('Value function after convergence')\n",
    "        plt.show();\n",
    "        break\n",
    "        \n",
    "    if iteration%plot_interval == 1:\n",
    "        \n",
    "        plt.figure()\n",
    "        plt.plot(np.arange(1, iteration+2), np.log10(np.array(difference_list)))\n",
    "        plt.xlabel('Iteration')\n",
    "        plt.ylabel('Maximum update [log10]')\n",
    "        plt.show();"
   ]
  },
  {
   "cell_type": "code",
   "execution_count": 56,
   "metadata": {},
   "outputs": [
    {
     "data": {
      "text/plain": [
       "array([-19.69868029, -19.67370006, -19.64918183, -19.62512957,\n",
       "       -19.60154426, -19.57838752, -19.55562673, -19.53327999,\n",
       "       -19.51132594, -19.48972747, -19.46849524, -19.44759424,\n",
       "       -19.42703893, -19.40683527, -19.38694736, -19.36735815,\n",
       "       -19.34806289, -19.32903323, -19.3103143 , -19.2918632 ,\n",
       "       -19.27368011, -19.25576066, -19.2380857 , -19.2206482 ,\n",
       "       -19.20343945, -19.18647575, -19.16973721, -19.15322766,\n",
       "       -19.13691078, -19.1207955 , -19.10489602, -19.0892038 ,\n",
       "       -19.07370508, -19.05836889, -19.04323045, -19.02829095,\n",
       "       -19.01352306, -18.99891259, -18.98444709, -18.97016511,\n",
       "       -18.95606312, -18.94210899, -18.92828672, -18.91461679,\n",
       "       -18.90111544, -18.88775425, -18.87451045, -18.86141683,\n",
       "       -18.84846167, -18.83564756, -18.82293868, -18.81036064,\n",
       "       -18.79792912, -18.78561285, -18.77340107, -18.76129626,\n",
       "       -18.74933616, -18.73747722, -18.725726  , -18.7140837 ,\n",
       "       -18.7025578 , -18.69112032, -18.67979436, -18.66856262,\n",
       "       -18.65744131, -18.64640263, -18.63546636, -18.62462684,\n",
       "       -18.61387251, -18.60321782, -18.59266569, -18.58218891,\n",
       "       -18.57177964, -18.56146861, -18.55125457, -18.54111048,\n",
       "       -18.53104095, -18.52106628, -18.51115715, -18.50133325,\n",
       "       -18.49157987, -18.48190385, -18.47229611, -18.46277579,\n",
       "       -18.45332139, -18.44391588, -18.43460268, -18.4253592 ,\n",
       "       -18.41617301, -18.40705374, -18.39800825, -18.38900919,\n",
       "       -18.38008602, -18.37122219, -18.36241246, -18.35368077,\n",
       "       -18.34501301, -18.3363846 , -18.32781839, -18.31932557,\n",
       "       -18.31087146, -18.3024794 , -18.29415127, -18.28586067,\n",
       "       -18.27763432, -18.2694666 , -18.26133443, -18.25326847,\n",
       "       -18.24525677, -18.23728505, -18.22936147, -18.22149299,\n",
       "       -18.21365839, -18.20589414, -18.19817107, -18.19048785,\n",
       "       -18.18285944, -18.17527216, -18.16772849, -18.16023269,\n",
       "       -18.15277595, -18.14537034, -18.13800968, -18.13067852,\n",
       "       -18.1233849 , -18.11615104, -18.10895311, -18.1017942 ,\n",
       "       -18.0946779 , -18.0875939 , -18.08056094, -18.07355794,\n",
       "       -18.06658253, -18.05966808, -18.05277843, -18.04592868,\n",
       "       -18.03911784, -18.03232952, -18.0255964 , -18.01889102,\n",
       "       -18.01221246, -18.00558236, -17.99897616, -17.99240846,\n",
       "       -17.98587492, -17.97936457, -17.97291339, -17.96648031,\n",
       "       -17.96007609, -17.9537103 , -17.94736638, -17.94106342,\n",
       "       -17.93479158, -17.92853571, -17.92232839, -17.91614193,\n",
       "       -17.90998894, -17.90386161, -17.89775785, -17.89169949,\n",
       "       -17.88566222, -17.87964719, -17.87367291, -17.86771392,\n",
       "       -17.86178633, -17.85589025, -17.85000717, -17.84417336,\n",
       "       -17.83835309, -17.8325616 , -17.82679985, -17.8210503 ,\n",
       "       -17.81534646, -17.80965557, -17.80398613, -17.79835272,\n",
       "       -17.79273164, -17.78714791, -17.78158138, -17.7760287 ,\n",
       "       -17.77051704, -17.76502754, -17.75955875, -17.75411071,\n",
       "       -17.74868598, -17.74329039, -17.73791009, -17.73254888,\n",
       "       -17.72721387, -17.72191083, -17.71662601, -17.71135124,\n",
       "       -17.70610349, -17.70087639, -17.69567707, -17.69049635,\n",
       "       -17.68532545, -17.68019362, -17.67506984, -17.66996875,\n",
       "       -17.66488726, -17.65981695, -17.65478436, -17.64976167,\n",
       "       -17.64476578, -17.63978475, -17.63482134, -17.62988329,\n",
       "       -17.62495252, -17.62004882, -17.61516054, -17.61029612,\n",
       "       -17.60544959, -17.60061165, -17.59579717, -17.59099781,\n",
       "       -17.58621921, -17.58146   , -17.57672219, -17.57200246,\n",
       "       -17.56729276, -17.56259802, -17.55792264, -17.55326355,\n",
       "       -17.54862617, -17.54399674, -17.53939674, -17.53480312,\n",
       "       -17.53023181, -17.52567357, -17.52112157, -17.51659935,\n",
       "       -17.51209272, -17.50759871, -17.50311656, -17.49865285,\n",
       "       -17.49420545, -17.48976905, -17.48534788, -17.48093897,\n",
       "       -17.47655944, -17.47218572, -17.46782592, -17.46348356,\n",
       "       -17.45915681, -17.45484697, -17.45054233, -17.44625837,\n",
       "       -17.44198427, -17.43773161, -17.43348892, -17.42925109,\n",
       "       -17.42503935, -17.42083398, -17.41664706, -17.41246914,\n",
       "       -17.40831154, -17.40416356, -17.40002974, -17.39590808,\n",
       "       -17.39179267, -17.38769956, -17.38361312, -17.37954091,\n",
       "       -17.37548302, -17.3714366 , -17.36740686, -17.36338486,\n",
       "       -17.35938286, -17.35538693, -17.35141139, -17.34743931,\n",
       "       -17.34347939, -17.3395342 , -17.33559422, -17.33167554,\n",
       "       -17.32775932, -17.32386168, -17.31997142, -17.31609947,\n",
       "       -17.31223492, -17.30837613, -17.30453694, -17.30071053,\n",
       "       -17.29689363, -17.29308146, -17.28929035, -17.2855028 ,\n",
       "       -17.28172903, -17.27796454, -17.2742031 , -17.2704638 ,\n",
       "       -17.2667333 , -17.26301766, -17.25930644, -17.25561008,\n",
       "       -17.25191941, -17.24823883, -17.24457114, -17.24091215,\n",
       "       -17.23726715, -17.23362772, -17.23000158, -17.22638037,\n",
       "       -17.22277269, -17.21917354, -17.21558153, -17.21200416,\n",
       "       -17.20844314, -17.20488728, -17.20133597, -17.19780039,\n",
       "       -17.19426691, -17.19075137, -17.18723881, -17.18374158,\n",
       "       -17.18024969, -17.17677181, -17.17330034, -17.16983123,\n",
       "       -17.16637993, -17.16293341, -17.15949882, -17.15606831,\n",
       "       -17.15265663, -17.14924602, -17.14584737, -17.14245592,\n",
       "       -17.13906536, -17.13569309, -17.13232966, -17.12897488,\n",
       "       -17.12562222, -17.12228759, -17.11895363, -17.11563057,\n",
       "       -17.11231509, -17.10901372, -17.1057165 , -17.10242712,\n",
       "       -17.09914796, -17.09587459, -17.09261329, -17.08935406,\n",
       "       -17.0861032 , -17.08285994, -17.07963226, -17.07640642,\n",
       "       -17.07318779, -17.06997917, -17.06677633, -17.06358474,\n",
       "       -17.06039772, -17.05722297, -17.05404914, -17.05089105,\n",
       "       -17.04773504, -17.0445886 , -17.04144715, -17.03832144,\n",
       "       -17.03519625, -17.03207868, -17.02896958, -17.02587297,\n",
       "       -17.02277979, -17.01968888, -17.01661142, -17.013534  ,\n",
       "       -17.01047215, -17.00741043, -17.00435586, -17.00130938,\n",
       "       -16.99827638, -16.99524513, -16.99221669, -16.9892005 ,\n",
       "       -16.98619109, -16.98318982, -16.98018931, -16.97720279,\n",
       "       -16.97422098, -16.97124818, -16.96827608, -16.96531063,\n",
       "       -16.96235296, -16.95940725, -16.95646386, -16.95353172,\n",
       "       -16.95060247, -16.94768091, -16.94476566, -16.94185035,\n",
       "       -16.93894895, -16.93605453, -16.93316557, -16.93027755,\n",
       "       -16.92740288, -16.92452842, -16.92166395, -16.91880292,\n",
       "       -16.91594301, -16.91309528, -16.91025708, -16.90742251,\n",
       "       -16.90459396, -16.90177243, -16.89895897, -16.89615036,\n",
       "       -16.89334254, -16.89054671, -16.88775391, -16.88496835,\n",
       "       -16.88218467, -16.87940978, -16.87663864, -16.8738769 ,\n",
       "       -16.87111817, -16.86836579, -16.86561935, -16.86288105,\n",
       "       -16.86014679, -16.85741497, -16.85469277, -16.85197435,\n",
       "       -16.8492624 , -16.84655152, -16.84385311, -16.84115408,\n",
       "       -16.83846474, -16.8357774 , -16.83309582, -16.83042009,\n",
       "       -16.82775299, -16.82508876, -16.82243664, -16.81978484,\n",
       "       -16.81713963, -16.8144981 , -16.81185821, -16.80922787,\n",
       "       -16.80660335, -16.80398264, -16.80136264, -16.79875439,\n",
       "       -16.79615023, -16.79355065, -16.79095252, -16.78836597,\n",
       "       -16.78578051, -16.78320175, -16.7806251 , -16.77805987,\n",
       "       -16.77549396, -16.77293569, -16.77038015, -16.76782502,\n",
       "       -16.7652799 , -16.7627418 , -16.760207  , -16.75767419,\n",
       "       -16.75514963, -16.7526285 , -16.75011287, -16.74759758,\n",
       "       -16.74509324, -16.74259459, -16.74009869, -16.73760343,\n",
       "       -16.73511896, -16.7326338 , -16.7301569 , -16.72768132,\n",
       "       -16.72520607, -16.72274021, -16.72028225, -16.71782603,\n",
       "       -16.71537683, -16.71293016, -16.71048954, -16.70805235,\n",
       "       -16.70561441, -16.70318663, -16.70076567, -16.69834703,\n",
       "       -16.69592758, -16.69351837, -16.69110928, -16.68870871,\n",
       "       -16.68630767, -16.68391672, -16.68152854, -16.67914578,\n",
       "       -16.67676284, -16.6743878 , -16.6720138 , -16.66964861,\n",
       "       -16.66728349, -16.66492413, -16.66256781, -16.66021992])"
      ]
     },
     "execution_count": 56,
     "metadata": {},
     "output_type": "execute_result"
    }
   ],
   "source": [
    "V"
   ]
  },
  {
   "cell_type": "markdown",
   "metadata": {},
   "source": [
    "## 4.5 Extracting the policy function\n",
    "Since we have our value function, we can extract the policy function using\n",
    "\\begin{align}\n",
    "p(k) = \\text{arg}\\max_{k'} u(k^{0.3} + 0.5 k - k') + \\beta V(k').\n",
    "\\end{align}"
   ]
  },
  {
   "cell_type": "code",
   "execution_count": 132,
   "metadata": {},
   "outputs": [],
   "source": [
    "def extract_policy(V):\n",
    "    \"\"\"\n",
    "    input:\n",
    "    V: value function array\n",
    "    \n",
    "    output:\n",
    "    p: polcy function array\n",
    "    \"\"\"\n",
    "    p = np.zeros_like(V)\n",
    "    \n",
    "    for i in range(len(p)):\n",
    "        k = k_grid[i]\n",
    "        candidate = u(k**0.3 + 0.5*k - k_grid[0]) + beta * V[0]\n",
    "        for j in range(len(k_grid)):\n",
    "            if candidate < u(k**0.3 + 0.5*k - k_grid[j]) + beta * V[j] < np.max(V):\n",
    "                candidate = u(k**0.3 + 0.5*k - k_grid[j]) + beta * V[j]\n",
    "                p[i] = k_grid[j]\n",
    "\n",
    "    return p"
   ]
  },
  {
   "cell_type": "code",
   "execution_count": 133,
   "metadata": {},
   "outputs": [
    {
     "data": {
      "image/png": "[encoded data removed]",
      "text/plain": [
       "<Figure size 432x288 with 1 Axes>"
      ]
     },
     "metadata": {},
     "output_type": "display_data"
    }
   ],
   "source": [
    "plt.figure()\n",
    "plt.plot(k_grid, extract_policy(V))\n",
    "plt.xlabel('k')\n",
    "plt.ylabel(\"k'\")\n",
    "plt.title('Policy function')\n",
    "plt.show();"
   ]
  },
  {
   "cell_type": "code",
   "execution_count": null,
   "metadata": {},
   "outputs": [],
   "source": []
  },
  {
   "cell_type": "code",
   "execution_count": null,
   "metadata": {},
   "outputs": [],
   "source": []
  },
  {
   "cell_type": "code",
   "execution_count": null,
   "metadata": {},
   "outputs": [],
   "source": []
  }
 ],
 "metadata": {
  "kernelspec": {
   "display_name": "Python 3",
   "language": "python",
   "name": "python3"
  },
  "language_info": {
   "codemirror_mode": {
    "name": "ipython",
    "version": 3
   },
   "file_extension": ".py",
   "mimetype": "text/x-python",
   "name": "python",
   "nbconvert_exporter": "python",
   "pygments_lexer": "ipython3",
   "version": "3.6.4"
  }
 },
 "nbformat": 4,
 "nbformat_minor": 2
}
