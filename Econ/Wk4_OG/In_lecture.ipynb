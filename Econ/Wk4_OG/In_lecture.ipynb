{
 "cells": [
  {
   "cell_type": "code",
   "execution_count": null,
   "metadata": {},
   "outputs": [],
   "source": [
    "import numpy as np"
   ]
  },
  {
   "cell_type": "code",
   "execution_count": null,
   "metadata": {},
   "outputs": [],
   "source": [
    "def get_L(n1, n2, n3):\n",
    "    L = n1 + n2 + n3\n",
    "    return L\n",
    "\n",
    "def get_K(b2, b3):\n",
    "    K = b3 + b3\n",
    "    return K\n",
    "\n",
    "def get_r(K, L, params): # use params as argument, dont use global variables\n",
    "    α, A, delta = params\n",
    "    \n",
    "    return r"
   ]
  }
 ],
 "metadata": {
  "kernelspec": {
   "display_name": "Python 3",
   "language": "python",
   "name": "python3"
  },
  "language_info": {
   "codemirror_mode": {
    "name": "ipython",
    "version": 3
   },
   "file_extension": ".py",
   "mimetype": "text/x-python",
   "name": "python",
   "nbconvert_exporter": "python",
   "pygments_lexer": "ipython3",
   "version": "3.7.3"
  }
 },
 "nbformat": 4,
 "nbformat_minor": 2
}
