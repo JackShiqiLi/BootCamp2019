{
 "cells": [
  {
   "cell_type": "code",
   "execution_count": 1,
   "metadata": {},
   "outputs": [],
   "source": [
    "import numpy as np"
   ]
  },
  {
   "cell_type": "code",
   "execution_count": 2,
   "metadata": {},
   "outputs": [
    {
     "name": "stdout",
     "output_type": "stream",
     "text": [
      "[[ 37  14 -32 -10]\n",
      " [-54  -7  58  65]]\n"
     ]
    }
   ],
   "source": [
    "# Problem 1\n",
    "\n",
    "A = np.array([[3, -1, 4],\n",
    "              [1, 5, -9]])\n",
    "\n",
    "B = np.array([[2, 6, -5, 3],\n",
    "              [5, -8, 9, 7],\n",
    "              [9, -3, -2, -3]])\n",
    "\n",
    "AB = A @ B\n",
    "print(AB)"
   ]
  },
  {
   "cell_type": "code",
   "execution_count": 3,
   "metadata": {},
   "outputs": [
    {
     "name": "stdout",
     "output_type": "stream",
     "text": [
      "[[0 0 0]\n",
      " [0 0 0]\n",
      " [0 0 0]]\n"
     ]
    }
   ],
   "source": [
    "# Problem 2\n",
    "\n",
    "def Cayley_Hamilton(matrix):\n",
    "    '''input a matrix A, return -A**3 + 9*A**2 -15*A'''\n",
    "    A = np.array(matrix)\n",
    "    return -np.linalg.matrix_power(A, 3) + 9*A@A - 15*A \n",
    "\n",
    "A_list = [[3, 1, 4],\n",
    "          [1, 5, 9],\n",
    "          [-5, 3, 1]]\n",
    "\n",
    "print(Cayley_Hamilton(A_list))"
   ]
  },
  {
   "cell_type": "code",
   "execution_count": 4,
   "metadata": {},
   "outputs": [
    {
     "name": "stdout",
     "output_type": "stream",
     "text": [
      "[[ -7  -8  -3   8  25  48  77]\n",
      " [ -6 -12 -12  -6   6  24  48]\n",
      " [ -5 -10 -15 -14  -7   6  25]\n",
      " [ -4  -8 -12 -16 -14  -6   8]\n",
      " [ -3  -6  -9 -12 -15 -12  -3]\n",
      " [ -2  -4  -6  -8 -10 -12  -8]\n",
      " [ -1  -2  -3  -4  -5  -6  -7]]\n"
     ]
    }
   ],
   "source": [
    "# Problem 3\n",
    "\n",
    "def problem_3():\n",
    "    A = np.triu(np.ones((7, 7)))\n",
    "    B = -np.tril(np.ones((7, 7))) + np.triu(np.full((7, 7), 5)) - 5 * np.eye(7)\n",
    "    return np.int64(A @ B @ A)\n",
    "\n",
    "print(problem_3())"
   ]
  },
  {
   "cell_type": "code",
   "execution_count": 5,
   "metadata": {},
   "outputs": [
    {
     "name": "stdout",
     "output_type": "stream",
     "text": [
      "[0 2 5 0]\n"
     ]
    }
   ],
   "source": [
    "# Problem 4\n",
    "\n",
    "def problem_4(array):\n",
    "    A = array.copy()\n",
    "    A[A < 0] = 0\n",
    "    return A\n",
    "\n",
    "print(problem_4(np.array([-1, 2, 5, -45])))"
   ]
  },
  {
   "cell_type": "code",
   "execution_count": 6,
   "metadata": {},
   "outputs": [
    {
     "name": "stdout",
     "output_type": "stream",
     "text": [
      "[[ 0.  0.  0.  1.  1.  1.  1.]\n",
      " [ 0.  0.  2.  3.  1.  1.  1.]\n",
      " [ 0.  0.  4.  5.  1.  1.  1.]\n",
      " [ 0.  2.  4.  0.  0.  0.  0.]\n",
      " [ 1.  3.  5.  0.  0.  0.  0.]\n",
      " [ 3.  0.  0.  0. -2. -0. -0.]\n",
      " [ 3.  3.  0.  0. -0. -2. -0.]\n",
      " [ 3.  3.  3.  0. -0. -0. -2.]]\n"
     ]
    }
   ],
   "source": [
    "# Problem 5\n",
    "\n",
    "def problem_5():\n",
    "    A = np.arange(6).reshape(3, 2).T\n",
    "    B = np.tril(np.full((3,3),3))\n",
    "    C = -2 * np.eye(3)\n",
    "    I = np.ones((3,3))\n",
    "    first_row = np.hstack((np.zeros(6).reshape((3,-1)), A.T, I))\n",
    "    second_row = np.hstack((A, np.zeros((2, 4))))\n",
    "    third_row = np.column_stack((B, np.zeros(3), C))\n",
    "    return np.vstack((first_row, second_row, third_row))\n",
    "    \n",
    "print(problem_5())"
   ]
  },
  {
   "cell_type": "code",
   "execution_count": 7,
   "metadata": {},
   "outputs": [
    {
     "name": "stdout",
     "output_type": "stream",
     "text": [
      "[[0.         0.1        0.2        0.3        0.4       ]\n",
      " [0.14285714 0.17142857 0.2        0.22857143 0.25714286]\n",
      " [0.16666667 0.18333333 0.2        0.21666667 0.23333333]\n",
      " [0.17647059 0.18823529 0.2        0.21176471 0.22352941]]\n"
     ]
    }
   ],
   "source": [
    "# Problem 6\n",
    "\n",
    "def problem_6(matrix):\n",
    "    '''input matrix, return row-stochastic matrix,\n",
    "    matrix entries should be positive'''\n",
    "    row_sum = matrix.sum(axis = 1)\n",
    "    return matrix / row_sum.reshape((matrix.shape[0],1))\n",
    "\n",
    "A_matrix = np.arange(20).reshape((4,5))\n",
    "\n",
    "print(problem_6(A_matrix))"
   ]
  },
  {
   "cell_type": "code",
   "execution_count": 8,
   "metadata": {},
   "outputs": [
    {
     "name": "stdout",
     "output_type": "stream",
     "text": [
      "51267216\n"
     ]
    }
   ],
   "source": [
    "# Problem 7\n",
    "\n",
    "def problem_7(grid):\n",
    "    '''\n",
    "    input grid, \n",
    "    return the greatest product of four adjacent numbers in the same direction'''\n",
    "    right_max = np.max(grid[:, :-3] * grid[:, 1:-2] * grid[:, 2:-1] * grid[:, 3:])\n",
    "    left_max = np.max(grid[:, 3:] * grid[:, 2:-1] * grid[:, 1:-2] * grid[:, :-3])\n",
    "    down_max = np.max(grid[:-3, :] * grid[1:-2, :] * grid[2:-1, :] * grid[3:, :])\n",
    "    up_max = np.max(grid[3:, :] * grid[2:-1, :] * grid[1:-2, :] * grid[:-3, :])\n",
    "    right_diag_max = np.max(grid[:-3, :-3] * grid[1:-2, 1:-2] * grid[2:-1, 2:-1] * grid[3:, 3:])\n",
    "    left_diag_max = np.max(grid[3:, 3:] * grid[2:-1, 2:-1] * grid[1:-2, 1:-2] * grid[:-3, :-3])\n",
    "    \n",
    "    return np.max((right_max, left_max, down_max, up_max, right_diag_max, left_diag_max))\n",
    "\n",
    "grid = np.load('grid.npy')\n",
    "print(problem_7(grid))"
   ]
  }
 ],
 "metadata": {
  "kernelspec": {
   "display_name": "Python 3",
   "language": "python",
   "name": "python3"
  },
  "language_info": {
   "codemirror_mode": {
    "name": "ipython",
    "version": 3
   },
   "file_extension": ".py",
   "mimetype": "text/x-python",
   "name": "python",
   "nbconvert_exporter": "python",
   "pygments_lexer": "ipython3",
   "version": "3.6.4"
  }
 },
 "nbformat": 4,
 "nbformat_minor": 2
}
