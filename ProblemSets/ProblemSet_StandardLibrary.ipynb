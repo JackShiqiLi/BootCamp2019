{
 "cells": [
  {
   "cell_type": "code",
   "execution_count": 32,
   "metadata": {},
   "outputs": [],
   "source": [
    "import numpy as np"
   ]
  },
  {
   "cell_type": "code",
   "execution_count": 1,
   "metadata": {},
   "outputs": [
    {
     "data": {
      "text/plain": [
       "(0, 9, 4.5)"
      ]
     },
     "execution_count": 1,
     "metadata": {},
     "output_type": "execute_result"
    }
   ],
   "source": [
    "# Problem 1\n",
    "\n",
    "min_max_average = lambda list: (min(list), max(list), sum(list)/len(list))\n",
    "min_max_average(range(10))"
   ]
  },
  {
   "cell_type": "code",
   "execution_count": 25,
   "metadata": {},
   "outputs": [
    {
     "name": "stdout",
     "output_type": "stream",
     "text": [
      "<class 'int'> is immutable\n",
      "<class 'str'> is immutable\n",
      "<class 'list'> is mutable\n",
      "<class 'tuple'> is immutable\n",
      "<class 'set'> is mutable\n"
     ]
    }
   ],
   "source": [
    "# Problem 2\n",
    "\n",
    "def mutable(object_1, object_2):\n",
    "    if object_1 == object_2:\n",
    "        return '%s is mutable' % type(object_1)\n",
    "    else:\n",
    "        return '%s is immutable' % type(object_1)\n",
    "    \n",
    "int_1 = 1\n",
    "int_2 = int_1\n",
    "int_2 = 2\n",
    "print(mutable(int_1, int_2))\n",
    "\n",
    "str_1 = 'abc'\n",
    "str_2 = str_1\n",
    "str_2 = 'bcd'\n",
    "print(mutable(str_1, str_2))\n",
    "\n",
    "list_1 = list(range(3))\n",
    "list_2 = list_1\n",
    "list_2[0] = 10\n",
    "print(mutable(list_1, list_2))\n",
    "\n",
    "tuple_1 = tuple(range(3))\n",
    "tuple_2 = tuple_1\n",
    "tuple_2 += (1,)\n",
    "print(mutable(tuple_1, tuple_2))\n",
    "\n",
    "set_1 = {0, 1, 2}\n",
    "set_2 = set_1\n",
    "set_2.add(3)\n",
    "print(mutable(set_1, set_2))"
   ]
  },
  {
   "cell_type": "code",
   "execution_count": 28,
   "metadata": {},
   "outputs": [
    {
     "name": "stdout",
     "output_type": "stream",
     "text": [
      "5.0\n"
     ]
    }
   ],
   "source": [
    "# Problem 3\n",
    "\n",
    "import calculator as calc\n",
    "\n",
    "def hypotenuse(a, b):\n",
    "    '''take the two perpendicular sides of the right triangle\n",
    "    return the hypothenuse length'''\n",
    "    return calc.sqrt(calc.summation(calc.product(a,a),calc.product(b,b)))\n",
    "\n",
    "print(hypotenuse(3, 4))"
   ]
  },
  {
   "cell_type": "code",
   "execution_count": 45,
   "metadata": {},
   "outputs": [
    {
     "data": {
      "text/plain": [
       "[set(), {1}, {2}, {3}, {1, 2}, {1, 3}, {2, 3}]"
      ]
     },
     "execution_count": 45,
     "metadata": {},
     "output_type": "execute_result"
    }
   ],
   "source": [
    "# Problem 4\n",
    "\n",
    "from itertools import combinations, permutations\n",
    "\n",
    "def power_set(A):\n",
    "    '''A is iterable'''\n",
    "    power_list = []\n",
    "    for i in range(len(A)):\n",
    "        for j in list(combinations(A, i)):\n",
    "            power_list.append(set(j))\n",
    "    return power_list\n",
    "\n",
    "power_set([1,2,3])"
   ]
  }
 ],
 "metadata": {
  "kernelspec": {
   "display_name": "Python 3",
   "language": "python",
   "name": "python3"
  },
  "language_info": {
   "codemirror_mode": {
    "name": "ipython",
    "version": 3
   },
   "file_extension": ".py",
   "mimetype": "text/x-python",
   "name": "python",
   "nbconvert_exporter": "python",
   "pygments_lexer": "ipython3",
   "version": "3.6.4"
  }
 },
 "nbformat": 4,
 "nbformat_minor": 2
}
