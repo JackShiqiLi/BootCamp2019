{
 "cells": [
  {
   "cell_type": "code",
   "execution_count": 56,
   "metadata": {},
   "outputs": [],
   "source": [
    "import numpy as np\n",
    "import matplotlib.pyplot as plt\n",
    "from scipy.optimize import root"
   ]
  },
  {
   "cell_type": "code",
   "execution_count": 7,
   "metadata": {},
   "outputs": [
    {
     "name": "stdout",
     "output_type": "stream",
     "text": [
      "(0.6931471805600254, True)\n",
      "(1.3160740129543826, True)\n"
     ]
    }
   ],
   "source": [
    "# Problem 1\n",
    "\n",
    "def Newton(f, x0, f_prime, tol = 1e-5, max_iter = 15):\n",
    "    i = 0\n",
    "    x = x0\n",
    "    converge = False\n",
    "    while i < max_iter:\n",
    "        next_x = x - f(x) / f_prime(x)\n",
    "        if abs(next_x - x) < tol:\n",
    "            converge = True\n",
    "            break\n",
    "        i += 1\n",
    "        x = next_x\n",
    "    return next_x, converge\n",
    "\n",
    "f  = lambda x: np.exp(x) - 2\n",
    "f_prime = lambda x: np.exp(x)\n",
    "\n",
    "g = lambda x: x**4 - 3\n",
    "g_prime = lambda x: 4*x**3\n",
    "\n",
    "print(Newton(f, 0, f_prime))\n",
    "print(Newton(g, 1, g_prime))"
   ]
  },
  {
   "cell_type": "code",
   "execution_count": 37,
   "metadata": {},
   "outputs": [
    {
     "name": "stdout",
     "output_type": "stream",
     "text": [
      "(-3276.7999999999897, False, 15)\n",
      "(0.09999970000000001, True, 0)\n"
     ]
    }
   ],
   "source": [
    "# Problem 3\n",
    "\n",
    "def Newton_backtracking(f, x0, f_prime, tol = 1e-5, max_iter = 15, α = 1):\n",
    "    i = 0\n",
    "    x = x0\n",
    "    converge = False\n",
    "    while i < max_iter:\n",
    "        next_x = x - α * f(x) / f_prime(x)\n",
    "        if abs(next_x - x) < tol:\n",
    "            converge = True\n",
    "            break\n",
    "        i += 1\n",
    "        x = next_x\n",
    "    return next_x, converge, i # keep track of number of iterations to use in the next problem.\n",
    "\n",
    "f = lambda x: np.sign(x) * np.power(np.abs(x), 1./3)\n",
    "f_prime = lambda x: 1/3 * np.power(np.abs(x), -2./3)\n",
    "\n",
    "print(Newton_backtracking(f, 0.1, f_prime))\n",
    "print(Newton_backtracking(f, 0.1, f_prime, α = 0.4))"
   ]
  },
  {
   "cell_type": "code",
   "execution_count": 49,
   "metadata": {},
   "outputs": [
    {
     "data": {
      "image/png": "[encoded data removed]",
      "text/plain": [
       "<Figure size 432x288 with 1 Axes>"
      ]
     },
     "metadata": {},
     "output_type": "display_data"
    }
   ],
   "source": [
    "# Problem 4\n",
    "\n",
    "def effect_of_α(f, x0, f_prime, N, tol = 1e-5, max_iter = 15):\n",
    "    '''generate N α within the range of 0 to 1'''\n",
    "    αs = np.linspace(1e-1, 1, N) # if alpha is set too near to 0, then the Newton shows convergence in 0 iteration, \n",
    "                                 # but it is not a true convergence to the answer, \n",
    "                                 # only because we are substracting a too small number from the current x.\n",
    "    iterations = []\n",
    "    for i in αs:\n",
    "        iteration = Newton_backtracking(f, x0, f_prime, tol = tol, max_iter = max_iter, α = i)[2]\n",
    "        iterations.append(iteration)\n",
    "    return αs, iterations\n",
    "\n",
    "f = lambda x: np.sign(x) * np.power(np.abs(x), 1./3)\n",
    "f_prime = lambda x: 1/3 * np.power(np.abs(x), -2./3)\n",
    "result = effect_of_α(f, 1, f_prime, 100, tol = 1e-5, max_iter = 50)\n",
    "\n",
    "plt.plot(result[0],result[1])\n",
    "plt.xlabel('α')\n",
    "plt.ylabel('number of iterations')\n",
    "plt.show()\n"
   ]
  },
  {
   "cell_type": "code",
   "execution_count": 107,
   "metadata": {},
   "outputs": [
    {
     "data": {
      "image/png": "[encoded data removed]",
      "text/plain": [
       "<Figure size 432x288 with 1 Axes>"
      ]
     },
     "metadata": {},
     "output_type": "display_data"
    },
    {
     "data": {
      "image/png": "[encoded data removed]",
      "text/plain": [
       "<Figure size 432x288 with 1 Axes>"
      ]
     },
     "metadata": {},
     "output_type": "display_data"
    }
   ],
   "source": [
    "# Problem 7\n",
    "\n",
    "def basins_of_attraction(f, f_prime, zeros, bounds, res, iters):\n",
    "    zeros = np.array(zeros)\n",
    "    rmin, rmax, imin, imax = bounds\n",
    "    rr = np.linspace(rmin, rmax, res)\n",
    "    ii = np.linspace(imin, imax, res)\n",
    "    R, I = np.meshgrid(rr, ii)\n",
    "    X0 = R + I * 1j\n",
    "    X = X0\n",
    "    \n",
    "    for i in range(iters):\n",
    "        nextX = X - f(X) / f_prime(X)\n",
    "        X = nextX   \n",
    "    Y = np.zeros_like(X, dtype = 'int64')\n",
    "    \n",
    "    for i in range(res):\n",
    "        for j in range(res):\n",
    "            Y[i][j] = np.argmin(abs(zeros - X[i][j]))\n",
    "            \n",
    "    plt.pcolormesh(R, I, Y, cmap = 'brg')\n",
    "    plt.show()\n",
    "\n",
    "f = lambda x: x**3 - 1\n",
    "f_prime = lambda x: 3*x**2\n",
    "f_zeros = [1, -0.5 + 1j * np.sqrt(3) / 2, -0.5 - 1j * np.sqrt(3) / 2]\n",
    "g = lambda x: x**3 - x\n",
    "g_prime = lambda x: 3*x**2 - 1\n",
    "g_zeros = [0, 1, -1]\n",
    "\n",
    "bounds = (-1.5, 1.5, -1.5, 1.5)\n",
    "res = 500\n",
    "iters = 20\n",
    "\n",
    "basins_of_attraction(f, f_prime, f_zeros, bounds, res, iters)\n",
    "basins_of_attraction(g, g_prime, g_zeros, bounds, res, iters)"
   ]
  }
 ],
 "metadata": {
  "kernelspec": {
   "display_name": "Python 3",
   "language": "python",
   "name": "python3"
  },
  "language_info": {
   "codemirror_mode": {
    "name": "ipython",
    "version": 3
   },
   "file_extension": ".py",
   "mimetype": "text/x-python",
   "name": "python",
   "nbconvert_exporter": "python",
   "pygments_lexer": "ipython3",
   "version": "3.6.4"
  }
 },
 "nbformat": 4,
 "nbformat_minor": 2
}
