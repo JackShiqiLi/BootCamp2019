{
 "cells": [
  {
   "cell_type": "code",
   "execution_count": 24,
   "metadata": {},
   "outputs": [],
   "source": [
    "# Problem 1\n",
    "\n",
    "class Backpack:\n",
    "    '''\n",
    "    A backpack that has a maximum size, can add items, remove items, and to be dumped.\n",
    "    '''\n",
    "    \n",
    "    def __init__(self, name, color, max_size = 5):\n",
    "        '''initiate the backpack with name, color and maximum size'''\n",
    "        self.name = name\n",
    "        self.contents = []\n",
    "        self.color = color\n",
    "        self.max_size = max_size\n",
    "        \n",
    "    def put(self, item):\n",
    "        '''put item in backpack if there is still space'''\n",
    "        if len(self.contents) < self.max_size:\n",
    "            self.contents.append(item)\n",
    "        else:\n",
    "            print('No Room!')\n",
    "        \n",
    "    def take(self, item):\n",
    "        self.contents.remove(item)\n",
    "        return self.contents\n",
    "        \n",
    "    def dump(self):\n",
    "        '''dump everything in the backpack'''\n",
    "        self.contents = []\n",
    "        return self.contents\n",
    "    \n",
    "def test_backpack():\n",
    "    testpack = Backpack(\"Barry\", \"black\") # Instantiate the object.\n",
    "    if testpack.name != \"Barry\": # Test an attribute.\n",
    "        print(\"Backpack.name assigned incorrectly\")\n",
    "    for item in [\"pencil\", \"pen\", \"paper\", \"computer\"]:\n",
    "        testpack.put(item) # Test a method.\n",
    "    print(\"Contents:\", testpack.contents)\n",
    "    testpack.dump()\n",
    "    if testpack.contents != []:\n",
    "        print('dump not working')"
   ]
  },
  {
   "cell_type": "code",
   "execution_count": 25,
   "metadata": {},
   "outputs": [
    {
     "name": "stdout",
     "output_type": "stream",
     "text": [
      "Contents: ['pencil', 'pen', 'paper', 'computer']\n"
     ]
    }
   ],
   "source": [
    "test_backpack()"
   ]
  },
  {
   "cell_type": "code",
   "execution_count": 29,
   "metadata": {},
   "outputs": [],
   "source": [
    "# Problem 2\n",
    "\n",
    "class Jetpack(Backpack):\n",
    "    '''\n",
    "    A pack that carries some stuff and also carries fuel, and you can fly if there is more fuel in the Jectpack than you need\n",
    "    '''\n",
    "    \n",
    "    def __init__(self, name, color, max_size = 2, fuel = 10):\n",
    "        '''\n",
    "        initiate the Jectpack with name, color, maximum size and amount of fuel\n",
    "        '''\n",
    "        self.name = name\n",
    "        self.color = color\n",
    "        self.contents = []\n",
    "        self.max_size = max_size\n",
    "        self.fuel = fuel\n",
    "        \n",
    "    def fly(self, burn_fuel):\n",
    "        '''\n",
    "        input: the amount of fuel you need for the flight\n",
    "        if fuel not enough for the flight, you will be notified.\n",
    "        '''\n",
    "        if burn_fuel < self.fuel:\n",
    "            self.fuel = burn_fuel\n",
    "        else:\n",
    "            print('Not enough fuel!')\n",
    "        return self.fuel\n",
    "    \n",
    "    def dump(self):\n",
    "        '''\n",
    "        dump both the content in the Jectpack and the fuel in the Jet pack\n",
    "        '''\n",
    "        self.content = []\n",
    "        self.fuel = 0\n",
    "        return Jetpack(self.name, self.color, self.max_size, self.fuel)"
   ]
  },
  {
   "cell_type": "code",
   "execution_count": 35,
   "metadata": {},
   "outputs": [
    {
     "name": "stdout",
     "output_type": "stream",
     "text": [
      "JT blue 5 100\n",
      "['apple', 'laptop', 'python', 'matlab', 'C++']\n",
      "No Room!\n",
      "['apple', 'laptop', 'python', 'matlab', 'C++']\n",
      "Not enough fuel!\n",
      "50 50\n",
      "[] 0\n"
     ]
    }
   ],
   "source": [
    "test_jet = Jetpack('JT', 'blue', 5, 100)\n",
    "print(test_jet.name, test_jet.color, test_jet.max_size, test_jet.fuel)\n",
    "for item in ['apple', 'laptop', 'python', 'matlab', 'C++']:\n",
    "    test_jet.put(item)\n",
    "print(test_jet.contents)\n",
    "test_jet.put(['Julia'])\n",
    "print(test_jet.contents)\n",
    "print(test_jet.fly(50), test_jet.fly(150))\n",
    "print(test_jet.dump().contents, test_jet.dump().fuel)\n",
    "\n",
    "# all works"
   ]
  }
 ],
 "metadata": {
  "kernelspec": {
   "display_name": "Python 3",
   "language": "python",
   "name": "python3"
  },
  "language_info": {
   "codemirror_mode": {
    "name": "ipython",
    "version": 3
   },
   "file_extension": ".py",
   "mimetype": "text/x-python",
   "name": "python",
   "nbconvert_exporter": "python",
   "pygments_lexer": "ipython3",
   "version": "3.6.4"
  }
 },
 "nbformat": 4,
 "nbformat_minor": 2
}
