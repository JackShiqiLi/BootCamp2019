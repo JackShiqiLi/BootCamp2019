{
 "cells": [
  {
   "cell_type": "code",
   "execution_count": 150,
   "metadata": {},
   "outputs": [],
   "source": [
    "import pandas as pd\n",
    "import numpy as np\n",
    "from scipy import optimize as opt\n",
    "import matplotlib.pyplot as plt"
   ]
  },
  {
   "cell_type": "code",
   "execution_count": 166,
   "metadata": {},
   "outputs": [
    {
     "data": {
      "text/html": [
       "<div>\n",
       "<style scoped>\n",
       "    .dataframe tbody tr th:only-of-type {\n",
       "        vertical-align: middle;\n",
       "    }\n",
       "\n",
       "    .dataframe tbody tr th {\n",
       "        vertical-align: top;\n",
       "    }\n",
       "\n",
       "    .dataframe thead th {\n",
       "        text-align: right;\n",
       "    }\n",
       "</style>\n",
       "<table border=\"1\" class=\"dataframe\">\n",
       "  <thead>\n",
       "    <tr style=\"text-align: right;\">\n",
       "      <th></th>\n",
       "      <th>DATE</th>\n",
       "      <th>PCECC96</th>\n",
       "      <th>WILL5000IND</th>\n",
       "      <th>GDPDEF</th>\n",
       "      <th>TB3MS</th>\n",
       "    </tr>\n",
       "  </thead>\n",
       "  <tbody>\n",
       "    <tr>\n",
       "      <th>0</th>\n",
       "      <td>1971-01-01</td>\n",
       "      <td>3156.978</td>\n",
       "      <td>NaN</td>\n",
       "      <td>22.391</td>\n",
       "      <td>3.840000</td>\n",
       "    </tr>\n",
       "    <tr>\n",
       "      <th>1</th>\n",
       "      <td>1971-04-01</td>\n",
       "      <td>3185.993</td>\n",
       "      <td>1.136667</td>\n",
       "      <td>22.685</td>\n",
       "      <td>4.250000</td>\n",
       "    </tr>\n",
       "    <tr>\n",
       "      <th>2</th>\n",
       "      <td>1971-07-01</td>\n",
       "      <td>3211.394</td>\n",
       "      <td>1.113333</td>\n",
       "      <td>22.916</td>\n",
       "      <td>5.010000</td>\n",
       "    </tr>\n",
       "    <tr>\n",
       "      <th>3</th>\n",
       "      <td>1971-10-01</td>\n",
       "      <td>3264.679</td>\n",
       "      <td>1.113333</td>\n",
       "      <td>23.107</td>\n",
       "      <td>4.230000</td>\n",
       "    </tr>\n",
       "    <tr>\n",
       "      <th>4</th>\n",
       "      <td>1972-01-01</td>\n",
       "      <td>3307.767</td>\n",
       "      <td>1.240000</td>\n",
       "      <td>23.458</td>\n",
       "      <td>3.436667</td>\n",
       "    </tr>\n",
       "  </tbody>\n",
       "</table>\n",
       "</div>"
      ],
      "text/plain": [
       "         DATE   PCECC96  WILL5000IND  GDPDEF     TB3MS\n",
       "0  1971-01-01  3156.978          NaN  22.391  3.840000\n",
       "1  1971-04-01  3185.993     1.136667  22.685  4.250000\n",
       "2  1971-07-01  3211.394     1.113333  22.916  5.010000\n",
       "3  1971-10-01  3264.679     1.113333  23.107  4.230000\n",
       "4  1972-01-01  3307.767     1.240000  23.458  3.436667"
      ]
     },
     "execution_count": 166,
     "metadata": {},
     "output_type": "execute_result"
    }
   ],
   "source": [
    "data = pd.read_csv('data.csv', na_values = '.')\n",
    "data['PCECC96'] = pd.to_numeric(data['PCECC96'])\n",
    "data['WILL5000IND'] = pd.to_numeric(data['WILL5000IND'])\n",
    "data['GDPDEF'] = pd.to_numeric(data['GDPDEF'])\n",
    "data['TB3MS'] = pd.to_numeric(data['TB3MS'])\n",
    "data.head(5)"
   ]
  },
  {
   "cell_type": "code",
   "execution_count": 167,
   "metadata": {},
   "outputs": [
    {
     "data": {
      "text/html": [
       "<div>\n",
       "<style scoped>\n",
       "    .dataframe tbody tr th:only-of-type {\n",
       "        vertical-align: middle;\n",
       "    }\n",
       "\n",
       "    .dataframe tbody tr th {\n",
       "        vertical-align: top;\n",
       "    }\n",
       "\n",
       "    .dataframe thead th {\n",
       "        text-align: right;\n",
       "    }\n",
       "</style>\n",
       "<table border=\"1\" class=\"dataframe\">\n",
       "  <thead>\n",
       "    <tr style=\"text-align: right;\">\n",
       "      <th></th>\n",
       "      <th>DATE</th>\n",
       "      <th>Consumption</th>\n",
       "      <th>Return</th>\n",
       "      <th>Deflator</th>\n",
       "      <th>Tbill</th>\n",
       "    </tr>\n",
       "  </thead>\n",
       "  <tbody>\n",
       "    <tr>\n",
       "      <th>0</th>\n",
       "      <td>1971-01-01</td>\n",
       "      <td>3156.978</td>\n",
       "      <td>NaN</td>\n",
       "      <td>22.391</td>\n",
       "      <td>3.840000</td>\n",
       "    </tr>\n",
       "    <tr>\n",
       "      <th>1</th>\n",
       "      <td>1971-04-01</td>\n",
       "      <td>3185.993</td>\n",
       "      <td>1.136667</td>\n",
       "      <td>22.685</td>\n",
       "      <td>4.250000</td>\n",
       "    </tr>\n",
       "    <tr>\n",
       "      <th>2</th>\n",
       "      <td>1971-07-01</td>\n",
       "      <td>3211.394</td>\n",
       "      <td>1.113333</td>\n",
       "      <td>22.916</td>\n",
       "      <td>5.010000</td>\n",
       "    </tr>\n",
       "    <tr>\n",
       "      <th>3</th>\n",
       "      <td>1971-10-01</td>\n",
       "      <td>3264.679</td>\n",
       "      <td>1.113333</td>\n",
       "      <td>23.107</td>\n",
       "      <td>4.230000</td>\n",
       "    </tr>\n",
       "    <tr>\n",
       "      <th>4</th>\n",
       "      <td>1972-01-01</td>\n",
       "      <td>3307.767</td>\n",
       "      <td>1.240000</td>\n",
       "      <td>23.458</td>\n",
       "      <td>3.436667</td>\n",
       "    </tr>\n",
       "  </tbody>\n",
       "</table>\n",
       "</div>"
      ],
      "text/plain": [
       "         DATE  Consumption    Return  Deflator     Tbill\n",
       "0  1971-01-01     3156.978       NaN    22.391  3.840000\n",
       "1  1971-04-01     3185.993  1.136667    22.685  4.250000\n",
       "2  1971-07-01     3211.394  1.113333    22.916  5.010000\n",
       "3  1971-10-01     3264.679  1.113333    23.107  4.230000\n",
       "4  1972-01-01     3307.767  1.240000    23.458  3.436667"
      ]
     },
     "execution_count": 167,
     "metadata": {},
     "output_type": "execute_result"
    }
   ],
   "source": [
    "data = data.rename(columns = {'PCECC96': 'Consumption',\\\n",
    "                       'TB3MS': 'Tbill',\\\n",
    "                       'WILL5000IND': 'Return',\\\n",
    "                       'GDPDEF': 'Deflator'})\n",
    "data.head(5)"
   ]
  },
  {
   "cell_type": "code",
   "execution_count": 168,
   "metadata": {},
   "outputs": [
    {
     "data": {
      "text/html": [
       "<div>\n",
       "<style scoped>\n",
       "    .dataframe tbody tr th:only-of-type {\n",
       "        vertical-align: middle;\n",
       "    }\n",
       "\n",
       "    .dataframe tbody tr th {\n",
       "        vertical-align: top;\n",
       "    }\n",
       "\n",
       "    .dataframe thead th {\n",
       "        text-align: right;\n",
       "    }\n",
       "</style>\n",
       "<table border=\"1\" class=\"dataframe\">\n",
       "  <thead>\n",
       "    <tr style=\"text-align: right;\">\n",
       "      <th></th>\n",
       "      <th>DATE</th>\n",
       "      <th>Consumption</th>\n",
       "      <th>Return</th>\n",
       "      <th>Deflator</th>\n",
       "      <th>Tbill</th>\n",
       "      <th>Real Return</th>\n",
       "      <th>Real Tbill</th>\n",
       "    </tr>\n",
       "  </thead>\n",
       "  <tbody>\n",
       "    <tr>\n",
       "      <th>0</th>\n",
       "      <td>1971-01-01</td>\n",
       "      <td>3156.978</td>\n",
       "      <td>NaN</td>\n",
       "      <td>22.391</td>\n",
       "      <td>3.840000</td>\n",
       "      <td>NaN</td>\n",
       "      <td>NaN</td>\n",
       "    </tr>\n",
       "    <tr>\n",
       "      <th>1</th>\n",
       "      <td>1971-04-01</td>\n",
       "      <td>3185.993</td>\n",
       "      <td>1.136667</td>\n",
       "      <td>22.685</td>\n",
       "      <td>4.250000</td>\n",
       "      <td>NaN</td>\n",
       "      <td>1.092427</td>\n",
       "    </tr>\n",
       "    <tr>\n",
       "      <th>2</th>\n",
       "      <td>1971-07-01</td>\n",
       "      <td>3211.394</td>\n",
       "      <td>1.113333</td>\n",
       "      <td>22.916</td>\n",
       "      <td>5.010000</td>\n",
       "      <td>0.969599</td>\n",
       "      <td>1.166941</td>\n",
       "    </tr>\n",
       "    <tr>\n",
       "      <th>3</th>\n",
       "      <td>1971-10-01</td>\n",
       "      <td>3264.679</td>\n",
       "      <td>1.113333</td>\n",
       "      <td>23.107</td>\n",
       "      <td>4.230000</td>\n",
       "      <td>0.991734</td>\n",
       "      <td>0.837332</td>\n",
       "    </tr>\n",
       "    <tr>\n",
       "      <th>4</th>\n",
       "      <td>1972-01-01</td>\n",
       "      <td>3307.767</td>\n",
       "      <td>1.240000</td>\n",
       "      <td>23.458</td>\n",
       "      <td>3.436667</td>\n",
       "      <td>1.097107</td>\n",
       "      <td>0.800294</td>\n",
       "    </tr>\n",
       "  </tbody>\n",
       "</table>\n",
       "</div>"
      ],
      "text/plain": [
       "         DATE  Consumption    Return  Deflator     Tbill  Real Return  \\\n",
       "0  1971-01-01     3156.978       NaN    22.391  3.840000          NaN   \n",
       "1  1971-04-01     3185.993  1.136667    22.685  4.250000          NaN   \n",
       "2  1971-07-01     3211.394  1.113333    22.916  5.010000     0.969599   \n",
       "3  1971-10-01     3264.679  1.113333    23.107  4.230000     0.991734   \n",
       "4  1972-01-01     3307.767  1.240000    23.458  3.436667     1.097107   \n",
       "\n",
       "   Real Tbill  \n",
       "0         NaN  \n",
       "1    1.092427  \n",
       "2    1.166941  \n",
       "3    0.837332  \n",
       "4    0.800294  "
      ]
     },
     "execution_count": 168,
     "metadata": {},
     "output_type": "execute_result"
    }
   ],
   "source": [
    "data.insert(5, \"Real Return\", \\\n",
    "            (1 + data['Return'].pct_change())/ \\\n",
    "            (1 + data['Deflator'].pct_change()) )\n",
    "data.insert(6, \"Real Tbill\", \\\n",
    "            (1 + data['Tbill'].pct_change())/ \\\n",
    "            (1 + data['Deflator'].pct_change()) )\n",
    "data.head(5)"
   ]
  },
  {
   "cell_type": "code",
   "execution_count": 169,
   "metadata": {},
   "outputs": [
    {
     "data": {
      "text/html": [
       "<div>\n",
       "<style scoped>\n",
       "    .dataframe tbody tr th:only-of-type {\n",
       "        vertical-align: middle;\n",
       "    }\n",
       "\n",
       "    .dataframe tbody tr th {\n",
       "        vertical-align: top;\n",
       "    }\n",
       "\n",
       "    .dataframe thead th {\n",
       "        text-align: right;\n",
       "    }\n",
       "</style>\n",
       "<table border=\"1\" class=\"dataframe\">\n",
       "  <thead>\n",
       "    <tr style=\"text-align: right;\">\n",
       "      <th></th>\n",
       "      <th>Consumption</th>\n",
       "      <th>Return</th>\n",
       "      <th>Deflator</th>\n",
       "      <th>Tbill</th>\n",
       "      <th>Real Return</th>\n",
       "      <th>Real Tbill</th>\n",
       "    </tr>\n",
       "    <tr>\n",
       "      <th>DATE</th>\n",
       "      <th></th>\n",
       "      <th></th>\n",
       "      <th></th>\n",
       "      <th></th>\n",
       "      <th></th>\n",
       "      <th></th>\n",
       "    </tr>\n",
       "  </thead>\n",
       "  <tbody>\n",
       "    <tr>\n",
       "      <th>1971-01-01</th>\n",
       "      <td>3156.978</td>\n",
       "      <td>NaN</td>\n",
       "      <td>22.391</td>\n",
       "      <td>3.840000</td>\n",
       "      <td>NaN</td>\n",
       "      <td>NaN</td>\n",
       "    </tr>\n",
       "    <tr>\n",
       "      <th>1971-04-01</th>\n",
       "      <td>3185.993</td>\n",
       "      <td>1.136667</td>\n",
       "      <td>22.685</td>\n",
       "      <td>4.250000</td>\n",
       "      <td>NaN</td>\n",
       "      <td>1.092427</td>\n",
       "    </tr>\n",
       "    <tr>\n",
       "      <th>1971-07-01</th>\n",
       "      <td>3211.394</td>\n",
       "      <td>1.113333</td>\n",
       "      <td>22.916</td>\n",
       "      <td>5.010000</td>\n",
       "      <td>0.969599</td>\n",
       "      <td>1.166941</td>\n",
       "    </tr>\n",
       "    <tr>\n",
       "      <th>1971-10-01</th>\n",
       "      <td>3264.679</td>\n",
       "      <td>1.113333</td>\n",
       "      <td>23.107</td>\n",
       "      <td>4.230000</td>\n",
       "      <td>0.991734</td>\n",
       "      <td>0.837332</td>\n",
       "    </tr>\n",
       "    <tr>\n",
       "      <th>1972-01-01</th>\n",
       "      <td>3307.767</td>\n",
       "      <td>1.240000</td>\n",
       "      <td>23.458</td>\n",
       "      <td>3.436667</td>\n",
       "      <td>1.097107</td>\n",
       "      <td>0.800294</td>\n",
       "    </tr>\n",
       "  </tbody>\n",
       "</table>\n",
       "</div>"
      ],
      "text/plain": [
       "            Consumption    Return  Deflator     Tbill  Real Return  Real Tbill\n",
       "DATE                                                                          \n",
       "1971-01-01     3156.978       NaN    22.391  3.840000          NaN         NaN\n",
       "1971-04-01     3185.993  1.136667    22.685  4.250000          NaN    1.092427\n",
       "1971-07-01     3211.394  1.113333    22.916  5.010000     0.969599    1.166941\n",
       "1971-10-01     3264.679  1.113333    23.107  4.230000     0.991734    0.837332\n",
       "1972-01-01     3307.767  1.240000    23.458  3.436667     1.097107    0.800294"
      ]
     },
     "execution_count": 169,
     "metadata": {},
     "output_type": "execute_result"
    }
   ],
   "source": [
    "data = data.set_index('DATE')\n",
    "data.head(5)"
   ]
  },
  {
   "cell_type": "code",
   "execution_count": 170,
   "metadata": {},
   "outputs": [],
   "source": [
    "# some functions\n",
    "mu = lambda c, γ: c**(-γ)\n",
    "u = lambda c, γ: c**(1-γ)/(1-γ)"
   ]
  },
  {
   "cell_type": "markdown",
   "metadata": {},
   "source": [
    "### 1. Compute $\\gamma$"
   ]
  },
  {
   "cell_type": "code",
   "execution_count": 204,
   "metadata": {},
   "outputs": [],
   "source": [
    "β = 0.99\n",
    "\n",
    "def SDF(γ, ct, ctp1):\n",
    "    \n",
    "    mtp1 = β * mu(ct, γ) / mu(ctp1, γ)\n",
    "    \n",
    "    return mtp1\n",
    "\n",
    "def func5(γ):\n",
    "    \n",
    "    M = SDF(γ,data['Consumption'], data['Consumption'].shift(1))\n",
    "    R = data['Real Return']\n",
    "    \n",
    "    EM = M.mean(skipna = True)\n",
    "    ER = R.mean(skipna = True)\n",
    "\n",
    "    R = data['Real Return']\n",
    "    M = SDF(γ,data['Consumption'], data['Consumption'].shift(1))\n",
    "    \n",
    "    covar = R.cov(M)\n",
    "    \n",
    "    f1 = covar + EM * ER - 1\n",
    "    \n",
    "    return f1"
   ]
  },
  {
   "cell_type": "code",
   "execution_count": 205,
   "metadata": {},
   "outputs": [
    {
     "data": {
      "text/plain": [
       "array(1.15788216)"
      ]
     },
     "execution_count": 205,
     "metadata": {},
     "output_type": "execute_result"
    }
   ],
   "source": [
    "opt.broyden1(func5, 1)"
   ]
  },
  {
   "cell_type": "code",
   "execution_count": 206,
   "metadata": {},
   "outputs": [
    {
     "data": {
      "text/plain": [
       "[<matplotlib.lines.Line2D at 0x101c2ebe80>]"
      ]
     },
     "execution_count": 206,
     "metadata": {},
     "output_type": "execute_result"
    },
    {
     "data": {
      "image/png": "[encoded data removed]",
      "text/plain": [
       "<Figure size 432x288 with 1 Axes>"
      ]
     },
     "metadata": {
      "needs_background": "light"
     },
     "output_type": "display_data"
    }
   ],
   "source": [
    "plt.plot(np.linspace(0.01, 4000, 4000), u(np.linspace(0.01, 4000, 4000), 1.15788216))"
   ]
  },
  {
   "cell_type": "markdown",
   "metadata": {},
   "source": [
    "### 2. Reasonable?\n",
    "- I think this is reasonable, as we have the utility function convex, and is reasonablly flat when it gets away from 0.\n",
    "- If really want to determine, run lab experiments or take this parameter to other places and see whether that matches with the data or not."
   ]
  },
  {
   "cell_type": "markdown",
   "metadata": {},
   "source": [
    "### 3. use moment restriction equation 7"
   ]
  },
  {
   "cell_type": "code",
   "execution_count": null,
   "metadata": {},
   "outputs": [],
   "source": [
    "def func7(γ):\n",
    "    \n",
    "    "
   ]
  }
 ],
 "metadata": {
  "kernelspec": {
   "display_name": "Python 3",
   "language": "python",
   "name": "python3"
  },
  "language_info": {
   "codemirror_mode": {
    "name": "ipython",
    "version": 3
   },
   "file_extension": ".py",
   "mimetype": "text/x-python",
   "name": "python",
   "nbconvert_exporter": "python",
   "pygments_lexer": "ipython3",
   "version": "3.7.3"
  }
 },
 "nbformat": 4,
 "nbformat_minor": 2
}
