{
 "cells": [
  {
   "cell_type": "code",
   "execution_count": 5,
   "metadata": {},
   "outputs": [],
   "source": [
    "import numpy as np\n",
    "from scipy import optimize"
   ]
  },
  {
   "cell_type": "code",
   "execution_count": 6,
   "metadata": {},
   "outputs": [],
   "source": [
    "output = lambda k,l,z: k**α*(l*np.exp(z))**(1-α)\n",
    "investment = lambda k: k - (1-δ)*k"
   ]
  },
  {
   "cell_type": "code",
   "execution_count": 24,
   "metadata": {},
   "outputs": [
    {
     "name": "stdout",
     "output_type": "stream",
     "text": [
      "[1.48450482 7.28749795]\n"
     ]
    }
   ],
   "source": [
    "# Exercise 5\n",
    "\n",
    "def funcs_5(x):\n",
    "    c, k= x[0], x[1]\n",
    "    ul = 0\n",
    "    uc = c**(-γ)\n",
    "    r = α*k**(α-1)\n",
    "    w = (1-α)*k**α\n",
    "    l = 1\n",
    "    f1 = c - (w*l + (r-δ)*k)\n",
    "    f2 = uc - β * uc * ((r-δ)*(1-τ)+1)\n",
    "    return (f1,f2)\n",
    "\n",
    "\n",
    "γ = 2.5\n",
    "β = 0.98\n",
    "α = 0.4\n",
    "δ = 0.1\n",
    "τ = 0.05\n",
    "z = 0\n",
    "print(optimize.fsolve(funcs_5, (1,7)))\n",
    "(c,k) = optimize.fsolve(funcs_5, (1,7))"
   ]
  },
  {
   "cell_type": "code",
   "execution_count": 26,
   "metadata": {},
   "outputs": [
    {
     "name": "stdout",
     "output_type": "stream",
     "text": [
      "1.4845048188380403 0.03883301423893765 7.287497950094367 0.017299501358074388 4.869699783369327 0.21335100345222566 2.213254613846121 0.7287497950094366\n"
     ]
    }
   ],
   "source": [
    "\n",
    "# uc = c**(-γ)\n",
    "# ul = a*(1.-l)**(-ϵ)\n",
    "r = α * k**(α-1.) * l**(1.-α)\n",
    "w = (1.-α) * k**α * l**(-α)\n",
    "T = τ*(w+(r-δ)*k)\n",
    "y = output(k,1,0)\n",
    "i = investment(k)\n",
    "print(c,l,k,r,w,T,y,i)"
   ]
  },
  {
   "cell_type": "code",
   "execution_count": 8,
   "metadata": {},
   "outputs": [
    {
     "name": "stdout",
     "output_type": "stream",
     "text": [
      "output is 2.2133\n",
      "investment is 0.7287\n"
     ]
    }
   ],
   "source": [
    "print('output is %1.4f' % output(k,1,0))\n",
    "print('investment is %1.4f' % investment(k))"
   ]
  },
  {
   "cell_type": "code",
   "execution_count": 18,
   "metadata": {},
   "outputs": [
    {
     "name": "stdout",
     "output_type": "stream",
     "text": [
      "[1.41754829 0.54259412 0.07727787]\n"
     ]
    },
    {
     "name": "stderr",
     "output_type": "stream",
     "text": [
      "F:\\Anaconda\\lib\\site-packages\\ipykernel_launcher.py:9: RuntimeWarning: invalid value encountered in double_scalars\n",
      "  if __name__ == '__main__':\n",
      "F:\\Anaconda\\lib\\site-packages\\ipykernel_launcher.py:6: RuntimeWarning: invalid value encountered in double_scalars\n",
      "  \n",
      "F:\\Anaconda\\lib\\site-packages\\ipykernel_launcher.py:7: RuntimeWarning: invalid value encountered in double_scalars\n",
      "  import sys\n",
      "F:\\Anaconda\\lib\\site-packages\\scipy\\optimize\\minpack.py:163: RuntimeWarning: The iteration is not making good progress, as measured by the \n",
      "  improvement from the last ten iterations.\n",
      "  warnings.warn(msg, RuntimeWarning)\n"
     ]
    }
   ],
   "source": [
    "# Exercise 6\n",
    "\n",
    "def funcs_6(x):\n",
    "    c,k,l = x[0],x[1],x[2]\n",
    "    \n",
    "    r = α * k**(α-1.) * l**(1.-α)\n",
    "    w = (1.-α) * k**α * l**(-α)\n",
    "    uc = c**(-γ)\n",
    "    ul = a*(1.-l)**(-ϵ)\n",
    "    \n",
    "    f1 = c - (w*l + (r-δ)*k)\n",
    "    f2 = uc - β * uc * ((r-δ)*(1.-τ)+1.)\n",
    "    f3 = -ul - uc * w * (1.-τ) \n",
    "    return (f1, f2, f3)\n",
    "    \n",
    "γ = 2.5\n",
    "ϵ = 1.5\n",
    "β = 0.98\n",
    "α = 0.4\n",
    "a = 0.5\n",
    "δ = 0.1\n",
    "τ = 0.05\n",
    "z = 0\n",
    "print(optimize.fsolve(funcs_6, (0.5,1,0.1)))\n",
    "(c,l,k) = optimize.fsolve(funcs_6, (0.2,1,0.1))"
   ]
  },
  {
   "cell_type": "code",
   "execution_count": 15,
   "metadata": {},
   "outputs": [
    {
     "name": "stdout",
     "output_type": "stream",
     "text": [
      "output is 0.5887\n",
      "investment is 0.0266\n"
     ]
    }
   ],
   "source": [
    "print('output is %1.4f' % output(k,1,0))\n",
    "print('investment is %1.4f' % investment(k))"
   ]
  },
  {
   "cell_type": "code",
   "execution_count": 22,
   "metadata": {},
   "outputs": [
    {
     "name": "stdout",
     "output_type": "stream",
     "text": [
      "1.0710436052984533 0.03883301423893765 0.08058814083693011 0.25811780929518585 0.8034877581229459 0.040811508920362664 0.3651812364096234 0.008058814083693008\n"
     ]
    },
    {
     "name": "stderr",
     "output_type": "stream",
     "text": [
      "F:\\Anaconda\\lib\\site-packages\\ipykernel_launcher.py:6: RuntimeWarning: invalid value encountered in double_scalars\n",
      "  \n",
      "F:\\Anaconda\\lib\\site-packages\\ipykernel_launcher.py:7: RuntimeWarning: invalid value encountered in double_scalars\n",
      "  import sys\n",
      "F:\\Anaconda\\lib\\site-packages\\scipy\\optimize\\minpack.py:163: RuntimeWarning: The iteration is not making good progress, as measured by the \n",
      "  improvement from the last five Jacobian evaluations.\n",
      "  warnings.warn(msg, RuntimeWarning)\n"
     ]
    }
   ],
   "source": [
    "# Exercise 7\n",
    "\n",
    "c, l, k = optimize.fsolve(funcs_6, (0.2,0.2,0.1))\n",
    "# uc = c**(-γ)\n",
    "# ul = a*(1.-l)**(-ϵ)\n",
    "r = α * k**(α-1.) * l**(1.-α)\n",
    "w = (1.-α) * k**α * l**(-α)\n",
    "T = τ*(w+(r-δ)*k)\n",
    "y = output(k,1,0)\n",
    "i = investment(k)\n",
    "print(c,l,k,r,w,T,y,i)"
   ]
  },
  {
   "cell_type": "code",
   "execution_count": null,
   "metadata": {},
   "outputs": [],
   "source": [
    "# use numerical diff, i.e. (f(x+ϵ) - f(x))/2ϵ"
   ]
  }
 ],
 "metadata": {
  "kernelspec": {
   "display_name": "Python 3",
   "language": "python",
   "name": "python3"
  },
  "language_info": {
   "codemirror_mode": {
    "name": "ipython",
    "version": 3
   },
   "file_extension": ".py",
   "mimetype": "text/x-python",
   "name": "python",
   "nbconvert_exporter": "python",
   "pygments_lexer": "ipython3",
   "version": "3.6.4"
  }
 },
 "nbformat": 4,
 "nbformat_minor": 2
}
