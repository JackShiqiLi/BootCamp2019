{
 "cells": [
  {
   "cell_type": "code",
   "execution_count": 2,
   "metadata": {},
   "outputs": [],
   "source": [
    "import numpy as np\n",
    "from scipy import optimize as optimize"
   ]
  },
  {
   "cell_type": "code",
   "execution_count": 39,
   "metadata": {},
   "outputs": [],
   "source": [
    "# wage, rent, utility and derivative of utility\n",
    "\n",
    "w = lambda b2, b3: (1-α) * A * ((b2 + b3)/2.2)**α\n",
    "r = lambda b2, b3: α * A * (2.2/(b2 + b3))**(1-α) - δ\n",
    "u = lambda c: (c**(1-σ) - 1) / (1 - σ)\n",
    "uprime = lambda c: c**(-σ)"
   ]
  },
  {
   "cell_type": "code",
   "execution_count": 57,
   "metadata": {},
   "outputs": [],
   "source": [
    "def feasible(f_params, bvec_guess):\n",
    "    b_cnstr = np.full(2, False)\n",
    "    c_cnstr = np.full(3, False)\n",
    "    K_cnstr = np.full(1, False)\n",
    "    \n",
    "    # unpack parameters\n",
    "    α, β, δ, α, A = f_params\n",
    "    \n",
    "    # unpack savings\n",
    "    b2, b3 = bvec_guess\n",
    "    \n",
    "    wage = w(b2, b3)\n",
    "    rent = r(b2, b3)\n",
    "    \n",
    "    c1 = wage - b2\n",
    "    c2 = wage + (1 + rent) * b2 - b3\n",
    "    c3 = 0.2 * wage + (1 + rent) * b3\n",
    "    \n",
    "    c = [c1, c2, c3]\n",
    "    \n",
    "    for i in range(3):\n",
    "        if c[i] < 0:\n",
    "            c_cnstr[i] = True\n",
    "        else:\n",
    "            c_cnstr[i] = False\n",
    "            \n",
    "    if c_cnstr[0] == True:\n",
    "        b_cnstr[0] = True\n",
    "    elif c_cnstr[1] == True:\n",
    "        b_cnstr = [True, True]\n",
    "    elif c_cnstr[2] == True:\n",
    "        b_cnstr[1] = True\n",
    "    \n",
    "    if b2 + b3 > 0:\n",
    "        K = [True]\n",
    "    \n",
    "    return b_cnstr, c_cnstr, K_cnstr"
   ]
  },
  {
   "cell_type": "code",
   "execution_count": 58,
   "metadata": {},
   "outputs": [],
   "source": [
    "# parameters\n",
    "β = 0.442\n",
    "δ = 0.6415\n",
    "σ = 3\n",
    "A = 1\n",
    "α = 0.35\n",
    "\n",
    "f_params = α, β, δ, σ, A"
   ]
  },
  {
   "cell_type": "code",
   "execution_count": 59,
   "metadata": {},
   "outputs": [
    {
     "data": {
      "text/plain": [
       "(array([ True, False]), array([ True, False, False]), array([False]))"
      ]
     },
     "execution_count": 59,
     "metadata": {},
     "output_type": "execute_result"
    }
   ],
   "source": [
    "feasible(f_params, [1.0, 1.2])"
   ]
  },
  {
   "cell_type": "markdown",
   "metadata": {},
   "source": [
    "Nonnegativity constraint of c1 is violated, likely to be caused by b2"
   ]
  },
  {
   "cell_type": "code",
   "execution_count": 60,
   "metadata": {},
   "outputs": [
    {
     "data": {
      "text/plain": [
       "(array([False, False]), array([False, False, False]), array([False]))"
      ]
     },
     "execution_count": 60,
     "metadata": {},
     "output_type": "execute_result"
    }
   ],
   "source": [
    "feasible(f_params, [0.06, -0.001])"
   ]
  },
  {
   "cell_type": "markdown",
   "metadata": {},
   "source": [
    "No constraint is violated"
   ]
  },
  {
   "cell_type": "code",
   "execution_count": 61,
   "metadata": {},
   "outputs": [
    {
     "data": {
      "text/plain": [
       "(array([False, False]), array([False, False, False]), array([False]))"
      ]
     },
     "execution_count": 61,
     "metadata": {},
     "output_type": "execute_result"
    }
   ],
   "source": [
    "feasible(f_params, [0.1, 0.1])"
   ]
  },
  {
   "cell_type": "markdown",
   "metadata": {},
   "source": [
    "No constraint is violated"
   ]
  },
  {
   "cell_type": "code",
   "execution_count": null,
   "metadata": {},
   "outputs": [],
   "source": [
    "def eqbm(x):\n",
    "    b2bar, b3bar = x\n",
    "    f1 = β * (1 + r(b2bar, b3bar)) * uprime(w(b2bar, b3bar) + (1 + r(b2bar, b3bar)) * b2bar - b3bar)\n",
    "    - uprime(w(b2bar, b3bar) - b2bar)\n",
    "    f2 = β * (1 + r(b2bar, b3bar)) * uprime((1 + r(b2bar, b3bar)) * b3bar + 0.2 * w(b2bar, b3bar))\n",
    "    - uprime(w(b2bar, b3bar) + (1 + r(b2bar, b3bar)) * b2bar - b3bar)\n",
    "    return f1, f2"
   ]
  },
  {
   "cell_type": "code",
   "execution_count": null,
   "metadata": {},
   "outputs": [],
   "source": [
    "def get_SS(params, bvec_guess, SS_graphs):\n",
    "    "
   ]
  },
  {
   "cell_type": "code",
   "execution_count": 42,
   "metadata": {},
   "outputs": [
    {
     "data": {
      "text/plain": [
       "True"
      ]
     },
     "execution_count": 42,
     "metadata": {},
     "output_type": "execute_result"
    }
   ],
   "source": [
    "bool([0, 0, 1])"
   ]
  }
 ],
 "metadata": {
  "kernelspec": {
   "display_name": "Python 3",
   "language": "python",
   "name": "python3"
  },
  "language_info": {
   "codemirror_mode": {
    "name": "ipython",
    "version": 3
   },
   "file_extension": ".py",
   "mimetype": "text/x-python",
   "name": "python",
   "nbconvert_exporter": "python",
   "pygments_lexer": "ipython3",
   "version": "3.7.3"
  }
 },
 "nbformat": 4,
 "nbformat_minor": 2
}
