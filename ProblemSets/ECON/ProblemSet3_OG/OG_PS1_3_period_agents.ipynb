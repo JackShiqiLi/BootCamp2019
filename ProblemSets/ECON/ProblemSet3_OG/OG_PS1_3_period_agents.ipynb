{
 "cells": [
  {
   "cell_type": "code",
   "execution_count": 1,
   "metadata": {},
   "outputs": [],
   "source": [
    "import numpy as np\n",
    "from scipy import optimize as optimize\n",
    "import matplotlib.pyplot as plt\n",
    "import time"
   ]
  },
  {
   "cell_type": "markdown",
   "metadata": {},
   "source": [
    "## Exercise 2.1"
   ]
  },
  {
   "cell_type": "code",
   "execution_count": 2,
   "metadata": {},
   "outputs": [],
   "source": [
    "# wage, rent, utility and derivative of utility\n",
    "\n",
    "def get_L(nvec):\n",
    "    return np.sum(np.array(nvec))\n",
    "\n",
    "def get_K(bvec):\n",
    "    return np.sum(np.array(bvec))\n",
    "\n",
    "def get_w(nvec, bvec, params):\n",
    "    A, α = params\n",
    "    w = (1-α) * A * (get_K(bvec)/get_L(nvec))**α\n",
    "    return w\n",
    "\n",
    "def get_r(nvec, bvec, params):\n",
    "    A, α, δ = params\n",
    "    r = α * A * (get_L(nvec)/get_K(bvec))**(1-α) - δ\n",
    "    return r\n",
    "\n",
    "def get_u(c, params):\n",
    "    σ = params\n",
    "    u = (c**(1-σ) - 1) / (1 - σ)\n",
    "    return u\n",
    "\n",
    "def get_uprime(c, params):\n",
    "    σ = params\n",
    "    mu = c**(-σ)\n",
    "    return mu\n",
    "\n",
    "def get_Y(nvec, bvec, params):\n",
    "    A, α = params\n",
    "    L = get_L(nvec)\n",
    "    K = get_K(bvec)\n",
    "    Y = A * K**α * L**(1 - α)\n",
    "    return Y\n",
    "\n",
    "def get_c(nvec, bvec, params):\n",
    "    A, α, δ = params\n",
    "    \n",
    "    n1, n2, n3 = nvec\n",
    "    b2, b3 = bvec\n",
    "    w_params = A, α\n",
    "    r_params = A, α, δ\n",
    "    \n",
    "    w = get_w(nvec, bvec, w_params)\n",
    "    r = get_r(nvec, bvec, r_params)\n",
    "    \n",
    "    c1 = n1 * w - b2\n",
    "    c2 = n2 * w + (1 + r) * b2 - b3\n",
    "    c3 = (1 + r) * b3 + n3 * w\n",
    "    \n",
    "    return c1, c2, c3"
   ]
  },
  {
   "cell_type": "code",
   "execution_count": 3,
   "metadata": {},
   "outputs": [],
   "source": [
    "def feasible(f_params, bvec_guess):\n",
    "    b_cnstr = np.full(2, False)\n",
    "    c_cnstr = np.full(3, False)\n",
    "    K_cnstr = np.full(1, False)\n",
    "    \n",
    "    # unpack parameters\n",
    "    α, β, δ, σ, A = f_params\n",
    "    \n",
    "    nvec = (1, 1, 0.2) # use default values as not specified\n",
    "    w_params = A, α\n",
    "    r_params = A, α, δ\n",
    "    c_params = A, α, δ\n",
    "    \n",
    "    w = get_w(nvec, bvec_guess, w_params)\n",
    "    r = get_r(nvec, bvec_guess, r_params)\n",
    "    \n",
    "    c = get_c(nvec, bvec_guess, c_params)\n",
    "    \n",
    "    for i in range(3):\n",
    "        if c[i] < 0:\n",
    "            c_cnstr[i] = True\n",
    "        else:\n",
    "            c_cnstr[i] = False\n",
    "            \n",
    "    if c_cnstr[0] == True:\n",
    "        b_cnstr[0] = True\n",
    "    elif c_cnstr[1] == True:\n",
    "        b_cnstr = [True, True]\n",
    "    elif c_cnstr[2] == True:\n",
    "        b_cnstr[1] = True\n",
    "    \n",
    "    if get_K(bvec_guess) > 0:\n",
    "        K = [True]\n",
    "    \n",
    "    return b_cnstr, c_cnstr, K_cnstr"
   ]
  },
  {
   "cell_type": "code",
   "execution_count": 4,
   "metadata": {},
   "outputs": [],
   "source": [
    "# parameters\n",
    "def f_params():\n",
    "    β = 0.442\n",
    "    δ = 0.6415\n",
    "    σ = 3\n",
    "    A = 1\n",
    "    α = 0.35\n",
    "    return α, β, δ, σ, A"
   ]
  },
  {
   "cell_type": "markdown",
   "metadata": {},
   "source": [
    "### 2.1a"
   ]
  },
  {
   "cell_type": "code",
   "execution_count": 5,
   "metadata": {},
   "outputs": [
    {
     "data": {
      "text/plain": [
       "(array([ True, False]), array([ True, False, False]), array([False]))"
      ]
     },
     "execution_count": 5,
     "metadata": {},
     "output_type": "execute_result"
    }
   ],
   "source": [
    "feasible(f_params(), [1.0, 1.2])"
   ]
  },
  {
   "cell_type": "markdown",
   "metadata": {},
   "source": [
    "Nonnegativity constraint of c1 is violated, likely to be caused by b2"
   ]
  },
  {
   "cell_type": "markdown",
   "metadata": {},
   "source": [
    "### 2.1b"
   ]
  },
  {
   "cell_type": "code",
   "execution_count": 6,
   "metadata": {},
   "outputs": [
    {
     "data": {
      "text/plain": [
       "(array([False, False]), array([False, False, False]), array([False]))"
      ]
     },
     "execution_count": 6,
     "metadata": {},
     "output_type": "execute_result"
    }
   ],
   "source": [
    "feasible(f_params(), [0.06, -0.001])"
   ]
  },
  {
   "cell_type": "markdown",
   "metadata": {},
   "source": [
    "No constraint is violated"
   ]
  },
  {
   "cell_type": "markdown",
   "metadata": {},
   "source": [
    "### 2.1c"
   ]
  },
  {
   "cell_type": "code",
   "execution_count": 7,
   "metadata": {},
   "outputs": [
    {
     "data": {
      "text/plain": [
       "(array([False, False]), array([False, False, False]), array([False]))"
      ]
     },
     "execution_count": 7,
     "metadata": {},
     "output_type": "execute_result"
    }
   ],
   "source": [
    "feasible(f_params(), [0.1, 0.1])"
   ]
  },
  {
   "cell_type": "markdown",
   "metadata": {},
   "source": [
    "No constraint is violated"
   ]
  },
  {
   "cell_type": "markdown",
   "metadata": {},
   "source": [
    "## Exercise 2.2"
   ]
  },
  {
   "cell_type": "code",
   "execution_count": 8,
   "metadata": {},
   "outputs": [],
   "source": [
    "def eqbm(bvec, w, r, params):\n",
    "\n",
    "    β, σ, nvec, L, A, α, δ, SS_tol = params\n",
    "    \n",
    "    w_params = A, α\n",
    "    r_params = A, α, δ\n",
    "    c_params = A, α, δ\n",
    "    \n",
    "    w = get_w(nvec, bvec, w_params)\n",
    "    r = get_r(nvec, bvec, r_params)\n",
    "    \n",
    "    c1bar, c2bar, c3bar = get_c(nvec, bvec, c_params)\n",
    "    \n",
    "    mu1 = get_uprime(c1bar, σ)\n",
    "    mu2 = get_uprime(c2bar, σ)\n",
    "    mu3 = get_uprime(c3bar, σ)\n",
    "    \n",
    "    f1 = mu1 - β * (1 + r) * mu2\n",
    "    f2 = mu2 - β * (1 + r) * mu3\n",
    "\n",
    "    return f1, f2"
   ]
  },
  {
   "cell_type": "code",
   "execution_count": 9,
   "metadata": {},
   "outputs": [],
   "source": [
    "def get_SS(params, bvec_guess, SS_graphs = True):\n",
    "    \n",
    "    #start time\n",
    "    start_time = time.time()\n",
    "    \n",
    "    #unpack parameters\n",
    "    β, σ, nvec, L, A, α, δ, SS_tol = params\n",
    "    \n",
    "    w_params = A, α\n",
    "    r_params = A, α, δ\n",
    "    c_params = A, α, δ\n",
    "    Y_params = A, α\n",
    "    \n",
    "    w = get_w(nvec, bvec_guess, w_params)\n",
    "    r = get_r(nvec, bvec_guess, r_params)\n",
    "    \n",
    "    #find root\n",
    "    b_ss = optimize.fsolve(eqbm, bvec_guess, args = (w, r, params), xtol = SS_tol)\n",
    "    b2bar, b3bar = b_ss\n",
    "    \n",
    "    #compute all steady state variables\n",
    "    c_ss = get_c(nvec, b_ss, c_params)\n",
    "    w_ss = get_w(nvec, b_ss, w_params)\n",
    "    r_ss = get_r(nvec, b_ss, r_params)\n",
    "    K_ss = get_K(b_ss)\n",
    "    Y_ss = get_Y(nvec, b_ss, Y_params)\n",
    "    C_ss = np.sum(c_ss)\n",
    "    EulErr_ss = eqbm(b_ss, w_ss, r_ss, params)\n",
    "    RCerr_ss = Y_ss - C_ss - δ * K_ss\n",
    "    ss_time = time.time() - start_time\n",
    "    \n",
    "    if SS_graphs == True:\n",
    "        plt.figure(figsize = (7,7))\n",
    "        plt.plot([2,3], b_ss, '-o', label = 'savings')\n",
    "        plt.plot([1,2,3], c_ss, '-o', label = 'consumption')\n",
    "        plt.xlabel('age')\n",
    "        plt.xticks([1,2,3])\n",
    "        plt.ylabel('savings and consumption')\n",
    "        plt.title('savings and consumption vs. age')\n",
    "        plt.legend()\n",
    "        plt.grid()\n",
    "        plt.show()\n",
    "    \n",
    "    results = dict({'b_ss': b_ss, 'c_ss': c_ss, 'w_ss': w_ss, 'r_ss': r_ss, \n",
    "                    'K_ss': K_ss, 'Y_ss': Y_ss, 'C_ss': C_ss,\n",
    "                    'EulErr_ss': EulErr_ss, 'RCerr_ss': RCerr_ss,\n",
    "                    'ss_time': ss_time})\n",
    "    return results"
   ]
  },
  {
   "cell_type": "markdown",
   "metadata": {},
   "source": [
    "### 2.2a and b"
   ]
  },
  {
   "cell_type": "code",
   "execution_count": 10,
   "metadata": {},
   "outputs": [
    {
     "data": {
      "image/png": "[encoded data removed]",
      "text/plain": [
       "<Figure size 504x504 with 1 Axes>"
      ]
     },
     "metadata": {
      "needs_background": "light"
     },
     "output_type": "display_data"
    },
    {
     "data": {
      "text/plain": [
       "{'b_ss': array([0.01931253, 0.0584111 ]),\n",
       " 'c_ss': (0.18241212755849867, 0.20961468030898922, 0.24087386507209851),\n",
       " 'w_ss': 0.20172465739052575,\n",
       " 'r_ss': 2.433062339127069,\n",
       " 'K_ss': 0.07772362575316386,\n",
       " 'Y_ss': 0.6827603788602411,\n",
       " 'C_ss': 0.6329006729395864,\n",
       " 'EulErr_ss': (-1.3926637620897964e-12, 2.6290081223123707e-12),\n",
       " 'RCerr_ss': 8.326672684688674e-17,\n",
       " 'ss_time': 0.003039836883544922}"
      ]
     },
     "execution_count": 10,
     "metadata": {},
     "output_type": "execute_result"
    }
   ],
   "source": [
    "def params1():\n",
    "    β = 0.442\n",
    "    δ = 0.6415\n",
    "    σ = 3\n",
    "    A = 1\n",
    "    α = 0.35\n",
    "    nvec = np.array([1, 1, 0.2])\n",
    "    L = np.sum(nvec)\n",
    "    SS_tol = 1e-8\n",
    "    return β, σ, nvec, L, A, α, δ, SS_tol\n",
    "\n",
    "bvec_guess = [0.1, 0.1]\n",
    "\n",
    "ss1 = get_SS(params1(), bvec_guess)\n",
    "ss1"
   ]
  },
  {
   "cell_type": "markdown",
   "metadata": {},
   "source": [
    "### 2.2c"
   ]
  },
  {
   "cell_type": "code",
   "execution_count": 11,
   "metadata": {},
   "outputs": [
    {
     "data": {
      "image/png": "[encoded data removed]",
      "text/plain": [
       "<Figure size 504x504 with 1 Axes>"
      ]
     },
     "metadata": {
      "needs_background": "light"
     },
     "output_type": "display_data"
    },
    {
     "data": {
      "text/plain": [
       "{'b_ss': array([0.02817692, 0.07686545]),\n",
       " 'c_ss': (0.19597527701928497, 0.2286159413839988, 0.26669307195186887),\n",
       " 'w_ss': 0.22415219593446706,\n",
       " 'r_ss': 1.8863765057189819,\n",
       " 'K_ss': 0.1050423702259807,\n",
       " 'Y_ss': 0.7586689708551193,\n",
       " 'C_ss': 0.6912842903551526,\n",
       " 'EulErr_ss': (6.87805368215777e-12, 2.5295321393059567e-12),\n",
       " 'RCerr_ss': 9.71445146547012e-17,\n",
       " 'ss_time': 0.0011010169982910156}"
      ]
     },
     "execution_count": 11,
     "metadata": {},
     "output_type": "execute_result"
    }
   ],
   "source": [
    "def params2():\n",
    "    β = 0.55\n",
    "    δ = 0.6415\n",
    "    σ = 3\n",
    "    A = 1\n",
    "    α = 0.35\n",
    "    nvec = np.array([1, 1, 0.2])\n",
    "    L = np.sum(nvec)\n",
    "    SS_tol = 1e-8\n",
    "    return β, σ, nvec, L, A, α, δ, SS_tol\n",
    "\n",
    "bvec_guess = [0.1, 0.1]\n",
    "\n",
    "ss2 = get_SS(params2(), bvec_guess)\n",
    "ss2"
   ]
  },
  {
   "cell_type": "code",
   "execution_count": 12,
   "metadata": {},
   "outputs": [
    {
     "data": {
      "text/plain": [
       "{'b_ss': array([0.00886439, 0.01845436]),\n",
       " 'c_ss': array([0.01356315, 0.01900126, 0.02581921]),\n",
       " 'w_ss': 0.022427538543941306,\n",
       " 'r_ss': -0.5466858334080873,\n",
       " 'K_ss': 0.027318744472816847,\n",
       " 'Y_ss': 0.0759085919948782,\n",
       " 'C_ss': 0.05838361741556619,\n",
       " 'EulErr_ss': array([ 8.27071744e-12, -9.94759830e-14]),\n",
       " 'RCerr_ss': 1.3877787807814457e-17,\n",
       " 'ss_time': -0.0019388198852539062}"
      ]
     },
     "execution_count": 12,
     "metadata": {},
     "output_type": "execute_result"
    }
   ],
   "source": [
    "difference = ss1\n",
    "for i in ss1.keys():\n",
    "    difference[i] = np.array(ss2[i]) - np.array(ss1[i])\n",
    "difference"
   ]
  },
  {
   "cell_type": "markdown",
   "metadata": {},
   "source": [
    "Everything increases except rent.  \n",
    "This can be interpreted as ..."
   ]
  }
 ],
 "metadata": {
  "kernelspec": {
   "display_name": "Python 3",
   "language": "python",
   "name": "python3"
  },
  "language_info": {
   "codemirror_mode": {
    "name": "ipython",
    "version": 3
   },
   "file_extension": ".py",
   "mimetype": "text/x-python",
   "name": "python",
   "nbconvert_exporter": "python",
   "pygments_lexer": "ipython3",
   "version": "3.7.3"
  }
 },
 "nbformat": 4,
 "nbformat_minor": 2
}
