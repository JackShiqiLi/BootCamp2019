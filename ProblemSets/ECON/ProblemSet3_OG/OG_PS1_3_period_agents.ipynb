{
 "cells": [
  {
   "cell_type": "code",
   "execution_count": 1,
   "metadata": {},
   "outputs": [],
   "source": [
    "import numpy as np\n",
    "from scipy import optimize as optimize\n",
    "import matplotlib.pyplot as plt\n",
    "import time"
   ]
  },
  {
   "cell_type": "markdown",
   "metadata": {},
   "source": [
    "## Exercise 2.1"
   ]
  },
  {
   "cell_type": "code",
   "execution_count": 2,
   "metadata": {},
   "outputs": [],
   "source": [
    "# wage, rent, utility and derivative of utility\n",
    "\n",
    "def get_L(nvec):\n",
    "    return np.sum(np.array(nvec))\n",
    "\n",
    "def get_K(bvec):\n",
    "    return np.sum(np.array(bvec))\n",
    "\n",
    "def get_w(nvec, bvec, params):\n",
    "    A, α = params\n",
    "    w = (1-α) * A * (get_K(bvec)/get_L(nvec))**α\n",
    "    return w\n",
    "\n",
    "def get_r(nvec, bvec, params):\n",
    "    A, α, δ = params\n",
    "    r = α * A * (get_L(nvec)/get_K(bvec))**(1-α) - δ\n",
    "    return r\n",
    "\n",
    "def get_u(c, params):\n",
    "    σ = params\n",
    "    u = (c**(1-σ) - 1) / (1 - σ)\n",
    "    return u\n",
    "\n",
    "def get_uprime(c, params):\n",
    "    σ = params\n",
    "    mu = c**(-σ)\n",
    "    return mu\n",
    "\n",
    "def get_Y(nvec, bvec, params):\n",
    "    A, α = params\n",
    "    L = get_L(nvec)\n",
    "    K = get_K(bvec)\n",
    "    Y = A * K**α * L**(1 - α)\n",
    "    return Y\n",
    "\n",
    "def get_c(nvec, bvec, params):\n",
    "    A, α, δ = params\n",
    "    \n",
    "    n1, n2, n3 = nvec\n",
    "    b2, b3 = bvec\n",
    "    w_params = A, α\n",
    "    r_params = A, α, δ\n",
    "    \n",
    "    w = get_w(nvec, bvec, w_params)\n",
    "    r = get_r(nvec, bvec, r_params)\n",
    "    \n",
    "    c1 = n1 * w - b2\n",
    "    c2 = n2 * w + (1 + r) * b2 - b3\n",
    "    c3 = (1 + r) * b3 + n3 * w\n",
    "    \n",
    "    return c1, c2, c3"
   ]
  },
  {
   "cell_type": "code",
   "execution_count": 3,
   "metadata": {},
   "outputs": [],
   "source": [
    "def feasible(f_params, bvec_guess):\n",
    "    b_cnstr = np.full(2, False)\n",
    "    c_cnstr = np.full(3, False)\n",
    "    K_cnstr = np.full(1, False)\n",
    "    \n",
    "    # unpack parameters\n",
    "    α, β, δ, σ, A = f_params\n",
    "    \n",
    "    nvec = (1, 1, 0.2) # use default values as not specified\n",
    "    w_params = A, α\n",
    "    r_params = A, α, δ\n",
    "    c_params = A, α, δ\n",
    "    \n",
    "    w = get_w(nvec, bvec_guess, w_params)\n",
    "    r = get_r(nvec, bvec_guess, r_params)\n",
    "    \n",
    "    c = get_c(nvec, bvec_guess, c_params)\n",
    "    \n",
    "    for i in range(3):\n",
    "        if c[i] < 0:\n",
    "            c_cnstr[i] = True\n",
    "        else:\n",
    "            c_cnstr[i] = False\n",
    "            \n",
    "    if c_cnstr[0] == True:\n",
    "        b_cnstr[0] = True\n",
    "    elif c_cnstr[1] == True:\n",
    "        b_cnstr = [True, True]\n",
    "    elif c_cnstr[2] == True:\n",
    "        b_cnstr[1] = True\n",
    "    \n",
    "    if get_K(bvec_guess) > 0:\n",
    "        K = [True]\n",
    "    \n",
    "    return b_cnstr, c_cnstr, K_cnstr"
   ]
  },
  {
   "cell_type": "code",
   "execution_count": 4,
   "metadata": {},
   "outputs": [],
   "source": [
    "# parameters\n",
    "def f_params():\n",
    "    β = 0.442\n",
    "    δ = 0.6415\n",
    "    σ = 3\n",
    "    A = 1\n",
    "    α = 0.35\n",
    "    return α, β, δ, σ, A"
   ]
  },
  {
   "cell_type": "markdown",
   "metadata": {},
   "source": [
    "### 2.1a"
   ]
  },
  {
   "cell_type": "code",
   "execution_count": 5,
   "metadata": {},
   "outputs": [
    {
     "data": {
      "text/plain": [
       "(array([ True, False]), array([ True, False, False]), array([False]))"
      ]
     },
     "execution_count": 5,
     "metadata": {},
     "output_type": "execute_result"
    }
   ],
   "source": [
    "feasible(f_params(), [1.0, 1.2])"
   ]
  },
  {
   "cell_type": "markdown",
   "metadata": {},
   "source": [
    "Nonnegativity constraint of c1 is violated, likely to be caused by b2"
   ]
  },
  {
   "cell_type": "markdown",
   "metadata": {},
   "source": [
    "### 2.1b"
   ]
  },
  {
   "cell_type": "code",
   "execution_count": 6,
   "metadata": {},
   "outputs": [
    {
     "data": {
      "text/plain": [
       "(array([False, False]), array([False, False, False]), array([False]))"
      ]
     },
     "execution_count": 6,
     "metadata": {},
     "output_type": "execute_result"
    }
   ],
   "source": [
    "feasible(f_params(), [0.06, -0.001])"
   ]
  },
  {
   "cell_type": "markdown",
   "metadata": {},
   "source": [
    "No constraint is violated"
   ]
  },
  {
   "cell_type": "markdown",
   "metadata": {},
   "source": [
    "### 2.1c"
   ]
  },
  {
   "cell_type": "code",
   "execution_count": 7,
   "metadata": {},
   "outputs": [
    {
     "data": {
      "text/plain": [
       "(array([False, False]), array([False, False, False]), array([False]))"
      ]
     },
     "execution_count": 7,
     "metadata": {},
     "output_type": "execute_result"
    }
   ],
   "source": [
    "feasible(f_params(), [0.1, 0.1])"
   ]
  },
  {
   "cell_type": "markdown",
   "metadata": {},
   "source": [
    "No constraint is violated"
   ]
  },
  {
   "cell_type": "markdown",
   "metadata": {},
   "source": [
    "## Exercise 2.2"
   ]
  },
  {
   "cell_type": "code",
   "execution_count": 54,
   "metadata": {},
   "outputs": [],
   "source": [
    "def eqbm(bvec, w, r, params):\n",
    "\n",
    "    β, σ, nvec, L, A, α, δ, SS_tol = params\n",
    "    \n",
    "    w_params = A, α\n",
    "    r_params = A, α, δ\n",
    "    c_params = A, α, δ\n",
    "    \n",
    "    w = get_w(nvec, bvec, w_params)\n",
    "    r = get_r(nvec, bvec, r_params)\n",
    "    \n",
    "    c1bar, c2bar, c3bar = get_c(nvec, bvec, c_params)\n",
    "    \n",
    "    mu1 = get_uprime(c1bar, σ)\n",
    "    mu2 = get_uprime(c2bar, σ)\n",
    "    mu3 = get_uprime(c3bar, σ)\n",
    "    print(mu1,mu2,mu3)\n",
    "    \n",
    "    f1 = mu1 - β * (1 + r) * mu2\n",
    "    f2 = mu2 - β * (1 + r) * mu3\n",
    "\n",
    "    return f1, f2"
   ]
  },
  {
   "cell_type": "code",
   "execution_count": 55,
   "metadata": {},
   "outputs": [
    {
     "name": "stdout",
     "output_type": "stream",
     "text": [
      "164.75510252676185 108.57626920752709 71.55351217793152\n"
     ]
    },
    {
     "data": {
      "text/plain": [
       "(-1.3926637620897964e-12, 2.6290081223123707e-12)"
      ]
     },
     "execution_count": 55,
     "metadata": {},
     "output_type": "execute_result"
    }
   ],
   "source": [
    "eqbm(b_ss, w_ss, r_ss, params1())"
   ]
  },
  {
   "cell_type": "code",
   "execution_count": 9,
   "metadata": {},
   "outputs": [],
   "source": [
    "def get_SS(params, bvec_guess, SS_graphs = True):\n",
    "    \n",
    "    #start time\n",
    "    start_time = time.time()\n",
    "    \n",
    "    #unpack parameters\n",
    "    β, σ, nvec, L, A, α, δ, SS_tol = params\n",
    "    \n",
    "    w_params = A, α\n",
    "    r_params = A, α, δ\n",
    "    c_params = A, α, δ\n",
    "    Y_params = A, α\n",
    "    \n",
    "    w = get_w(nvec, bvec_guess, w_params)\n",
    "    r = get_r(nvec, bvec_guess, r_params)\n",
    "    \n",
    "    #find root\n",
    "    b_ss = optimize.fsolve(eqbm, bvec_guess, args = (w, r, params), xtol = SS_tol)\n",
    "    b2bar, b3bar = b_ss\n",
    "    \n",
    "    #compute all steady state variables\n",
    "    c_ss = get_c(nvec, b_ss, c_params)\n",
    "    w_ss = get_w(nvec, b_ss, w_params)\n",
    "    r_ss = get_r(nvec, b_ss, r_params)\n",
    "    K_ss = get_K(b_ss)\n",
    "    Y_ss = get_Y(nvec, b_ss, Y_params)\n",
    "    C_ss = np.sum(c_ss)\n",
    "    EulErr_ss = eqbm(b_ss, w_ss, r_ss, params)\n",
    "    RCerr_ss = Y_ss - C_ss - δ * K_ss\n",
    "    ss_time = time.time() - start_time\n",
    "    \n",
    "    if SS_graphs == True:\n",
    "        plt.figure(figsize = (7,7))\n",
    "        plt.plot([2,3], b_ss, '-o', label = 'savings')\n",
    "        plt.plot([1,2,3], c_ss, '-o', label = 'consumption')\n",
    "        plt.xlabel('age')\n",
    "        plt.xticks([1,2,3])\n",
    "        plt.ylabel('savings and consumption')\n",
    "        plt.title('savings and consumption vs. age')\n",
    "        plt.legend()\n",
    "        plt.grid()\n",
    "        plt.show()\n",
    "    \n",
    "    results = dict({'b_ss': b_ss, 'c_ss': c_ss, 'w_ss': w_ss, 'r_ss': r_ss, \n",
    "                    'K_ss': K_ss, 'Y_ss': Y_ss, 'C_ss': C_ss,\n",
    "                    'EulErr_ss': EulErr_ss, 'RCerr_ss': RCerr_ss,\n",
    "                    'ss_time': ss_time})\n",
    "    return results"
   ]
  },
  {
   "cell_type": "markdown",
   "metadata": {},
   "source": [
    "### 2.2a and b"
   ]
  },
  {
   "cell_type": "code",
   "execution_count": 39,
   "metadata": {},
   "outputs": [
    {
     "data": {
      "image/png": "[encoded data removed]",
      "text/plain": [
       "<Figure size 504x504 with 1 Axes>"
      ]
     },
     "metadata": {
      "needs_background": "light"
     },
     "output_type": "display_data"
    },
    {
     "data": {
      "text/plain": [
       "{'b_ss': array([0.01931253, 0.0584111 ]),\n",
       " 'c_ss': (0.18241212755849867, 0.20961468030898922, 0.24087386507209851),\n",
       " 'w_ss': 0.20172465739052575,\n",
       " 'r_ss': 2.433062339127069,\n",
       " 'K_ss': 0.07772362575316386,\n",
       " 'Y_ss': 0.6827603788602411,\n",
       " 'C_ss': 0.6329006729395864,\n",
       " 'EulErr_ss': (-1.3926637620897964e-12, 2.6290081223123707e-12),\n",
       " 'RCerr_ss': 8.326672684688674e-17,\n",
       " 'ss_time': 0.003229856491088867}"
      ]
     },
     "execution_count": 39,
     "metadata": {},
     "output_type": "execute_result"
    }
   ],
   "source": [
    "def params1():\n",
    "    β = 0.442\n",
    "    δ = 0.6415\n",
    "    σ = 3\n",
    "    A = 1\n",
    "    α = 0.35\n",
    "    nvec = np.array([1, 1, 0.2])\n",
    "    L = np.sum(nvec)\n",
    "    SS_tol = 1e-8\n",
    "    return β, σ, nvec, L, A, α, δ, SS_tol\n",
    "\n",
    "bvec_guess = [0.1, 0.1]\n",
    "\n",
    "ss1 = get_SS(params1(), bvec_guess)\n",
    "ss1"
   ]
  },
  {
   "cell_type": "markdown",
   "metadata": {},
   "source": [
    "### 2.2c"
   ]
  },
  {
   "cell_type": "code",
   "execution_count": 11,
   "metadata": {},
   "outputs": [
    {
     "data": {
      "image/png": "[encoded data removed]",
      "text/plain": [
       "<Figure size 504x504 with 1 Axes>"
      ]
     },
     "metadata": {
      "needs_background": "light"
     },
     "output_type": "display_data"
    },
    {
     "data": {
      "text/plain": [
       "{'b_ss': array([0.02817692, 0.07686545]),\n",
       " 'c_ss': (0.19597527701928497, 0.2286159413839988, 0.26669307195186887),\n",
       " 'w_ss': 0.22415219593446706,\n",
       " 'r_ss': 1.8863765057189819,\n",
       " 'K_ss': 0.1050423702259807,\n",
       " 'Y_ss': 0.7586689708551193,\n",
       " 'C_ss': 0.6912842903551526,\n",
       " 'EulErr_ss': (6.87805368215777e-12, 2.5295321393059567e-12),\n",
       " 'RCerr_ss': 9.71445146547012e-17,\n",
       " 'ss_time': 0.0017828941345214844}"
      ]
     },
     "execution_count": 11,
     "metadata": {},
     "output_type": "execute_result"
    }
   ],
   "source": [
    "def params2():\n",
    "    β = 0.55\n",
    "    δ = 0.6415\n",
    "    σ = 3\n",
    "    A = 1\n",
    "    α = 0.35\n",
    "    nvec = np.array([1, 1, 0.2])\n",
    "    L = np.sum(nvec)\n",
    "    SS_tol = 1e-8\n",
    "    return β, σ, nvec, L, A, α, δ, SS_tol\n",
    "\n",
    "bvec_guess = [0.1, 0.1]\n",
    "\n",
    "ss2 = get_SS(params2(), bvec_guess)\n",
    "ss2"
   ]
  },
  {
   "cell_type": "code",
   "execution_count": 38,
   "metadata": {},
   "outputs": [
    {
     "data": {
      "text/plain": [
       "{'b_ss': array([0.00886439, 0.01845436]),\n",
       " 'c_ss': array([0.01356315, 0.01900126, 0.02581921]),\n",
       " 'w_ss': 0.022427538543941306,\n",
       " 'r_ss': -0.5466858334080873,\n",
       " 'K_ss': 0.027318744472816847,\n",
       " 'Y_ss': 0.0759085919948782,\n",
       " 'C_ss': 0.05838361741556619,\n",
       " 'EulErr_ss': array([ 8.27071744e-12, -9.94759830e-14]),\n",
       " 'RCerr_ss': 1.3877787807814457e-17,\n",
       " 'ss_time': -0.0009660720825195312}"
      ]
     },
     "execution_count": 38,
     "metadata": {},
     "output_type": "execute_result"
    }
   ],
   "source": [
    "difference = dict()\n",
    "for i in ss1.keys():\n",
    "    difference[i] = np.array(ss2[i]) - np.array(ss1[i])\n",
    "difference"
   ]
  },
  {
   "cell_type": "markdown",
   "metadata": {},
   "source": [
    "Everything increases except rent.  \n",
    "This can be interpreted as ...  \n",
    "I think that the exogenous labour supply plays a part..."
   ]
  },
  {
   "cell_type": "markdown",
   "metadata": {},
   "source": [
    "## Exercise 2.3\n",
    "Time path iteration:  \n",
    "- Step 1: solve for steady state, finished in 2.2\n",
    "- Step 2: guess $T = 50$\n",
    "- Step 3: guess \n",
    "$$K^i = (K_1^i, ... , K_T^i) = (1, ..., 1)$$\n",
    "$$r^i = (r_1^i, ... , r_T^i) = (1, ..., 1)$$\n",
    "$$w^i = (w_1^i, ... , w_T^i) = (1, ..., 1)$$\n",
    "- Step 4: Solve household problem, solution as $(b_{2, t+1}, b_{3, t+1})_{t=1}^T$\n",
    "- Step 5: update capital stock, check $\\sum||K^{i'}-K^i|| \\leq \\epsilon$, if not, update $K^{i+1} = \\xi K^{i'} + (1-\\xi) K^i$"
   ]
  },
  {
   "cell_type": "code",
   "execution_count": 78,
   "metadata": {},
   "outputs": [],
   "source": [
    "# Step 1:\n",
    "b_ss = ss1['b_ss']\n",
    "K_ss = ss1['K_ss']\n",
    "r_ss = ss1['r_ss']\n",
    "w_ss = ss1['w_ss']"
   ]
  },
  {
   "cell_type": "code",
   "execution_count": 79,
   "metadata": {},
   "outputs": [],
   "source": [
    "# Step 2:\n",
    "def guessT():\n",
    "    return 50"
   ]
  },
  {
   "cell_type": "code",
   "execution_count": 80,
   "metadata": {},
   "outputs": [],
   "source": [
    "# Step 3:\n",
    "def guessK(T, b_init):\n",
    "    \n",
    "    K0 = get_K(b_init)\n",
    "    K_init = np.linspace(K0, K_ss, T)\n",
    "\n",
    "    return K_init\n",
    "\n",
    "def get_w_with_K(K, params):\n",
    "    \n",
    "    # unpack params\n",
    "    β, σ, nvec, L, A, α, δ, SS_tol = params\n",
    "    \n",
    "    w = (1-α) * A * (K/L)**α\n",
    "    \n",
    "    return w\n",
    "\n",
    "def get_r_with_K(K, params):\n",
    "    \n",
    "    # unpack params\n",
    "    β, σ, nvec, L, A, α, δ, SS_tol = params\n",
    "    \n",
    "    r = α * A * (L/K)**(1-α) - δ\n",
    "    return r"
   ]
  },
  {
   "cell_type": "code",
   "execution_count": 81,
   "metadata": {},
   "outputs": [],
   "source": [
    "# Step 4:\n",
    "def Euler_old(b32, bvec, r1, r2, w1, w2, params):\n",
    "    \n",
    "    # unpack params\n",
    "    β, σ, nvec, L, A, α, δ, SS_tol = params\n",
    "    b21, b31 = bvec\n",
    "    n1, n2, n3 = nvec\n",
    "    \n",
    "    # marginal utilities\n",
    "    mu2 = get_uprime(w1 * n2 + (1 + r1) * b21 - b32, α)\n",
    "    mu3 = get_uprime(w2 * n3 + (1 + r2) * b32, α)\n",
    "    \n",
    "    # Euler in the first period, for middle-aged.\n",
    "    f3 = mu2 - β * (1 + r2) * mu3\n",
    "        \n",
    "    return f3\n",
    "\n",
    "def Euler_young(new_twisted_b, bvec, b32, r3, w3, params):\n",
    "    \n",
    "    # unpack params\n",
    "    b22, b33 = new_twisted_b\n",
    "    β, σ, nvec, L, A, α, δ, SS_tol = params\n",
    "    n1, n2, n3 = nvec\n",
    "    \n",
    "    # pack params\n",
    "    w_params = A, α\n",
    "    r_params = A, α, δ\n",
    "    \n",
    "    # w2 and r2\n",
    "    w1 = get_w(nvec, bvec, w_params)\n",
    "    w2 = get_w(nvec, [b22, b32], w_params)\n",
    "    r2 = get_r(nvec, [b22, b32], r_params)\n",
    "    \n",
    "    # Euler other than first period, for young-aged.\n",
    "    mu1 = get_uprime(w1 * n1 - b22, σ)\n",
    "    mu2 = get_uprime(w2 * n2 + (1 + r2) * b22 - b33, σ)\n",
    "    mu3 = get_uprime(w3 * n3 + (1 + r3) * b33, σ)\n",
    "    \n",
    "    # Euler equations\n",
    "    f1 = mu1 - β * (1 + r2) * mu2\n",
    "    f2 = mu2 - β * (1 + r3) * mu3\n",
    "    \n",
    "    return np.array([f1, f2])\n",
    "\n",
    "def iteration_first(bvec, r1, r2, w1, w2, params):\n",
    "    # if we are at the very first period\n",
    "    \n",
    "    # unpack params\n",
    "    β, σ, nvec, L, A, α, δ, SS_tol = params\n",
    "    b32 = bvec[1]\n",
    "    \n",
    "    b32 = float(optimize.fsolve(Euler_old, b32, args = (bvec, r1, r2, w1, w2, params), xtol = SS_tol))\n",
    "    b21 = bvec[0]\n",
    "    twisted_b = np.array([b21, b32])\n",
    "    \n",
    "    return twisted_b\n",
    "\n",
    "def one_iteration(twisted_b, b31, r3, w3, params):\n",
    "    # if not at first period\n",
    "    \n",
    "    # unpack params\n",
    "    β, σ, nvec, L, A, α, δ, SS_tol = params\n",
    "    \n",
    "    \n",
    "    b21, b32 = twisted_b\n",
    "    bvec = np.array([b21, b31])\n",
    "    new_twisted_b = optimize.fsolve(Euler_young, twisted_b, args = (bvec, b32, r3, w3, params), xtol = SS_tol)\n",
    "    \n",
    "    return new_twisted_b\n",
    "\n",
    "def one_TPI(T, w, r, b_init, K_old, params):\n",
    "    K_new = np.copy(K_old)\n",
    "    for i in range(T):\n",
    "        if i == 0: # in the very first period\n",
    "            old_twisted_b = iteration_first(b_init, r[0], r[1], w[0], w[1], params)\n",
    "            b31 = b_init[1]\n",
    "        # then, in all periods\n",
    "        new_twisted_b = one_iteration(old_twisted_b, b31, r[i+1], w[i+1], params)\n",
    "        b_current = [new_twisted_b[0], old_twisted_b[1]]\n",
    "#         print(b_current)\n",
    "        b31 = b_current[1]\n",
    "        K_current = get_K(b_current)\n",
    "        K_new[i] = K_current \n",
    "        old_twisted_b = new_twisted_b\n",
    "        \n",
    "    return K_new"
   ]
  },
  {
   "cell_type": "code",
   "execution_count": 84,
   "metadata": {},
   "outputs": [],
   "source": [
    "def l2diff(K_new, K_old):\n",
    "    K_new = K_new[:49:]\n",
    "    L_old = K_old[:49:]\n",
    "    diff = 0.0\n",
    "    for i in range(len(K_new)):\n",
    "        norm = (K_new[i] - K_old[i])**2\n",
    "        diff += norm\n",
    "    \n",
    "    diff = np.sqrt(diff)\n",
    "    return diff\n",
    "\n",
    "def iterate(T, ξ, tol, maxiter, params):\n",
    "    \n",
    "    # unpack params\n",
    "    β, σ, nvec, L, A, α, δ, SS_tol = params\n",
    "    \n",
    "    # initialize\n",
    "    b_init = [0.8 * b_ss[0], 1.1 * b_ss[1]]\n",
    "\n",
    "    K_init = guessK(T+1, b_init)\n",
    "    w = get_w_with_K(K_init, params)\n",
    "    r = get_r_with_K(K_init, params)\n",
    "    \n",
    "    K_new = K_init\n",
    "    K_old = K_init\n",
    "    \n",
    "    diff = np.inf\n",
    "    i = 0\n",
    "    while diff > tol:\n",
    "\n",
    "        K_new = one_TPI(T, w, r, b_init, K_old, params)\n",
    "        w = get_w_with_K(K_new, params)\n",
    "        r = get_r_with_K(K_new, params)\n",
    "\n",
    "        diff = l2diff(K_new, K_old)\n",
    "\n",
    "        i += 1\n",
    "        K_old = ξ * K_new + (1 - ξ) * K_old\n",
    "        \n",
    "        if i > maxiter:\n",
    "            print(\"did not converge within {} iterations\".format(maxiter))\n",
    "            break\n",
    "    \n",
    "    return K_new"
   ]
  },
  {
   "cell_type": "code",
   "execution_count": null,
   "metadata": {},
   "outputs": [],
   "source": []
  },
  {
   "cell_type": "code",
   "execution_count": 93,
   "metadata": {},
   "outputs": [
    {
     "data": {
      "image/png": "[encoded data removed]",
      "text/plain": [
       "<Figure size 1080x360 with 3 Axes>"
      ]
     },
     "metadata": {
      "needs_background": "light"
     },
     "output_type": "display_data"
    }
   ],
   "source": [
    "Kpath = np.hstack((iterate(guessT(), 0.1, 1e-5, 100, params1()),np.array([K_ss, K_ss, K_ss, K_ss])))\n",
    "T_grid = list(range(len(Kpath)))\n",
    "fig, (ax1, ax2, ax3) = plt.subplots(nrows = 1, ncols = 3, figsize = (15,5))\n",
    "# capital path\n",
    "ax1.plot(T_grid, Kpath, label = 'capital')\n",
    "ax1.set_title('capital path')\n",
    "ax1.set_xlabel('time period')\n",
    "ax1.set_ylabel('capital')\n",
    "# wage path\n",
    "ax2.plot(T_grid, get_w_with_K(Kpath, params1()), label = 'wage')\n",
    "ax2.set_title('wage path')\n",
    "ax2.set_xlabel('time period')\n",
    "ax2.set_ylabel('wage')\n",
    "# rent path\n",
    "ax3.plot(T_grid, get_r_with_K(Kpath, params1()), label = 'rent')\n",
    "ax3.set_title('rent path')\n",
    "ax3.set_xlabel('time period')\n",
    "ax3.set_ylabel('rent')\n",
    "plt.show()"
   ]
  }
 ],
 "metadata": {
  "kernelspec": {
   "display_name": "Python 3",
   "language": "python",
   "name": "python3"
  },
  "language_info": {
   "codemirror_mode": {
    "name": "ipython",
    "version": 3
   },
   "file_extension": ".py",
   "mimetype": "text/x-python",
   "name": "python",
   "nbconvert_exporter": "python",
   "pygments_lexer": "ipython3",
   "version": "3.7.3"
  }
 },
 "nbformat": 4,
 "nbformat_minor": 2
}
