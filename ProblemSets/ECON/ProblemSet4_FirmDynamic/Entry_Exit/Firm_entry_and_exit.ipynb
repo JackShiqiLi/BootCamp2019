{
 "cells": [
  {
   "cell_type": "code",
   "execution_count": 9,
   "metadata": {},
   "outputs": [],
   "source": [
    "import numpy as np\n",
    "import matplotlib.pyplot as plt\n",
    "from scipy import optimize as opt\n",
    "import quantecon as qe"
   ]
  },
  {
   "cell_type": "markdown",
   "metadata": {},
   "source": [
    "## Question 2: Solve for representative agent steady state"
   ]
  },
  {
   "cell_type": "code",
   "execution_count": 12,
   "metadata": {},
   "outputs": [],
   "source": [
    "qe?"
   ]
  },
  {
   "cell_type": "code",
   "execution_count": 10,
   "metadata": {},
   "outputs": [],
   "source": [
    "def params1():\n",
    "    \n",
    "    θ = 0.21\n",
    "    ν = 0.64\n",
    "    δ = 0.1\n",
    "    β = 0.96\n",
    "    ϕ = 0.5\n",
    "    ρ = 0.9\n",
    "    σ = 0.02\n",
    "    cf = 0.01\n",
    "    ce = 0.1\n",
    "    \n",
    "    params = θ, ν, δ, β, ϕ, ρ, σ, cf, ce\n",
    "    \n",
    "    return params"
   ]
  },
  {
   "cell_type": "code",
   "execution_count": 21,
   "metadata": {},
   "outputs": [
    {
     "data": {
      "text/plain": [
       "array([2.09597199e+83])"
      ]
     },
     "execution_count": 21,
     "metadata": {},
     "output_type": "execute_result"
    }
   ],
   "source": [
    "def get_markov_shocks(*params):\n",
    "    \n",
    "    # unpack params\n",
    "    θ, ν, δ, β, ϕ, ρ, σ, cf, ce = params\n",
    "    \n",
    "    # markov approximation of shocks using quantecon\n",
    "    shock_matrix = qe.markov.approximation.tauchen(ρ, σ, n = 10)\n",
    "    \n",
    "    return shock_matrix\n",
    "\n",
    "def get_SS_shocks(markov_shocks):\n",
    "    \n",
    "    SS_shock = markov_shocks.stationary_distributions\n",
    "    \n",
    "    return SS_shock\n",
    "\n",
    "def get_w(K, N, shock, *params):\n",
    "    \n",
    "    # unpack params\n",
    "    θ, ν, δ, β, ϕ, ρ, σ, cf, ce = params\n",
    "    \n",
    "    w = θ * np.exp(shock) * K**(θ-1) * N**ν\n",
    "    \n",
    "    return w\n",
    "\n",
    "def get_r(K, N, shock, *params):\n",
    "    \n",
    "    # unpack params\n",
    "    θ, ν, δ, β, ϕ, ρ, σ, cf, ce = params\n",
    "    \n",
    "    r = ν * np.exp(shock) * K**θ * N**(ν-1)\n",
    "    \n",
    "    return r\n",
    "\n",
    "def get_c(w, r, K, N, *params):\n",
    "    \n",
    "    # unpack params\n",
    "    θ, ν, δ, β, ϕ, ρ, σ, cf, ce = params\n",
    "    \n",
    "    c = w * N + r * K - (K - (1 - δ) * K)\n",
    "    \n",
    "    return c\n",
    "\n",
    "def SS_rep(K, N, shock, *params):\n",
    "    \n",
    "    # unpack params\n",
    "    θ, ν, δ, β, ϕ, ρ, σ, cf, ce = params\n",
    "    \n",
    "    w = get_w(K, N, shock, *params)\n",
    "    r = get_r(K, N, shock, *params)\n",
    "    c = get_c(w, r, K, N, *params)\n",
    "    \n",
    "    f1 = β * (1/c) * (1 - δ + r) - (1/c)\n",
    "    \n",
    "    return f1\n",
    "\n",
    "opt.fsolve(SS_rep, 0.5, args = (0.6, get_mean_TFP(get_markov_shocks(*params1())), *params1()))"
   ]
  }
 ],
 "metadata": {
  "kernelspec": {
   "display_name": "Python 3",
   "language": "python",
   "name": "python3"
  },
  "language_info": {
   "codemirror_mode": {
    "name": "ipython",
    "version": 3
   },
   "file_extension": ".py",
   "mimetype": "text/x-python",
   "name": "python",
   "nbconvert_exporter": "python",
   "pygments_lexer": "ipython3",
   "version": "3.7.3"
  }
 },
 "nbformat": 4,
 "nbformat_minor": 2
}
