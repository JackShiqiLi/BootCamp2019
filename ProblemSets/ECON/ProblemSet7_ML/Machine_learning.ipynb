{
 "cells": [
  {
   "cell_type": "code",
   "execution_count": 49,
   "metadata": {},
   "outputs": [],
   "source": [
    "import numpy as np\n",
    "import pandas as pd\n",
    "from pandas import Series, DataFrame\n",
    "\n",
    "import sklearn\n",
    "from sklearn import preprocessing\n",
    "from sklearn.linear_model import LogisticRegression\n",
    "from sklearn.model_selection import train_test_split, LeaveOneOut, KFold\n",
    "from sklearn import metrics \n",
    "from sklearn.metrics import classification_report\n",
    "from sklearn.metrics import mean_squared_error\n",
    "from sklearn.tree import DecisionTreeRegressor, DecisionTreeClassifier\n",
    "from pylab import rcParams\n",
    "from sklearn.model_selection import RandomizedSearchCV, GridSearchCV\n",
    "from scipy.stats import randint as sp_randint\n",
    "from scipy.stats import uniform as sp_uniform\n",
    "from sklearn.ensemble import RandomForestRegressor, RandomForestClassifier\n",
    "from sklearn.svm import SVC\n",
    "from scipy.stats import uniform as sp_uniform\n",
    "from sklearn.neural_network import MLPClassifier\n",
    "\n",
    "import matplotlib.pyplot as plt\n",
    "import seaborn as sb"
   ]
  },
  {
   "cell_type": "markdown",
   "metadata": {},
   "source": [
    "# 1. Multinomial logistic regression and cross validation"
   ]
  },
  {
   "cell_type": "code",
   "execution_count": 2,
   "metadata": {},
   "outputs": [
    {
     "data": {
      "text/html": [
       "<div>\n",
       "<style scoped>\n",
       "    .dataframe tbody tr th:only-of-type {\n",
       "        vertical-align: middle;\n",
       "    }\n",
       "\n",
       "    .dataframe tbody tr th {\n",
       "        vertical-align: top;\n",
       "    }\n",
       "\n",
       "    .dataframe thead th {\n",
       "        text-align: right;\n",
       "    }\n",
       "</style>\n",
       "<table border=\"1\" class=\"dataframe\">\n",
       "  <thead>\n",
       "    <tr style=\"text-align: right;\">\n",
       "      <th></th>\n",
       "      <th>cultivar</th>\n",
       "      <th>alco</th>\n",
       "      <th>malic</th>\n",
       "      <th>ash</th>\n",
       "      <th>alk</th>\n",
       "      <th>magn</th>\n",
       "      <th>tot_phen</th>\n",
       "      <th>flav</th>\n",
       "      <th>nonfl_phen</th>\n",
       "      <th>proanth</th>\n",
       "      <th>color_int</th>\n",
       "      <th>hue</th>\n",
       "      <th>OD280rat</th>\n",
       "      <th>proline</th>\n",
       "    </tr>\n",
       "  </thead>\n",
       "  <tbody>\n",
       "    <tr>\n",
       "      <th>74</th>\n",
       "      <td>2</td>\n",
       "      <td>11.96</td>\n",
       "      <td>1.09</td>\n",
       "      <td>2.30</td>\n",
       "      <td>21.0</td>\n",
       "      <td>101</td>\n",
       "      <td>3.38</td>\n",
       "      <td>2.14</td>\n",
       "      <td>0.13</td>\n",
       "      <td>1.65</td>\n",
       "      <td>3.21</td>\n",
       "      <td>0.99</td>\n",
       "      <td>3.13</td>\n",
       "      <td>886</td>\n",
       "    </tr>\n",
       "    <tr>\n",
       "      <th>88</th>\n",
       "      <td>2</td>\n",
       "      <td>11.64</td>\n",
       "      <td>2.06</td>\n",
       "      <td>2.46</td>\n",
       "      <td>21.6</td>\n",
       "      <td>84</td>\n",
       "      <td>1.95</td>\n",
       "      <td>1.69</td>\n",
       "      <td>0.48</td>\n",
       "      <td>1.35</td>\n",
       "      <td>2.80</td>\n",
       "      <td>1.00</td>\n",
       "      <td>2.75</td>\n",
       "      <td>680</td>\n",
       "    </tr>\n",
       "    <tr>\n",
       "      <th>102</th>\n",
       "      <td>2</td>\n",
       "      <td>12.34</td>\n",
       "      <td>2.45</td>\n",
       "      <td>2.46</td>\n",
       "      <td>21.0</td>\n",
       "      <td>98</td>\n",
       "      <td>2.56</td>\n",
       "      <td>2.11</td>\n",
       "      <td>0.34</td>\n",
       "      <td>1.31</td>\n",
       "      <td>2.80</td>\n",
       "      <td>0.80</td>\n",
       "      <td>3.38</td>\n",
       "      <td>438</td>\n",
       "    </tr>\n",
       "    <tr>\n",
       "      <th>114</th>\n",
       "      <td>2</td>\n",
       "      <td>12.08</td>\n",
       "      <td>1.39</td>\n",
       "      <td>2.50</td>\n",
       "      <td>22.5</td>\n",
       "      <td>84</td>\n",
       "      <td>2.56</td>\n",
       "      <td>2.29</td>\n",
       "      <td>0.43</td>\n",
       "      <td>1.04</td>\n",
       "      <td>2.90</td>\n",
       "      <td>0.93</td>\n",
       "      <td>3.19</td>\n",
       "      <td>385</td>\n",
       "    </tr>\n",
       "    <tr>\n",
       "      <th>150</th>\n",
       "      <td>3</td>\n",
       "      <td>12.79</td>\n",
       "      <td>2.67</td>\n",
       "      <td>2.48</td>\n",
       "      <td>22.0</td>\n",
       "      <td>112</td>\n",
       "      <td>1.48</td>\n",
       "      <td>1.36</td>\n",
       "      <td>0.24</td>\n",
       "      <td>1.26</td>\n",
       "      <td>10.80</td>\n",
       "      <td>0.48</td>\n",
       "      <td>1.47</td>\n",
       "      <td>480</td>\n",
       "    </tr>\n",
       "  </tbody>\n",
       "</table>\n",
       "</div>"
      ],
      "text/plain": [
       "     cultivar   alco  malic   ash   alk  magn  tot_phen  flav  nonfl_phen  \\\n",
       "74          2  11.96   1.09  2.30  21.0   101      3.38  2.14        0.13   \n",
       "88          2  11.64   2.06  2.46  21.6    84      1.95  1.69        0.48   \n",
       "102         2  12.34   2.45  2.46  21.0    98      2.56  2.11        0.34   \n",
       "114         2  12.08   1.39  2.50  22.5    84      2.56  2.29        0.43   \n",
       "150         3  12.79   2.67  2.48  22.0   112      1.48  1.36        0.24   \n",
       "\n",
       "     proanth  color_int   hue  OD280rat  proline  \n",
       "74      1.65       3.21  0.99      3.13      886  \n",
       "88      1.35       2.80  1.00      2.75      680  \n",
       "102     1.31       2.80  0.80      3.38      438  \n",
       "114     1.04       2.90  0.93      3.19      385  \n",
       "150     1.26      10.80  0.48      1.47      480  "
      ]
     },
     "execution_count": 2,
     "metadata": {},
     "output_type": "execute_result"
    }
   ],
   "source": [
    "drink = pd.read_csv('strongdrink.txt')\n",
    "drink.sample(5)"
   ]
  },
  {
   "cell_type": "code",
   "execution_count": 3,
   "metadata": {},
   "outputs": [],
   "source": [
    "X = drink[['alco', 'malic', 'tot_phen', 'color_int']].values\n",
    "y = drink['cultivar'].values"
   ]
  },
  {
   "cell_type": "markdown",
   "metadata": {},
   "source": [
    "### a) 75% training set"
   ]
  },
  {
   "cell_type": "code",
   "execution_count": 4,
   "metadata": {},
   "outputs": [
    {
     "data": {
      "text/html": [
       "<div>\n",
       "<style scoped>\n",
       "    .dataframe tbody tr th:only-of-type {\n",
       "        vertical-align: middle;\n",
       "    }\n",
       "\n",
       "    .dataframe tbody tr th {\n",
       "        vertical-align: top;\n",
       "    }\n",
       "\n",
       "    .dataframe thead th {\n",
       "        text-align: right;\n",
       "    }\n",
       "</style>\n",
       "<table border=\"1\" class=\"dataframe\">\n",
       "  <thead>\n",
       "    <tr style=\"text-align: right;\">\n",
       "      <th></th>\n",
       "      <th>j=1</th>\n",
       "      <th>j=2</th>\n",
       "    </tr>\n",
       "  </thead>\n",
       "  <tbody>\n",
       "    <tr>\n",
       "      <th>β0</th>\n",
       "      <td>-24.027617</td>\n",
       "      <td>22.780733</td>\n",
       "    </tr>\n",
       "    <tr>\n",
       "      <th>β1</th>\n",
       "      <td>1.701734</td>\n",
       "      <td>-1.466297</td>\n",
       "    </tr>\n",
       "    <tr>\n",
       "      <th>β2</th>\n",
       "      <td>-0.265788</td>\n",
       "      <td>-0.332951</td>\n",
       "    </tr>\n",
       "    <tr>\n",
       "      <th>β3</th>\n",
       "      <td>1.224101</td>\n",
       "      <td>0.663556</td>\n",
       "    </tr>\n",
       "    <tr>\n",
       "      <th>β4</th>\n",
       "      <td>0.022507</td>\n",
       "      <td>-0.922682</td>\n",
       "    </tr>\n",
       "  </tbody>\n",
       "</table>\n",
       "</div>"
      ],
      "text/plain": [
       "          j=1        j=2\n",
       "β0 -24.027617  22.780733\n",
       "β1   1.701734  -1.466297\n",
       "β2  -0.265788  -0.332951\n",
       "β3   1.224101   0.663556\n",
       "β4   0.022507  -0.922682"
      ]
     },
     "execution_count": 4,
     "metadata": {},
     "output_type": "execute_result"
    }
   ],
   "source": [
    "X_train, X_test, y_train, y_test = train_test_split(X, y, test_size = 0.25,random_state=20)\n",
    "clf = LogisticRegression(random_state=0, solver='lbfgs',\n",
    "                         multi_class='multinomial').fit(X_train, y_train)\n",
    "\n",
    "parameters = pd.DataFrame({\"j=1\":np.append(clf.intercept_[0],clf.coef_[0]),\n",
    "                           \"j=2\":np.append(clf.intercept_[1],clf.coef_[1])},\n",
    "                          index=[\"β0\",\"β1\",'β2','β3','β4'])\n",
    "\n",
    "parameters"
   ]
  },
  {
   "cell_type": "code",
   "execution_count": 5,
   "metadata": {},
   "outputs": [
    {
     "name": "stdout",
     "output_type": "stream",
     "text": [
      "              precision    recall  f1-score   support\n",
      "\n",
      "           1       0.87      1.00      0.93        13\n",
      "           2       1.00      0.90      0.95        21\n",
      "           3       1.00      1.00      1.00        10\n",
      "\n",
      "    accuracy                           0.95        44\n",
      "   macro avg       0.96      0.97      0.96        44\n",
      "weighted avg       0.96      0.95      0.96        44\n",
      "\n"
     ]
    }
   ],
   "source": [
    "y_pred=clf.predict(X_test)\n",
    "print(classification_report(y_test, y_pred))"
   ]
  },
  {
   "cell_type": "code",
   "execution_count": 6,
   "metadata": {},
   "outputs": [
    {
     "data": {
      "text/plain": [
       "2    71\n",
       "1    59\n",
       "3    46\n",
       "Name: cultivar, dtype: int64"
      ]
     },
     "execution_count": 6,
     "metadata": {},
     "output_type": "execute_result"
    }
   ],
   "source": [
    "drink['cultivar'].value_counts()"
   ]
  },
  {
   "cell_type": "code",
   "execution_count": 7,
   "metadata": {},
   "outputs": [
    {
     "name": "stdout",
     "output_type": "stream",
     "text": [
      "0.045454545454545456\n"
     ]
    }
   ],
   "source": [
    "print(mean_squared_error(y_test, y_pred))"
   ]
  },
  {
   "cell_type": "markdown",
   "metadata": {},
   "source": [
    "- Error rates for j=1 is 13%, j=2 is 0%.\n",
    "- category 2 is best predicted as category 3 is the baseline class.\n",
    "- The most accurately predicdted category is not the one with the most observations.\n",
    "- MSE is 0.04545."
   ]
  },
  {
   "cell_type": "markdown",
   "metadata": {},
   "source": [
    "### b) leave-one-out cross validation"
   ]
  },
  {
   "cell_type": "code",
   "execution_count": 8,
   "metadata": {},
   "outputs": [],
   "source": [
    "N_loo = X.shape[0]\n",
    "loo = LeaveOneOut()\n",
    "loo.get_n_splits(X)\n",
    "MSE_vec = np.zeros(N_loo)\n",
    "y_test_vec = np.zeros(N_loo)\n",
    "y_pred_vec = np.zeros(N_loo)"
   ]
  },
  {
   "cell_type": "code",
   "execution_count": 9,
   "metadata": {},
   "outputs": [
    {
     "name": "stdout",
     "output_type": "stream",
     "text": [
      "              precision    recall  f1-score   support\n",
      "\n",
      "         1.0       0.84      0.78      0.81        59\n",
      "         2.0       0.83      0.89      0.86        71\n",
      "         3.0       0.96      0.93      0.95        46\n",
      "\n",
      "    accuracy                           0.86       176\n",
      "   macro avg       0.87      0.87      0.87       176\n",
      "weighted avg       0.86      0.86      0.86       176\n",
      "\n"
     ]
    }
   ],
   "source": [
    "for train_index, test_index in loo.split(X):\n",
    "    X_train, X_test = X[train_index], X[test_index]\n",
    "    y_train, y_test = y[train_index], y[test_index]\n",
    "    LogReg = LogisticRegression(solver = 'liblinear', multi_class='auto')\n",
    "    LogReg.fit(X_train, y_train)\n",
    "    y_pred = LogReg.predict(X_test)\n",
    "    MSE_vec[test_index] = (y_test - y_pred) ** 2\n",
    "#     print('MSE for test set', test_index, ' is', MSE_vec[test_index])\n",
    "    y_test_vec[test_index] = y_test\n",
    "    y_pred_vec[test_index] = y_pred\n",
    "\n",
    "print(classification_report(y_test_vec, y_pred_vec))"
   ]
  },
  {
   "cell_type": "markdown",
   "metadata": {},
   "source": [
    "Error rates is 16% for j=1, 17% for j = 0, 4% for j = 3, much worse than the 75% train test split."
   ]
  },
  {
   "cell_type": "code",
   "execution_count": 10,
   "metadata": {},
   "outputs": [
    {
     "name": "stdout",
     "output_type": "stream",
     "text": [
      "LOOCV MSE = 0.1875\n"
     ]
    }
   ],
   "source": [
    "MSE_loo = MSE_vec.mean()\n",
    "print('LOOCV MSE =', MSE_loo)"
   ]
  },
  {
   "cell_type": "markdown",
   "metadata": {},
   "source": [
    "### c) k-fold cross validation"
   ]
  },
  {
   "cell_type": "code",
   "execution_count": 11,
   "metadata": {},
   "outputs": [],
   "source": [
    "k = 4\n",
    "kf = KFold(n_splits = k, shuffle = True, random_state = 10)\n",
    "kf.get_n_splits(X)\n",
    "N_loo = X.shape[0]\n",
    "MSE_vec_kf = np.zeros(k)\n",
    "y_test_vec_kf = np.zeros(N_loo)\n",
    "y_pred_vec_kf = np.zeros(N_loo)"
   ]
  },
  {
   "cell_type": "code",
   "execution_count": 12,
   "metadata": {},
   "outputs": [
    {
     "name": "stdout",
     "output_type": "stream",
     "text": [
      "MSE for test set 0 is 0.22727272727272727\n",
      "MSE for test set 1 is 0.11363636363636363\n",
      "MSE for test set 2 is 0.045454545454545456\n",
      "MSE for test set 3 is 0.045454545454545456\n",
      "              precision    recall  f1-score   support\n",
      "\n",
      "         1.0       0.87      0.93      0.90        59\n",
      "         2.0       0.91      0.87      0.89        71\n",
      "         3.0       0.96      0.93      0.95        46\n",
      "\n",
      "    accuracy                           0.91       176\n",
      "   macro avg       0.91      0.91      0.91       176\n",
      "weighted avg       0.91      0.91      0.91       176\n",
      "\n"
     ]
    }
   ],
   "source": [
    "k_ind = int(0)\n",
    "for train_index, test_index in kf.split(X):\n",
    "#     print(\"TRAIN:\", train_index, \"TEST:\", test_index)\n",
    "#     print('k index=', k_ind)\n",
    "    X_train, X_test = X[train_index], X[test_index]\n",
    "    y_train, y_test = y[train_index], y[test_index]\n",
    "    Mlogit = LogisticRegression(random_state=0, solver='newton-cg', multi_class='multinomial')\n",
    "    Mlogit.fit(X_train, y_train)\n",
    "    y_pred = Mlogit.predict(X_test)\n",
    "\n",
    "    MSE_vec_kf[k_ind] = mean_squared_error(y_test, y_pred)\n",
    "    y_test_vec_kf[test_index] = y_test\n",
    "    y_pred_vec_kf[test_index] = y_pred\n",
    "    print('MSE for test set', k_ind, 'is', MSE_vec_kf[k_ind])\n",
    "    k_ind += 1\n",
    "    \n",
    "print(classification_report(y_test_vec_kf, y_pred_vec_kf))"
   ]
  },
  {
   "cell_type": "markdown",
   "metadata": {},
   "source": [
    "Error rate is 13% for j=1, 9% for j=2, 4% for j=3, worse than the 75% train test split but better than LOOCV"
   ]
  },
  {
   "cell_type": "code",
   "execution_count": 13,
   "metadata": {},
   "outputs": [
    {
     "name": "stdout",
     "output_type": "stream",
     "text": [
      "K-fold MSE = 0.10795454545454546\n"
     ]
    }
   ],
   "source": [
    "MSE_kf = MSE_vec_kf.mean()\n",
    "print('K-fold MSE =', MSE_kf)"
   ]
  },
  {
   "cell_type": "markdown",
   "metadata": {},
   "source": [
    "# 2. Decision trees"
   ]
  },
  {
   "cell_type": "code",
   "execution_count": 14,
   "metadata": {},
   "outputs": [
    {
     "data": {
      "text/html": [
       "<div>\n",
       "<style scoped>\n",
       "    .dataframe tbody tr th:only-of-type {\n",
       "        vertical-align: middle;\n",
       "    }\n",
       "\n",
       "    .dataframe tbody tr th {\n",
       "        vertical-align: top;\n",
       "    }\n",
       "\n",
       "    .dataframe thead th {\n",
       "        text-align: right;\n",
       "    }\n",
       "</style>\n",
       "<table border=\"1\" class=\"dataframe\">\n",
       "  <thead>\n",
       "    <tr style=\"text-align: right;\">\n",
       "      <th></th>\n",
       "      <th>biden</th>\n",
       "      <th>female</th>\n",
       "      <th>age</th>\n",
       "      <th>educ</th>\n",
       "      <th>dem</th>\n",
       "      <th>rep</th>\n",
       "    </tr>\n",
       "  </thead>\n",
       "  <tbody>\n",
       "    <tr>\n",
       "      <th>91</th>\n",
       "      <td>50</td>\n",
       "      <td>1</td>\n",
       "      <td>20</td>\n",
       "      <td>12</td>\n",
       "      <td>0</td>\n",
       "      <td>0</td>\n",
       "    </tr>\n",
       "    <tr>\n",
       "      <th>1738</th>\n",
       "      <td>85</td>\n",
       "      <td>1</td>\n",
       "      <td>83</td>\n",
       "      <td>13</td>\n",
       "      <td>1</td>\n",
       "      <td>0</td>\n",
       "    </tr>\n",
       "    <tr>\n",
       "      <th>1098</th>\n",
       "      <td>50</td>\n",
       "      <td>1</td>\n",
       "      <td>60</td>\n",
       "      <td>14</td>\n",
       "      <td>1</td>\n",
       "      <td>0</td>\n",
       "    </tr>\n",
       "    <tr>\n",
       "      <th>1617</th>\n",
       "      <td>70</td>\n",
       "      <td>1</td>\n",
       "      <td>69</td>\n",
       "      <td>17</td>\n",
       "      <td>1</td>\n",
       "      <td>0</td>\n",
       "    </tr>\n",
       "    <tr>\n",
       "      <th>839</th>\n",
       "      <td>85</td>\n",
       "      <td>0</td>\n",
       "      <td>50</td>\n",
       "      <td>12</td>\n",
       "      <td>1</td>\n",
       "      <td>0</td>\n",
       "    </tr>\n",
       "  </tbody>\n",
       "</table>\n",
       "</div>"
      ],
      "text/plain": [
       "      biden  female  age  educ  dem  rep\n",
       "91       50       1   20    12    0    0\n",
       "1738     85       1   83    13    1    0\n",
       "1098     50       1   60    14    1    0\n",
       "1617     70       1   69    17    1    0\n",
       "839      85       0   50    12    1    0"
      ]
     },
     "execution_count": 14,
     "metadata": {},
     "output_type": "execute_result"
    }
   ],
   "source": [
    "biden = pd.read_csv('biden.csv')\n",
    "biden.sample(5)"
   ]
  },
  {
   "cell_type": "code",
   "execution_count": 15,
   "metadata": {},
   "outputs": [],
   "source": [
    "X = biden[['female', 'age', 'educ', 'dem', 'rep']].values\n",
    "y = biden['biden'].values"
   ]
  },
  {
   "cell_type": "markdown",
   "metadata": {},
   "source": [
    "### a) 70% training set"
   ]
  },
  {
   "cell_type": "code",
   "execution_count": 16,
   "metadata": {
    "scrolled": false
   },
   "outputs": [
    {
     "name": "stdout",
     "output_type": "stream",
     "text": [
      "70% training set MSE = 386.8938634284023\n"
     ]
    }
   ],
   "source": [
    "X_train, X_test, y_train, y_test = train_test_split(X, y, test_size = 0.3,random_state=20)\n",
    "\n",
    "biden_tree = DecisionTreeRegressor(max_depth=3, min_samples_leaf=5)\n",
    "biden_tree.fit(X_train, y_train)\n",
    "y_pred = biden_tree.predict(X_test)\n",
    "print('70% training set MSE =', mean_squared_error(y_test, y_pred))"
   ]
  },
  {
   "cell_type": "markdown",
   "metadata": {},
   "source": [
    "### b) Tune hyperparameters"
   ]
  },
  {
   "cell_type": "code",
   "execution_count": 17,
   "metadata": {},
   "outputs": [
    {
     "name": "stdout",
     "output_type": "stream",
     "text": [
      "Random Best Estimator = DecisionTreeRegressor(criterion='mse', max_depth=3, max_features=None,\n",
      "                      max_leaf_nodes=None, min_impurity_decrease=0.0,\n",
      "                      min_impurity_split=None, min_samples_leaf=18,\n",
      "                      min_samples_split=11, min_weight_fraction_leaf=0.0,\n",
      "                      presort=False, random_state=None, splitter='best')\n",
      "Random Best Params (Optimal Tuning Parameter Values) = {'max_depth': 3, 'min_samples_leaf': 18, 'min_samples_split': 11}\n",
      "Random Best Score (MSE) = 401.6903602232667\n"
     ]
    }
   ],
   "source": [
    "param_dist1 = {'max_depth': [3, 10],\n",
    "               'min_samples_split': sp_randint(2, 20),\n",
    "               'min_samples_leaf': sp_randint(2, 20)}\n",
    "\n",
    "random_search = \\\n",
    "    RandomizedSearchCV(biden_tree, param_distributions=param_dist1,\n",
    "                       n_iter=100, n_jobs=-1, cv=5, random_state=20,\n",
    "                       scoring='neg_mean_squared_error')\n",
    "\n",
    "random_search.fit(X, y)  \n",
    "print('Random Best Estimator =', random_search.best_estimator_)\n",
    "print('Random Best Params (Optimal Tuning Parameter Values) =', random_search.best_params_)\n",
    "print('Random Best Score (MSE) =', -random_search.best_score_)"
   ]
  },
  {
   "cell_type": "markdown",
   "metadata": {},
   "source": [
    "### c) Tune hyperparameters for random forest"
   ]
  },
  {
   "cell_type": "code",
   "execution_count": 18,
   "metadata": {},
   "outputs": [
    {
     "name": "stdout",
     "output_type": "stream",
     "text": [
      "Random Best Estimator = RandomForestRegressor(bootstrap=True, criterion='mse', max_depth=3,\n",
      "                      max_features=3, max_leaf_nodes=None,\n",
      "                      min_impurity_decrease=0.0, min_impurity_split=None,\n",
      "                      min_samples_leaf=18, min_samples_split=16,\n",
      "                      min_weight_fraction_leaf=0.0, n_estimators=200,\n",
      "                      n_jobs=None, oob_score=False, random_state=20, verbose=0,\n",
      "                      warm_start=False)\n",
      "Random Best Params (Optimal Tuning Parameter Values) = {'max_depth': 3, 'max_features': 3, 'min_samples_leaf': 18, 'min_samples_split': 16, 'n_estimators': 200}\n",
      "Random Best Score (MSE) = 397.4387994329025\n"
     ]
    }
   ],
   "source": [
    "biden_RF = RandomForestRegressor(random_state = 20)\n",
    "\n",
    "param_dist2 = {'n_estimators': [10, 200],\n",
    "               'max_depth': [3, 10],\n",
    "               'min_samples_split': sp_randint(2, 20),\n",
    "               'min_samples_leaf': sp_randint(2, 20),\n",
    "               'max_features': sp_randint(1, 5)}\n",
    "\n",
    "random_search_RF = \\\n",
    "    RandomizedSearchCV(biden_RF, param_distributions=param_dist2,\n",
    "                       n_iter=100, n_jobs=-1, cv=5, random_state=20,\n",
    "                       scoring='neg_mean_squared_error')\n",
    "\n",
    "random_search_RF.fit(X, y)  \n",
    "print('Random Best Estimator =', random_search_RF.best_estimator_)\n",
    "print('Random Best Params (Optimal Tuning Parameter Values) =', random_search_RF.best_params_)\n",
    "print('Random Best Score (MSE) =', -random_search_RF.best_score_)"
   ]
  },
  {
   "cell_type": "markdown",
   "metadata": {},
   "source": [
    "# 3. Classifier \"horse\" race"
   ]
  },
  {
   "cell_type": "code",
   "execution_count": 19,
   "metadata": {},
   "outputs": [
    {
     "data": {
      "text/html": [
       "<div>\n",
       "<style scoped>\n",
       "    .dataframe tbody tr th:only-of-type {\n",
       "        vertical-align: middle;\n",
       "    }\n",
       "\n",
       "    .dataframe tbody tr th {\n",
       "        vertical-align: top;\n",
       "    }\n",
       "\n",
       "    .dataframe thead th {\n",
       "        text-align: right;\n",
       "    }\n",
       "</style>\n",
       "<table border=\"1\" class=\"dataframe\">\n",
       "  <thead>\n",
       "    <tr style=\"text-align: right;\">\n",
       "      <th></th>\n",
       "      <th>mpg</th>\n",
       "      <th>cylinders</th>\n",
       "      <th>displacement</th>\n",
       "      <th>horsepower</th>\n",
       "      <th>weight</th>\n",
       "      <th>acceleration</th>\n",
       "      <th>year</th>\n",
       "      <th>origin</th>\n",
       "      <th>name</th>\n",
       "    </tr>\n",
       "  </thead>\n",
       "  <tbody>\n",
       "    <tr>\n",
       "      <th>43</th>\n",
       "      <td>13.0</td>\n",
       "      <td>8</td>\n",
       "      <td>400.0</td>\n",
       "      <td>170.0</td>\n",
       "      <td>4746</td>\n",
       "      <td>12.0</td>\n",
       "      <td>71</td>\n",
       "      <td>1</td>\n",
       "      <td>ford country squire (sw)</td>\n",
       "    </tr>\n",
       "    <tr>\n",
       "      <th>293</th>\n",
       "      <td>31.9</td>\n",
       "      <td>4</td>\n",
       "      <td>89.0</td>\n",
       "      <td>71.0</td>\n",
       "      <td>1925</td>\n",
       "      <td>14.0</td>\n",
       "      <td>79</td>\n",
       "      <td>2</td>\n",
       "      <td>vw rabbit custom</td>\n",
       "    </tr>\n",
       "    <tr>\n",
       "      <th>160</th>\n",
       "      <td>17.0</td>\n",
       "      <td>6</td>\n",
       "      <td>231.0</td>\n",
       "      <td>110.0</td>\n",
       "      <td>3907</td>\n",
       "      <td>21.0</td>\n",
       "      <td>75</td>\n",
       "      <td>1</td>\n",
       "      <td>buick century</td>\n",
       "    </tr>\n",
       "    <tr>\n",
       "      <th>152</th>\n",
       "      <td>19.0</td>\n",
       "      <td>6</td>\n",
       "      <td>225.0</td>\n",
       "      <td>95.0</td>\n",
       "      <td>3264</td>\n",
       "      <td>16.0</td>\n",
       "      <td>75</td>\n",
       "      <td>1</td>\n",
       "      <td>plymouth valiant custom</td>\n",
       "    </tr>\n",
       "    <tr>\n",
       "      <th>266</th>\n",
       "      <td>30.0</td>\n",
       "      <td>4</td>\n",
       "      <td>98.0</td>\n",
       "      <td>68.0</td>\n",
       "      <td>2155</td>\n",
       "      <td>16.5</td>\n",
       "      <td>78</td>\n",
       "      <td>1</td>\n",
       "      <td>chevrolet chevette</td>\n",
       "    </tr>\n",
       "  </tbody>\n",
       "</table>\n",
       "</div>"
      ],
      "text/plain": [
       "      mpg  cylinders  displacement  horsepower  weight  acceleration  year  \\\n",
       "43   13.0          8         400.0       170.0    4746          12.0    71   \n",
       "293  31.9          4          89.0        71.0    1925          14.0    79   \n",
       "160  17.0          6         231.0       110.0    3907          21.0    75   \n",
       "152  19.0          6         225.0        95.0    3264          16.0    75   \n",
       "266  30.0          4          98.0        68.0    2155          16.5    78   \n",
       "\n",
       "     origin                      name  \n",
       "43        1  ford country squire (sw)  \n",
       "293       2          vw rabbit custom  \n",
       "160       1             buick century  \n",
       "152       1   plymouth valiant custom  \n",
       "266       1        chevrolet chevette  "
      ]
     },
     "execution_count": 19,
     "metadata": {},
     "output_type": "execute_result"
    }
   ],
   "source": [
    "auto = pd.read_csv('auto.csv', na_values='?')\n",
    "auto.sample(5)"
   ]
  },
  {
   "cell_type": "code",
   "execution_count": 20,
   "metadata": {},
   "outputs": [
    {
     "data": {
      "text/plain": [
       "23.0"
      ]
     },
     "execution_count": 20,
     "metadata": {},
     "output_type": "execute_result"
    }
   ],
   "source": [
    "auto['mpg'].median()"
   ]
  },
  {
   "cell_type": "code",
   "execution_count": 21,
   "metadata": {},
   "outputs": [
    {
     "data": {
      "text/html": [
       "<div>\n",
       "<style scoped>\n",
       "    .dataframe tbody tr th:only-of-type {\n",
       "        vertical-align: middle;\n",
       "    }\n",
       "\n",
       "    .dataframe tbody tr th {\n",
       "        vertical-align: top;\n",
       "    }\n",
       "\n",
       "    .dataframe thead th {\n",
       "        text-align: right;\n",
       "    }\n",
       "</style>\n",
       "<table border=\"1\" class=\"dataframe\">\n",
       "  <thead>\n",
       "    <tr style=\"text-align: right;\">\n",
       "      <th></th>\n",
       "      <th>mpg</th>\n",
       "      <th>cylinders</th>\n",
       "      <th>displacement</th>\n",
       "      <th>horsepower</th>\n",
       "      <th>weight</th>\n",
       "      <th>acceleration</th>\n",
       "      <th>year</th>\n",
       "      <th>origin</th>\n",
       "      <th>name</th>\n",
       "      <th>mpg_high</th>\n",
       "      <th>orgn1</th>\n",
       "      <th>orgn2</th>\n",
       "      <th>const</th>\n",
       "    </tr>\n",
       "  </thead>\n",
       "  <tbody>\n",
       "    <tr>\n",
       "      <th>142</th>\n",
       "      <td>26.0</td>\n",
       "      <td>4</td>\n",
       "      <td>79.0</td>\n",
       "      <td>67.0</td>\n",
       "      <td>1963</td>\n",
       "      <td>15.5</td>\n",
       "      <td>74</td>\n",
       "      <td>2</td>\n",
       "      <td>volkswagen dasher</td>\n",
       "      <td>1</td>\n",
       "      <td>0</td>\n",
       "      <td>1</td>\n",
       "      <td>1</td>\n",
       "    </tr>\n",
       "    <tr>\n",
       "      <th>152</th>\n",
       "      <td>19.0</td>\n",
       "      <td>6</td>\n",
       "      <td>225.0</td>\n",
       "      <td>95.0</td>\n",
       "      <td>3264</td>\n",
       "      <td>16.0</td>\n",
       "      <td>75</td>\n",
       "      <td>1</td>\n",
       "      <td>plymouth valiant custom</td>\n",
       "      <td>0</td>\n",
       "      <td>1</td>\n",
       "      <td>0</td>\n",
       "      <td>1</td>\n",
       "    </tr>\n",
       "    <tr>\n",
       "      <th>199</th>\n",
       "      <td>20.0</td>\n",
       "      <td>6</td>\n",
       "      <td>225.0</td>\n",
       "      <td>100.0</td>\n",
       "      <td>3651</td>\n",
       "      <td>17.7</td>\n",
       "      <td>76</td>\n",
       "      <td>1</td>\n",
       "      <td>dodge aspen se</td>\n",
       "      <td>0</td>\n",
       "      <td>1</td>\n",
       "      <td>0</td>\n",
       "      <td>1</td>\n",
       "    </tr>\n",
       "    <tr>\n",
       "      <th>116</th>\n",
       "      <td>16.0</td>\n",
       "      <td>8</td>\n",
       "      <td>400.0</td>\n",
       "      <td>230.0</td>\n",
       "      <td>4278</td>\n",
       "      <td>9.5</td>\n",
       "      <td>73</td>\n",
       "      <td>1</td>\n",
       "      <td>pontiac grand prix</td>\n",
       "      <td>0</td>\n",
       "      <td>1</td>\n",
       "      <td>0</td>\n",
       "      <td>1</td>\n",
       "    </tr>\n",
       "    <tr>\n",
       "      <th>346</th>\n",
       "      <td>32.3</td>\n",
       "      <td>4</td>\n",
       "      <td>97.0</td>\n",
       "      <td>67.0</td>\n",
       "      <td>2065</td>\n",
       "      <td>17.8</td>\n",
       "      <td>81</td>\n",
       "      <td>3</td>\n",
       "      <td>subaru</td>\n",
       "      <td>1</td>\n",
       "      <td>0</td>\n",
       "      <td>0</td>\n",
       "      <td>1</td>\n",
       "    </tr>\n",
       "  </tbody>\n",
       "</table>\n",
       "</div>"
      ],
      "text/plain": [
       "      mpg  cylinders  displacement  horsepower  weight  acceleration  year  \\\n",
       "142  26.0          4          79.0        67.0    1963          15.5    74   \n",
       "152  19.0          6         225.0        95.0    3264          16.0    75   \n",
       "199  20.0          6         225.0       100.0    3651          17.7    76   \n",
       "116  16.0          8         400.0       230.0    4278           9.5    73   \n",
       "346  32.3          4          97.0        67.0    2065          17.8    81   \n",
       "\n",
       "     origin                     name  mpg_high  orgn1  orgn2  const  \n",
       "142       2        volkswagen dasher         1      0      1      1  \n",
       "152       1  plymouth valiant custom         0      1      0      1  \n",
       "199       1           dodge aspen se         0      1      0      1  \n",
       "116       1       pontiac grand prix         0      1      0      1  \n",
       "346       3                   subaru         1      0      0      1  "
      ]
     },
     "execution_count": 21,
     "metadata": {},
     "output_type": "execute_result"
    }
   ],
   "source": [
    "auto['mpg_high'] = np.where(auto['mpg'] >= auto['mpg'].median(), 1, 0)\n",
    "auto[\"orgn1\"] = np.where(auto[\"origin\"] == 1, 1, 0)\n",
    "auto[\"orgn2\"] = np.where(auto[\"origin\"] == 2, 1, 0)\n",
    "auto['const'] = 1\n",
    "auto.dropna(inplace = True)\n",
    "auto.sample(5)"
   ]
  },
  {
   "cell_type": "markdown",
   "metadata": {},
   "source": [
    "### a) K-fold logistic regression"
   ]
  },
  {
   "cell_type": "code",
   "execution_count": 22,
   "metadata": {},
   "outputs": [],
   "source": [
    "X = auto[['const', 'cylinders', 'displacement', 'horsepower', 'weight', 'acceleration', 'year', 'orgn1', 'orgn2']].values.astype(float)\n",
    "y = auto['mpg_high'].values.astype(float)"
   ]
  },
  {
   "cell_type": "code",
   "execution_count": 23,
   "metadata": {},
   "outputs": [],
   "source": [
    "k = 4\n",
    "kf_log = KFold(n_splits=k, shuffle=True, random_state=25)\n",
    "kf_log.get_n_splits(X)\n",
    "N_loo = X.shape[0]\n",
    "MSE_vec_kf = np.zeros(k)\n",
    "y_test_vec_kf = np.zeros(N_loo)\n",
    "y_pred_vec_kf = np.zeros(N_loo)"
   ]
  },
  {
   "cell_type": "code",
   "execution_count": 24,
   "metadata": {},
   "outputs": [
    {
     "name": "stdout",
     "output_type": "stream",
     "text": [
      "MSE for test set 0 is 0.1326530612244898\n",
      "MSE for test set 1 is 0.08163265306122448\n"
     ]
    },
    {
     "name": "stderr",
     "output_type": "stream",
     "text": [
      "/anaconda3/lib/python3.7/site-packages/scipy/optimize/linesearch.py:462: LineSearchWarning: The line search algorithm did not converge\n",
      "  warn('The line search algorithm did not converge', LineSearchWarning)\n",
      "/anaconda3/lib/python3.7/site-packages/scipy/optimize/linesearch.py:313: LineSearchWarning: The line search algorithm did not converge\n",
      "  warn('The line search algorithm did not converge', LineSearchWarning)\n",
      "/anaconda3/lib/python3.7/site-packages/scipy/optimize/linesearch.py:462: LineSearchWarning: The line search algorithm did not converge\n",
      "  warn('The line search algorithm did not converge', LineSearchWarning)\n",
      "/anaconda3/lib/python3.7/site-packages/scipy/optimize/linesearch.py:313: LineSearchWarning: The line search algorithm did not converge\n",
      "  warn('The line search algorithm did not converge', LineSearchWarning)\n"
     ]
    },
    {
     "name": "stdout",
     "output_type": "stream",
     "text": [
      "MSE for test set 2 is 0.07142857142857142\n",
      "MSE for test set 3 is 0.07142857142857142\n",
      "              precision    recall  f1-score   support\n",
      "\n",
      "         0.0       0.94      0.88      0.91       196\n",
      "         1.0       0.89      0.94      0.91       196\n",
      "\n",
      "    accuracy                           0.91       392\n",
      "   macro avg       0.91      0.91      0.91       392\n",
      "weighted avg       0.91      0.91      0.91       392\n",
      "\n",
      "MSE = 0.08928571428571427\n"
     ]
    }
   ],
   "source": [
    "k_ind = int(0)\n",
    "for train_index, test_index in kf_log.split(X):\n",
    "#     print(\"TRAIN:\", train_index, \"TEST:\", test_index)\n",
    "#     print('k index=', k_ind)\n",
    "    X_train, X_test = X[train_index], X[test_index]\n",
    "    y_train, y_test = y[train_index], y[test_index]\n",
    "    Mlogit = LogisticRegression(random_state=0, solver='newton-cg', multi_class='multinomial')\n",
    "    Mlogit.fit(X_train, y_train)\n",
    "    y_pred = Mlogit.predict(X_test)\n",
    "\n",
    "    MSE_vec_kf[k_ind] = mean_squared_error(y_test, y_pred)\n",
    "    y_test_vec_kf[test_index] = y_test\n",
    "    y_pred_vec_kf[test_index] = y_pred\n",
    "    print('MSE for test set', k_ind, 'is', MSE_vec_kf[k_ind])\n",
    "    k_ind += 1\n",
    "    \n",
    "print(classification_report(y_test_vec_kf, y_pred_vec_kf))\n",
    "print('MSE =', MSE_vec_kf.mean())"
   ]
  },
  {
   "cell_type": "markdown",
   "metadata": {},
   "source": [
    "Error rate for mpg_high = 1 is 0.11, for mpg_high = 0 is 0.06"
   ]
  },
  {
   "cell_type": "markdown",
   "metadata": {},
   "source": [
    "### b) Random Forest Classifier"
   ]
  },
  {
   "cell_type": "code",
   "execution_count": 25,
   "metadata": {},
   "outputs": [
    {
     "name": "stdout",
     "output_type": "stream",
     "text": [
      "Random Best Estimator = RandomForestRegressor(bootstrap=True, criterion='mse', max_depth=3,\n",
      "                      max_features=1, max_leaf_nodes=None,\n",
      "                      min_impurity_decrease=0.0, min_impurity_split=None,\n",
      "                      min_samples_leaf=5, min_samples_split=7,\n",
      "                      min_weight_fraction_leaf=0.0, n_estimators=10,\n",
      "                      n_jobs=None, oob_score=False, random_state=25, verbose=0,\n",
      "                      warm_start=False)\n",
      "Random Best Params (Optimal Tuning Parameter Values) = {'max_depth': 3, 'max_features': 1, 'min_samples_leaf': 5, 'min_samples_split': 7, 'n_estimators': 10}\n",
      "Random Best Score (MSE) = 0.09445434608069206\n"
     ]
    }
   ],
   "source": [
    "auto_RF = RandomForestRegressor(random_state = 25)\n",
    "\n",
    "param_dist = {'n_estimators': [10, 200],\n",
    "               'max_depth': [3, 8],\n",
    "               'min_samples_split': sp_randint(2, 20),\n",
    "               'min_samples_leaf': sp_randint(2, 20),\n",
    "               'max_features': sp_randint(1, 8)}\n",
    "\n",
    "random_search_RF = \\\n",
    "    RandomizedSearchCV(auto_RF, param_distributions=param_dist,\n",
    "                       n_iter=100, n_jobs=-1, cv=4, random_state=25,\n",
    "                       scoring='neg_mean_squared_error')\n",
    "\n",
    "random_search_RF.fit(X, y)  \n",
    "print('Random Best Estimator =', random_search_RF.best_estimator_)\n",
    "print('Random Best Params (Optimal Tuning Parameter Values) =', random_search_RF.best_params_)\n",
    "print('Random Best Score (MSE) =', -random_search_RF.best_score_)"
   ]
  },
  {
   "cell_type": "markdown",
   "metadata": {},
   "source": [
    "### c) SVC with tuning hyperparameter"
   ]
  },
  {
   "cell_type": "code",
   "execution_count": 26,
   "metadata": {},
   "outputs": [
    {
     "name": "stdout",
     "output_type": "stream",
     "text": [
      "Random Best Estimator = SVC(C=0.3377990724342859, cache_size=200, class_weight=None, coef0=0.0,\n",
      "    decision_function_shape='ovr', degree=3, gamma='scale', kernel='rbf',\n",
      "    max_iter=-1, probability=False, random_state=None, shrinking=False,\n",
      "    tol=0.001, verbose=False)\n",
      "Random Best Params (Optimal Tuning Parameter Values) = {'C': 0.3377990724342859, 'gamma': 'scale', 'shrinking': False}\n",
      "Random Best Score (MSE) = 0.11734693877551021\n"
     ]
    }
   ],
   "source": [
    "auto_SVC = SVC(kernel = 'rbf')\n",
    "\n",
    "param_dist4 = {'C': sp_uniform(loc=0.2, scale=4.0),\n",
    "               'gamma': ['scale', 'auto'],\n",
    "               'shrinking': [True, False]}\n",
    "\n",
    "random_search_SVC = \\\n",
    "    RandomizedSearchCV(auto_SVC, param_distributions=param_dist4,\n",
    "                       n_iter=100, n_jobs=-1, cv=4, random_state=25,\n",
    "                       scoring='neg_mean_squared_error')\n",
    "\n",
    "random_search_SVC.fit(X, y)  \n",
    "print('Random Best Estimator =', random_search_SVC.best_estimator_)\n",
    "print('Random Best Params (Optimal Tuning Parameter Values) =', random_search_SVC.best_params_)\n",
    "print('Random Best Score (MSE) =', -random_search_SVC.best_score_)"
   ]
  },
  {
   "cell_type": "markdown",
   "metadata": {},
   "source": [
    "Based on MSE, the best model is 4-fold logistic regression."
   ]
  },
  {
   "cell_type": "markdown",
   "metadata": {},
   "source": [
    "# 4. Neural network horse race"
   ]
  },
  {
   "cell_type": "code",
   "execution_count": 27,
   "metadata": {},
   "outputs": [
    {
     "data": {
      "text/html": [
       "<div>\n",
       "<style scoped>\n",
       "    .dataframe tbody tr th:only-of-type {\n",
       "        vertical-align: middle;\n",
       "    }\n",
       "\n",
       "    .dataframe tbody tr th {\n",
       "        vertical-align: top;\n",
       "    }\n",
       "\n",
       "    .dataframe thead th {\n",
       "        text-align: right;\n",
       "    }\n",
       "</style>\n",
       "<table border=\"1\" class=\"dataframe\">\n",
       "  <thead>\n",
       "    <tr style=\"text-align: right;\">\n",
       "      <th></th>\n",
       "      <th>cultivar</th>\n",
       "      <th>alco</th>\n",
       "      <th>malic</th>\n",
       "      <th>ash</th>\n",
       "      <th>alk</th>\n",
       "      <th>magn</th>\n",
       "      <th>tot_phen</th>\n",
       "      <th>flav</th>\n",
       "      <th>nonfl_phen</th>\n",
       "      <th>proanth</th>\n",
       "      <th>color_int</th>\n",
       "      <th>hue</th>\n",
       "      <th>OD280rat</th>\n",
       "      <th>proline</th>\n",
       "    </tr>\n",
       "  </thead>\n",
       "  <tbody>\n",
       "    <tr>\n",
       "      <th>30</th>\n",
       "      <td>1</td>\n",
       "      <td>13.73</td>\n",
       "      <td>1.50</td>\n",
       "      <td>2.70</td>\n",
       "      <td>22.5</td>\n",
       "      <td>101</td>\n",
       "      <td>3.00</td>\n",
       "      <td>3.25</td>\n",
       "      <td>0.29</td>\n",
       "      <td>2.38</td>\n",
       "      <td>5.70</td>\n",
       "      <td>1.19</td>\n",
       "      <td>2.71</td>\n",
       "      <td>1285</td>\n",
       "    </tr>\n",
       "    <tr>\n",
       "      <th>146</th>\n",
       "      <td>3</td>\n",
       "      <td>12.87</td>\n",
       "      <td>4.61</td>\n",
       "      <td>2.48</td>\n",
       "      <td>21.5</td>\n",
       "      <td>86</td>\n",
       "      <td>1.70</td>\n",
       "      <td>0.65</td>\n",
       "      <td>0.47</td>\n",
       "      <td>0.86</td>\n",
       "      <td>7.65</td>\n",
       "      <td>0.54</td>\n",
       "      <td>1.86</td>\n",
       "      <td>625</td>\n",
       "    </tr>\n",
       "    <tr>\n",
       "      <th>104</th>\n",
       "      <td>2</td>\n",
       "      <td>12.51</td>\n",
       "      <td>1.73</td>\n",
       "      <td>1.98</td>\n",
       "      <td>20.5</td>\n",
       "      <td>85</td>\n",
       "      <td>2.20</td>\n",
       "      <td>1.92</td>\n",
       "      <td>0.32</td>\n",
       "      <td>1.48</td>\n",
       "      <td>2.94</td>\n",
       "      <td>1.04</td>\n",
       "      <td>3.57</td>\n",
       "      <td>672</td>\n",
       "    </tr>\n",
       "    <tr>\n",
       "      <th>136</th>\n",
       "      <td>3</td>\n",
       "      <td>12.53</td>\n",
       "      <td>5.51</td>\n",
       "      <td>2.64</td>\n",
       "      <td>25.0</td>\n",
       "      <td>96</td>\n",
       "      <td>1.79</td>\n",
       "      <td>0.60</td>\n",
       "      <td>0.63</td>\n",
       "      <td>1.10</td>\n",
       "      <td>5.00</td>\n",
       "      <td>0.82</td>\n",
       "      <td>1.69</td>\n",
       "      <td>515</td>\n",
       "    </tr>\n",
       "    <tr>\n",
       "      <th>93</th>\n",
       "      <td>2</td>\n",
       "      <td>12.29</td>\n",
       "      <td>2.83</td>\n",
       "      <td>2.22</td>\n",
       "      <td>18.0</td>\n",
       "      <td>88</td>\n",
       "      <td>2.45</td>\n",
       "      <td>2.25</td>\n",
       "      <td>0.25</td>\n",
       "      <td>1.99</td>\n",
       "      <td>2.15</td>\n",
       "      <td>1.15</td>\n",
       "      <td>3.30</td>\n",
       "      <td>290</td>\n",
       "    </tr>\n",
       "  </tbody>\n",
       "</table>\n",
       "</div>"
      ],
      "text/plain": [
       "     cultivar   alco  malic   ash   alk  magn  tot_phen  flav  nonfl_phen  \\\n",
       "30          1  13.73   1.50  2.70  22.5   101      3.00  3.25        0.29   \n",
       "146         3  12.87   4.61  2.48  21.5    86      1.70  0.65        0.47   \n",
       "104         2  12.51   1.73  1.98  20.5    85      2.20  1.92        0.32   \n",
       "136         3  12.53   5.51  2.64  25.0    96      1.79  0.60        0.63   \n",
       "93          2  12.29   2.83  2.22  18.0    88      2.45  2.25        0.25   \n",
       "\n",
       "     proanth  color_int   hue  OD280rat  proline  \n",
       "30      2.38       5.70  1.19      2.71     1285  \n",
       "146     0.86       7.65  0.54      1.86      625  \n",
       "104     1.48       2.94  1.04      3.57      672  \n",
       "136     1.10       5.00  0.82      1.69      515  \n",
       "93      1.99       2.15  1.15      3.30      290  "
      ]
     },
     "execution_count": 27,
     "metadata": {},
     "output_type": "execute_result"
    }
   ],
   "source": [
    "drink.sample(5)"
   ]
  },
  {
   "cell_type": "markdown",
   "metadata": {},
   "source": [
    "### a) scatter plot"
   ]
  },
  {
   "cell_type": "code",
   "execution_count": 28,
   "metadata": {},
   "outputs": [
    {
     "data": {
      "image/png": "[encoded data removed]",
      "text/plain": [
       "<Figure size 720x504 with 1 Axes>"
      ]
     },
     "metadata": {
      "needs_background": "light"
     },
     "output_type": "display_data"
    }
   ],
   "source": [
    "plt.subplots(1,1, figsize = (10,7))\n",
    "for i in [1,2,3]:\n",
    "    data = drink[drink['cultivar'] == i]\n",
    "    plt.scatter(data['alco'], data['color_int'], label = 'cultivar = {}'.format(i))\n",
    "    \n",
    "plt.xlabel('Alcohol', fontsize = 15)\n",
    "plt.ylabel('Color Intensity', fontsize = 15)\n",
    "plt.title('Alcohol vs Color Intensity', fontsize = 20)\n",
    "plt.legend()\n",
    "plt.grid()\n",
    "plt.show()"
   ]
  },
  {
   "cell_type": "markdown",
   "metadata": {},
   "source": [
    "### b) Logistic regression"
   ]
  },
  {
   "cell_type": "code",
   "execution_count": 29,
   "metadata": {},
   "outputs": [],
   "source": [
    "X = drink[['alco', 'malic', 'tot_phen', 'color_int']].values\n",
    "y = drink['cultivar'].values"
   ]
  },
  {
   "cell_type": "code",
   "execution_count": 42,
   "metadata": {},
   "outputs": [
    {
     "name": "stdout",
     "output_type": "stream",
     "text": [
      "Random Best Logistic Estimator = LogisticRegression(C=2.665871587495725, class_weight=None, dual=False,\n",
      "                   fit_intercept=True, intercept_scaling=1, l1_ratio=None,\n",
      "                   max_iter=100, multi_class='auto', n_jobs=None, penalty='l1',\n",
      "                   random_state=25, solver='liblinear', tol=0.0001, verbose=0,\n",
      "                   warm_start=False)\n",
      "Random Best Logistic Params (Optimal Tuning Parameter Values) = {'C': 2.665871587495725, 'penalty': 'l1'}\n",
      "Random Best Logistic Score (MSE) = 0.11931818181818182\n"
     ]
    },
    {
     "name": "stderr",
     "output_type": "stream",
     "text": [
      "/anaconda3/lib/python3.7/site-packages/sklearn/svm/base.py:929: ConvergenceWarning: Liblinear failed to converge, increase the number of iterations.\n",
      "  \"the number of iterations.\", ConvergenceWarning)\n"
     ]
    }
   ],
   "source": [
    "drink_log = LogisticRegression(solver = 'liblinear', multi_class = 'auto', random_state = 25)\n",
    "\n",
    "param_dist_log = {'penalty': ['l1', 'l2'], \n",
    "                  'C': sp_uniform(0.1, 10.0)}\n",
    "\n",
    "random_search_log = RandomizedSearchCV(drink_log, param_dist_log, iid = True,\n",
    "                                       n_iter = 200, n_jobs = -1, cv = 5,\n",
    "                                       random_state = 25, scoring = 'neg_mean_squared_error')\n",
    "\n",
    "random_search_log.fit(X, y)\n",
    "print('Random Best Logistic Estimator =', random_search_log.best_estimator_)\n",
    "print('Random Best Logistic Params (Optimal Tuning Parameter Values) =', random_search_log.best_params_)\n",
    "print('Random Best Logistic Score (MSE) =', -random_search_log.best_score_)"
   ]
  },
  {
   "cell_type": "markdown",
   "metadata": {},
   "source": [
    "### c) Random Forest"
   ]
  },
  {
   "cell_type": "code",
   "execution_count": 46,
   "metadata": {},
   "outputs": [
    {
     "name": "stdout",
     "output_type": "stream",
     "text": [
      "Random Best RF Estimator = RandomForestClassifier(bootstrap=True, class_weight=None, criterion='gini',\n",
      "                       max_depth=3, max_features=1, max_leaf_nodes=None,\n",
      "                       min_impurity_decrease=0.0, min_impurity_split=None,\n",
      "                       min_samples_leaf=13, min_samples_split=18,\n",
      "                       min_weight_fraction_leaf=0.0, n_estimators=176,\n",
      "                       n_jobs=None, oob_score=False, random_state=25, verbose=0,\n",
      "                       warm_start=False)\n",
      "Random Best RF Params (Optimal Tuning Parameter Values) = {'max_depth': 3, 'max_features': 1, 'min_samples_leaf': 13, 'min_samples_split': 18, 'n_estimators': 176}\n",
      "Random Best RF Score (MSE) = 0.13068181818181818\n"
     ]
    }
   ],
   "source": [
    "drink_RF = RandomForestClassifier(random_state = 25)\n",
    "\n",
    "param_dist_RF = {'n_estimators': sp_randint(10, 200),\n",
    "                 'max_depth': sp_randint(2, 4),\n",
    "                 'min_samples_split': sp_randint(2, 20),\n",
    "                 'min_samples_leaf': sp_randint(2, 20),\n",
    "                 'max_features': sp_randint(1, 4)}\n",
    "\n",
    "random_search_RF = RandomizedSearchCV(drink_RF, param_dist_RF, iid = True,\n",
    "                                       n_iter = 200, n_jobs = -1, cv = 5,\n",
    "                                       random_state = 25, scoring = 'neg_mean_squared_error')\n",
    "\n",
    "random_search_RF.fit(X, y)\n",
    "print('Random Best RF Estimator =', random_search_RF.best_estimator_)\n",
    "print('Random Best RF Params (Optimal Tuning Parameter Values) =', random_search_RF.best_params_)\n",
    "print('Random Best RF Score (MSE) =', -random_search_RF.best_score_)"
   ]
  },
  {
   "cell_type": "markdown",
   "metadata": {},
   "source": [
    "### d) SVC"
   ]
  },
  {
   "cell_type": "code",
   "execution_count": 48,
   "metadata": {},
   "outputs": [
    {
     "name": "stdout",
     "output_type": "stream",
     "text": [
      "Random Best SVC Estimator = SVC(C=9.58835943424229, cache_size=200, class_weight=None, coef0=0.0,\n",
      "    decision_function_shape='ovr', degree=3, gamma='scale', kernel='rbf',\n",
      "    max_iter=-1, probability=False, random_state=25, shrinking=True, tol=0.001,\n",
      "    verbose=False)\n",
      "Random Best SVC Params (Optimal Tuning Parameter Values) = {'C': 9.58835943424229, 'gamma': 'scale', 'shrinking': True}\n",
      "Random Best SVC Score (MSE) = 0.13636363636363635\n"
     ]
    }
   ],
   "source": [
    "drink_SVC = SVC(random_state = 25)\n",
    "\n",
    "param_dist_SVC = {'C': sp_uniform(loc=0.1, scale=10.0),\n",
    "                  'gamma': ['scale', 'auto'],\n",
    "                  'shrinking': [True, False]}\n",
    "\n",
    "random_search_SVC = RandomizedSearchCV(drink_SVC, param_dist_SVC, iid = True,\n",
    "                                       n_iter = 200, n_jobs = -1, cv = 5,\n",
    "                                       random_state = 25, scoring = 'neg_mean_squared_error')\n",
    "\n",
    "random_search_SVC.fit(X, y)\n",
    "print('Random Best SVC Estimator =', random_search_SVC.best_estimator_)\n",
    "print('Random Best SVC Params (Optimal Tuning Parameter Values) =', random_search_SVC.best_params_)\n",
    "print('Random Best SVC Score (MSE) =', -random_search_SVC.best_score_)"
   ]
  },
  {
   "cell_type": "markdown",
   "metadata": {},
   "source": [
    "### e) MLP Classifier"
   ]
  },
  {
   "cell_type": "code",
   "execution_count": 50,
   "metadata": {},
   "outputs": [
    {
     "name": "stdout",
     "output_type": "stream",
     "text": [
      "Random Best MLP Estimator = MLPClassifier(activation='relu', alpha=2.158912119744818, batch_size='auto',\n",
      "              beta_1=0.9, beta_2=0.999, early_stopping=False, epsilon=1e-08,\n",
      "              hidden_layer_sizes=68, learning_rate='constant',\n",
      "              learning_rate_init=0.001, max_iter=200, momentum=0.9,\n",
      "              n_iter_no_change=10, nesterovs_momentum=True, power_t=0.5,\n",
      "              random_state=25, shuffle=True, solver='adam', tol=0.0001,\n",
      "              validation_fraction=0.1, verbose=False, warm_start=False)\n",
      "Random Best MLP Params (Optimal Tuning Parameter Values) = {'activation': 'relu', 'alpha': 2.158912119744818, 'hidden_layer_sizes': 68}\n",
      "Random Best MLP Score (MSE) = 0.19318181818181818\n"
     ]
    },
    {
     "name": "stderr",
     "output_type": "stream",
     "text": [
      "/anaconda3/lib/python3.7/site-packages/sklearn/neural_network/multilayer_perceptron.py:566: ConvergenceWarning: Stochastic Optimizer: Maximum iterations (200) reached and the optimization hasn't converged yet.\n",
      "  % self.max_iter, ConvergenceWarning)\n"
     ]
    }
   ],
   "source": [
    "drink_MLP = MLPClassifier(random_state = 25)\n",
    "\n",
    "param_dist_MLP = {'hidden_layer_sizes': sp_randint(1, 100),\n",
    "                  'activation': ['logistic', 'relu'],\n",
    "                  'alpha': sp_uniform(0.1, 10.0)}\n",
    "\n",
    "random_search_MLP = RandomizedSearchCV(drink_MLP, param_dist_MLP, iid = True,\n",
    "                                       n_iter = 200, n_jobs = -1, cv = 5,\n",
    "                                       random_state = 25, scoring = 'neg_mean_squared_error')\n",
    "\n",
    "random_search_MLP.fit(X, y)\n",
    "print('Random Best MLP Estimator =', random_search_MLP.best_estimator_)\n",
    "print('Random Best MLP Params (Optimal Tuning Parameter Values) =', random_search_MLP.best_params_)\n",
    "print('Random Best MLP Score (MSE) =', -random_search_MLP.best_score_)"
   ]
  },
  {
   "cell_type": "markdown",
   "metadata": {},
   "source": [
    "Logistic regression gives the lowest MSE and might be the best model.  \n",
    "However, we notice that MLP classifier have not converge with 200 iterations, hence it may give better results if we allow for more iterations. (but also note that logistic regression does not converge as well)  \n",
    "Furthermore, there might be overfitting problem with logistic regression."
   ]
  }
 ],
 "metadata": {
  "kernelspec": {
   "display_name": "Python 3",
   "language": "python",
   "name": "python3"
  },
  "language_info": {
   "codemirror_mode": {
    "name": "ipython",
    "version": 3
   },
   "file_extension": ".py",
   "mimetype": "text/x-python",
   "name": "python",
   "nbconvert_exporter": "python",
   "pygments_lexer": "ipython3",
   "version": "3.7.3"
  }
 },
 "nbformat": 4,
 "nbformat_minor": 2
}
