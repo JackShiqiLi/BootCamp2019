{
 "cells": [
  {
   "cell_type": "markdown",
   "metadata": {},
   "source": [
    "## Problem 1\n",
    "- works fine"
   ]
  },
  {
   "cell_type": "code",
   "execution_count": 19,
   "metadata": {},
   "outputs": [],
   "source": [
    "import numpy as np\n",
    "from scipy import optimize\n",
    "import matplotlib.pyplot as plt"
   ]
  },
  {
   "cell_type": "markdown",
   "metadata": {},
   "source": [
    "Market clearing:  \n",
    "  \n",
    "$$\n",
    "q_1^1 = -q_1^2 \\\\\n",
    "q_2^1 = -q_2^2\n",
    "$$\n",
    "  \n",
    "Utility maximasing problem for agent h:  \n",
    "  \n",
    "$$\\max{v(c_0^h) + \\frac{1}{4}\\sum_{i=1}^{4}v(c_s^h)}$$  \n",
    "$$\\textit{s.t.  }c_0^h = e_0^h - p_1q_1^h - p_2q_2^h$$  \n",
    "$$\\textit{where  }c_s^h = e_s^h + q_1^hA_s^h + q_2^hA_s^h$$"
   ]
  },
  {
   "cell_type": "code",
   "execution_count": 2,
   "metadata": {},
   "outputs": [
    {
     "name": "stdout",
     "output_type": "stream",
     "text": [
      "    fjac: array([[-0.68575796,  0.04625939, -0.72506109, -0.04338778],\n",
      "       [-0.04925708, -0.77120037,  0.03530471, -0.63370128],\n",
      "       [ 0.48620599,  0.46576638, -0.39264464, -0.6264947 ],\n",
      "       [-0.53936397,  0.43147624,  0.56468591, -0.45171294]])\n",
      "     fun: array([ 4.65238958e-11,  6.61867228e-11, -3.56298324e-11, -3.56995544e-11])\n",
      " message: 'The solution converged.'\n",
      "    nfev: 17\n",
      "     qtf: array([-4.92930660e-10, -1.19829763e-09, -2.36371148e-09, -3.77368201e-11])\n",
      "       r: array([ 1.41574066, -0.01108599, -0.25926261, -0.33930651,  1.42822841,\n",
      "        0.46175253,  0.56322445, -3.96922262, -5.06758189, -0.06033892])\n",
      "  status: 1\n",
      " success: True\n",
      "       x: array([5.89777656e-01, 7.37222070e-01, 1.95406655e-02, 8.83418572e-12])\n"
     ]
    }
   ],
   "source": [
    "e = np.array([[1,1,2,1,2],\n",
    "              [1,3,1,3,1]])\n",
    "A = np.array([[1,1,1,1],\n",
    "              [1,1,1.5,1.5]])\n",
    "gamma = 2\n",
    "\n",
    "\n",
    "def v_prime(c, gamma):\n",
    "    return c ** -gamma\n",
    "\n",
    "def FOC(x):\n",
    "    '''x is the list of unknowns [p1, p2, q1, q2]'''\n",
    "    \n",
    "    p1 = x[0]\n",
    "    p2 = x[1]\n",
    "    q1 = x[2]\n",
    "    q2 = x[3]\n",
    "\n",
    "    c = np.zeros((e.shape))\n",
    "    c[0][0] = e[0][0] - p1*q1 - p2*q2\n",
    "    c[1][0] = e[1][0] + p1*q1 + p2*q2\n",
    "    \n",
    "    for s in range(1,5):\n",
    "        c[0][s] = e[0][s] + q1*A[0, s-1] + q2*A[1, s-1]\n",
    "        c[1][s] = e[1][s] - q1*A[0, s-1] - q2*A[1, s-1]\n",
    "    \n",
    "    sum_11 = 0\n",
    "    sum_12 = 0\n",
    "    sum_21 = 0\n",
    "    sum_22 = 0\n",
    "    \n",
    "    for s in range(1,5):\n",
    "        sum_11 += v_prime(c[0][s], gamma) * A[0][s-1]\n",
    "        sum_12 += v_prime(c[0][s], gamma) * A[1][s-1]\n",
    "        sum_21 += v_prime(c[1][s], gamma) * A[0][s-1]\n",
    "        sum_22 += v_prime(c[1][s], gamma) * A[1][s-1]\n",
    "\n",
    "    FOC1 = - p1 * v_prime(c[0][0], gamma) + 1/4 * sum_11\n",
    "    FOC2 = - p2 * v_prime(c[0][0], gamma) + 1/4 * sum_12\n",
    "    FOC3 = - p1 * v_prime(c[1][0], gamma) + 1/4 * sum_21\n",
    "    FOC4 = - p2 * v_prime(c[1][0], gamma) + 1/4 * sum_22\n",
    "\n",
    "    return np.array([FOC1,FOC2,FOC3,FOC4])\n",
    "\n",
    "print(optimize.root(FOC, x0 = [1,1,0,0]))"
   ]
  },
  {
   "cell_type": "markdown",
   "metadata": {},
   "source": [
    "## Problem 2\n",
    "- set up works as the program did go through everything, but the iteration has some problems"
   ]
  },
  {
   "cell_type": "code",
   "execution_count": 5,
   "metadata": {},
   "outputs": [],
   "source": [
    "# Suppose I take 1, opponent take 2\n",
    "board = np.zeros((3,3), dtype = int)\n",
    "# Value: 0 if intermediate or , 1 if win, -1 if lose\n",
    "# Policy: assign 1 to one of the empty square"
   ]
  },
  {
   "cell_type": "code",
   "execution_count": 6,
   "metadata": {},
   "outputs": [],
   "source": [
    "def initial_value(board, player = {'1', '2'}):\n",
    "    value = 0\n",
    "    for i in [0, 1, 2]:\n",
    "        if (board[i][0], board[i][1], board[i][2]) == (1,1,1):\n",
    "            value = 1\n",
    "        elif (board[i][0], board[i][1], board[i][2]) == (2,2,2):\n",
    "            value = -1\n",
    "    for j in [0, 1, 2]:\n",
    "        if (board[0][j], board[1][j], board[2][j]) == (1,1,1):\n",
    "            value = 1\n",
    "        elif (board[0][j], board[1][j], board[2][j]) == (2,2,2):\n",
    "            value = -1\n",
    "    if (board[0][0], board[1][1], board[2][2]) == (1,1,1):\n",
    "        value = 1\n",
    "    elif (board[0][0], board[1][1], board[2][2]) == (2,2,2):\n",
    "        value = -1\n",
    "    elif (board[2][0], board[1][1], board[0][2]) == (1,1,1):\n",
    "        value = 1\n",
    "    elif (board[2][0], board[1][1], board[0][2]) == (2,2,2):\n",
    "        value = -1\n",
    "    if player == '1':\n",
    "        return value\n",
    "    if player == '2':\n",
    "        return value"
   ]
  },
  {
   "cell_type": "code",
   "execution_count": 7,
   "metadata": {},
   "outputs": [
    {
     "data": {
      "text/plain": [
       "1"
      ]
     },
     "execution_count": 7,
     "metadata": {},
     "output_type": "execute_result"
    }
   ],
   "source": [
    "board = np.zeros((3,3))\n",
    "board[1,1] = 1\n",
    "board[0,1] = 1\n",
    "board[2,1] = 1\n",
    "initial_value(board, '1')"
   ]
  },
  {
   "cell_type": "code",
   "execution_count": 8,
   "metadata": {},
   "outputs": [],
   "source": [
    "def state_to_board(state_str):\n",
    "    '''state is a string representation of the board'''\n",
    "    board = np.eye(3, dtype = int)\n",
    "    for i in range(len(state_str)):\n",
    "        if 0 <= i <= 2:\n",
    "            board[0][i] = int(state_str[i])\n",
    "        elif 2 <= i <= 5:\n",
    "            board[1][i-3] = int(state_str[i])\n",
    "        else:\n",
    "            print(i)\n",
    "            board[2][i-6] = int(state_str[i])\n",
    "    return board"
   ]
  },
  {
   "cell_type": "code",
   "execution_count": 9,
   "metadata": {},
   "outputs": [],
   "source": [
    "def board_to_state(board):\n",
    "    state_str = ''\n",
    "    for i in range(len(board)):\n",
    "        for j in range(len(board[0])):\n",
    "            str_num = str(board[i][j])\n",
    "            state_str += str_num\n",
    "    return state_str"
   ]
  },
  {
   "cell_type": "code",
   "execution_count": 10,
   "metadata": {},
   "outputs": [],
   "source": [
    "def disgard_move_first(board):\n",
    "    state_str = board_to_state(board)    \n",
    "    if abs(state_str.count('2') - state_str.count('1')) > 1:\n",
    "        return False\n",
    "    elif state_str.count('2') - state_str.count('1') > 0:\n",
    "        return False\n",
    "    # have to deal with same number of 1's and 2's but already ended\n",
    "    else:\n",
    "        return True\n",
    "    \n",
    "def disgard_move_second(board):\n",
    "    state_str = board_to_state(board)    \n",
    "    if abs(state_str.count('1') - state_str.count('2')) > 1:\n",
    "        return False\n",
    "    elif state_str.count('1') - state_str.count('2') > 0:\n",
    "        return False\n",
    "    else:\n",
    "        return True"
   ]
  },
  {
   "cell_type": "code",
   "execution_count": 11,
   "metadata": {},
   "outputs": [],
   "source": [
    "def mover_check(board):\n",
    "    '''Return 1 if 1 should move, 2 if 2 should move'''\n",
    "    state_str = board_to_state(board)\n",
    "    if board.any() == np.zeros((3,3)).any():\n",
    "        return '1'\n",
    "    elif state_str.count('1') == state_str.count('2'):\n",
    "        return '1'\n",
    "    else:\n",
    "        return '2'\n",
    "    \n",
    "def end_check(board):\n",
    "    '''return a string if ends, False if not'''\n",
    "    if initial_value(board, '1') == 1:\n",
    "        return 'Game ended, computer wins'\n",
    "    elif initial_value(board, '1') == -1:\n",
    "        return 'Game ended, you win'\n",
    "    elif board.all() != 0:\n",
    "        return 'Game ended, draw'\n",
    "    else:\n",
    "        return False\n",
    "\n",
    "def value_function(board, i):\n",
    "    mover = mover_check(board)\n",
    "    value = initial_value(board, mover)\n",
    "    value += initial_value(policy_function(board, i), mover)\n",
    "    return value\n",
    "\n",
    "def policy_function(board, i):\n",
    "    state_str = board_to_state(board)\n",
    "    mover = mover_check(board)\n",
    "    flatten_board = board.flatten()\n",
    "    flatten_board[i] = int(mover)\n",
    "    policy = flatten_board.reshape((3,3))\n",
    "    return policy"
   ]
  },
  {
   "cell_type": "code",
   "execution_count": 12,
   "metadata": {},
   "outputs": [],
   "source": [
    "def VFI(board):\n",
    "    state_str = board_to_state(board)\n",
    "    value = []\n",
    "    policy = []\n",
    "    i = 0\n",
    "    while i < len(state_str):\n",
    "        flatten_board = board.flatten()\n",
    "        if abs(flatten_board[i] - 0) < 1e-6:\n",
    "            policy.append(policy_function(board, i))\n",
    "            value.append(value_function(board, i))\n",
    "        i += 1\n",
    "    board = policy_function(board, i-1)\n",
    "    return value, policy\n",
    "\n",
    "def iteration(board):\n",
    "    mover = mover_check(board)\n",
    "    values = [initial_value(board, mover)]\n",
    "    policies = [board]\n",
    "    i = 0\n",
    "    while i < len(policies):\n",
    "        board = policies[i]\n",
    "        if end_check(board) == False:\n",
    "            values += VFI(board)[0]\n",
    "            policies += VFI(board)[1]\n",
    "        i += 1\n",
    "    return values, policies\n",
    "        \n",
    "    "
   ]
  },
  {
   "cell_type": "code",
   "execution_count": 14,
   "metadata": {
    "scrolled": true
   },
   "outputs": [
    {
     "name": "stdout",
     "output_type": "stream",
     "text": [
      "[0, 0, 0, 0, 0, -1, 0, -1, 0, 0, -1, -1, -1, 0, -1, -1, 0, 0, 0, 0, -1, 0, 0, -1, 0, -1, 0, -1, 0, 0, 0, -1, -1, -1, -1, -1, -1, -1, -1, -1, -1, -1, -1, 0, -1, 0, -1, -1, -1, -1, -1, -1, -1, -1, -1, 0, -1, -1, -1, 0, -1, 0, 0, -1, -1, -1, -1, -1, -1, -1, -1, 0, -1, -1, 0, -1, -1, 0, -1, -1, -1, 0, 0, -1, -1, -1, 0, -1, -1, -1, -1, -1, -1, -1, -1, -1, -1, -1, -1, -1, -1, -1, -1, -1, -1, -1, -1, -1, -1, -1, -1, -1, -1, -1, -1, -1, -1, -1, -1, -1, -1, -1, -1, -1]\n"
     ]
    }
   ],
   "source": [
    "board = np.array([[0,2,0],\n",
    "                  [0,2,1],\n",
    "                  [0,0,0]])\n",
    "print(iteration(board)[0])"
   ]
  },
  {
   "cell_type": "markdown",
   "metadata": {},
   "source": [
    "## Problem 3\n",
    "- value function works fine, but policy function extraction seems to have some problems"
   ]
  },
  {
   "cell_type": "code",
   "execution_count": 16,
   "metadata": {},
   "outputs": [],
   "source": [
    "production_func_1 = lambda k: 0.9*k**0.3 + 0.3*k\n",
    "production_func_2 = lambda k: 1.1*k**0.3 + 0.9*k\n",
    "u = lambda c: np.log(c)\n",
    "\n",
    "N = 50 # number of grid_points for the capital grid\n",
    "beta = 0.9 # discount factor\n",
    "k_low = 0.1 # lower bound for capital grid\n",
    "k_high = 1 # upper bound for capital grid\n",
    "k_grid = np.linspace(k_low, k_high, N) # grid for capital\n",
    "V_init = np.zeros_like(k_grid) # initial values\n",
    "\n",
    "def actionvalue_allchoices(k_index, V_old):\n",
    "    '''\n",
    "    Calculates the current utility of all the discrete k's\n",
    "    \n",
    "    input:\n",
    "    k_index: index so that k_grid[index] corresponds to value of capital this period (state)\n",
    "    V_old: approximation to the value function, V_old[i] approximates V(k_grid[i])\n",
    "    \n",
    "    output:\n",
    "    action_value: value of all possible state-action pairs.\n",
    "    '''\n",
    "    \n",
    "    k = k_grid[k_index]\n",
    "    \n",
    "    action_value = np.zeros_like(k_grid)\n",
    "    \n",
    "    c1 = production_func_1(k) - k_grid # consumption implied by policy k_next for current k in state 1\n",
    "    c2 = production_func_2(k) - k_grid # consumption implied by policy k_next for current k in state 2\n",
    "    c = 0.5 * (c1 + c2)\n",
    "    action_value[c <= 0] = -999999\n",
    "    action_value[c > 0] = u(c[c > 0]) + beta * V_old[c > 0]\n",
    "    \n",
    "    return action_value\n",
    "\n",
    "def vf_update(i, V_old):\n",
    "    '''\n",
    "    i: index corresponding to the entry of the value-function vector which was to be update by the function\n",
    "    V_old: value function vector from the previous iteration\n",
    "    \n",
    "    output:\n",
    "    Vi_new: updated value for the value function vector at entry i. \n",
    "    '''\n",
    "    Vi_new = np.max(actionvalue_allchoices(i, V_old))\n",
    "    pi = k_grid[np.argmax(actionvalue_allchoices(i, V_old))] # keep track of the policy\n",
    "    \n",
    "    return Vi_new, pi"
   ]
  },
  {
   "cell_type": "code",
   "execution_count": 18,
   "metadata": {},
   "outputs": [
    {
     "data": {
      "text/plain": [
       "array([-0.77395117, -0.69672691, -0.63008075, -0.57131248, -0.5186465 ,\n",
       "       -0.47085218, -0.42704105, -0.38655036, -0.34887236, -0.31360924,\n",
       "       -0.28044344, -0.24911728, -0.21941873, -0.19117118, -0.1642259 ,\n",
       "       -0.13845641, -0.11375426, -0.09002569, -0.06718911, -0.04517303,\n",
       "       -0.02391446, -0.0033576 ,  0.01654724,  0.03584449,  0.05457405,\n",
       "        0.07277188,  0.09047056,  0.10769964,  0.12448605,  0.14085438,\n",
       "        0.15682717,  0.17242512,  0.18766729,  0.20257128,  0.21715336,\n",
       "        0.23142862,  0.24541107,  0.25911375,  0.27254882,  0.28572762,\n",
       "        0.29866079,  0.31135826,  0.32382937,  0.33608289,  0.34812707,\n",
       "        0.35996968,  0.37161805,  0.38307911,  0.3943594 ,  0.40546511])"
      ]
     },
     "execution_count": 18,
     "metadata": {},
     "output_type": "execute_result"
    }
   ],
   "source": [
    "def vf_update_iteration(V_old):\n",
    "    \n",
    "    V_new = np.zeros_like(V_old)\n",
    "    \n",
    "    maximum = -np.inf\n",
    "    for i in range(len(V_old)):\n",
    "        V_new[i] = vf_update(i, V_old)[0]\n",
    "        \n",
    "    return V_new\n",
    "\n",
    "vf_update_iteration(V_init)"
   ]
  },
  {
   "cell_type": "code",
   "execution_count": 37,
   "metadata": {},
   "outputs": [],
   "source": [
    "def iteration2convergence(initialV, maxiter, threshold, plot = False, plot_interval = None):\n",
    "    difference_list = []\n",
    "    V = initialV.copy()\n",
    "    for i in range(maxiter):\n",
    "        \n",
    "        V_new = vf_update_iteration(V)\n",
    "        difference = np.max(np.abs(V_new - V))\n",
    "        \n",
    "        difference_list.append(difference)\n",
    "        \n",
    "        V = V_new\n",
    "        \n",
    "        if plot == True:\n",
    "            \n",
    "            if difference < threshold:\n",
    "                print('Convergence achieved after interation {}'.format(i + 1))\n",
    "                plt.figure()\n",
    "                plt.plot(k_grid, V)\n",
    "                plt.xlabel('k')\n",
    "                plt.ylabel('V(k)')\n",
    "                plt.title('Value function after convergence')\n",
    "                plt.show()\n",
    "                break\n",
    "            \n",
    "        \n",
    "            print('iteration: {}'.format(i + 1))\n",
    "            if i%plot_interval == 1:\n",
    "                plt.figure()\n",
    "                plt.figure()\n",
    "                plt.plot(np.arange(1, i+2), np.log10(np.array(difference_list)))\n",
    "                plt.xlabel('Iteration')\n",
    "                plt.ylabel('Maximum update [log10]')\n",
    "                plt.show()\n",
    "                \n",
    "        return V"
   ]
  },
  {
   "cell_type": "code",
   "execution_count": 38,
   "metadata": {},
   "outputs": [
    {
     "data": {
      "text/plain": [
       "array([-0.77395117, -0.69672691, -0.63008075, -0.57131248, -0.5186465 ,\n",
       "       -0.47085218, -0.42704105, -0.38655036, -0.34887236, -0.31360924,\n",
       "       -0.28044344, -0.24911728, -0.21941873, -0.19117118, -0.1642259 ,\n",
       "       -0.13845641, -0.11375426, -0.09002569, -0.06718911, -0.04517303,\n",
       "       -0.02391446, -0.0033576 ,  0.01654724,  0.03584449,  0.05457405,\n",
       "        0.07277188,  0.09047056,  0.10769964,  0.12448605,  0.14085438,\n",
       "        0.15682717,  0.17242512,  0.18766729,  0.20257128,  0.21715336,\n",
       "        0.23142862,  0.24541107,  0.25911375,  0.27254882,  0.28572762,\n",
       "        0.29866079,  0.31135826,  0.32382937,  0.33608289,  0.34812707,\n",
       "        0.35996968,  0.37161805,  0.38307911,  0.3943594 ,  0.40546511])"
      ]
     },
     "execution_count": 38,
     "metadata": {},
     "output_type": "execute_result"
    }
   ],
   "source": [
    "iteration2convergence(V_init, 1000, 1e-4)"
   ]
  },
  {
   "cell_type": "code",
   "execution_count": 52,
   "metadata": {},
   "outputs": [
    {
     "name": "stderr",
     "output_type": "stream",
     "text": [
      "F:\\Anaconda\\lib\\site-packages\\ipykernel_launcher.py:3: RuntimeWarning: invalid value encountered in log\n",
      "  This is separate from the ipykernel package so we can avoid doing imports until\n",
      "F:\\Anaconda\\lib\\site-packages\\ipykernel_launcher.py:8: RuntimeWarning: invalid value encountered in less\n",
      "  \n"
     ]
    },
    {
     "data": {
      "text/plain": [
       "array([0.        , 0.        , 0.        , 0.17346939, 0.15510204,\n",
       "       0.15510204, 0.15510204, 0.15510204, 0.15510204, 0.13673469,\n",
       "       0.13673469, 0.13673469, 0.13673469, 0.13673469, 0.13673469,\n",
       "       0.13673469, 0.13673469, 0.13673469, 0.13673469, 0.13673469,\n",
       "       0.13673469, 0.13673469, 0.13673469, 0.13673469, 0.13673469,\n",
       "       0.13673469, 0.13673469, 0.13673469, 0.13673469, 0.13673469,\n",
       "       0.13673469, 0.13673469, 0.13673469, 0.13673469, 0.13673469,\n",
       "       0.13673469, 0.13673469, 0.13673469, 0.13673469, 0.13673469,\n",
       "       0.13673469, 0.13673469, 0.13673469, 0.13673469, 0.13673469,\n",
       "       0.13673469, 0.13673469, 0.13673469, 0.13673469, 0.13673469])"
      ]
     },
     "execution_count": 52,
     "metadata": {},
     "output_type": "execute_result"
    }
   ],
   "source": [
    "def extract_policy_shock1(V):\n",
    "    p = np.zeros_like(V)\n",
    "    \n",
    "    for i in range(len(p)):\n",
    "        k = k_grid[i]\n",
    "        candidate = u(production_func_1(k) - k_grid[0]) + beta * V[0]\n",
    "        for j in range(len(k_grid)):\n",
    "            if candidate < u(production_func_1(k) - k_grid[j]) + V[j] < np.max(V):\n",
    "                candidate = u(production_func_1(k) - k_grid[j]) + V[j] < np.max(V)\n",
    "                p[i] = k_grid[j]\n",
    "                \n",
    "    return p\n",
    "\n",
    "extract_policy_shock1(iteration2convergence(V_init, 1000, 1e-4))"
   ]
  },
  {
   "cell_type": "code",
   "execution_count": 53,
   "metadata": {},
   "outputs": [
    {
     "name": "stderr",
     "output_type": "stream",
     "text": [
      "F:\\Anaconda\\lib\\site-packages\\ipykernel_launcher.py:3: RuntimeWarning: invalid value encountered in log\n",
      "  This is separate from the ipykernel package so we can avoid doing imports until\n",
      "F:\\Anaconda\\lib\\site-packages\\ipykernel_launcher.py:8: RuntimeWarning: invalid value encountered in less\n",
      "  \n"
     ]
    },
    {
     "data": {
      "image/png": "[encoded data removed]",
      "text/plain": [
       "<Figure size 432x288 with 1 Axes>"
      ]
     },
     "metadata": {},
     "output_type": "display_data"
    }
   ],
   "source": [
    "plt.figure()\n",
    "plt.plot(k_grid, extract_policy_shock1(iteration2convergence(V_init, 1000, 1e-4)))\n",
    "plt.xlabel('k')\n",
    "plt.ylabel(\"k'\")\n",
    "plt.title('Policy function')\n",
    "plt.show();"
   ]
  },
  {
   "cell_type": "code",
   "execution_count": 54,
   "metadata": {},
   "outputs": [],
   "source": [
    "def extract_policy_shock2(V):\n",
    "    p = np.zeros_like(V)\n",
    "    \n",
    "    for i in range(len(p)):\n",
    "        k = k_grid[i]\n",
    "        candidate = u(production_func_2(k) - k_grid[0]) + beta * V[0]\n",
    "        for j in range(len(k_grid)):\n",
    "            if candidate < u(production_func_1(k) - k_grid[j]) + V[j] < np.max(V):\n",
    "                candidate = u(production_func_1(k) - k_grid[j]) + V[j] < np.max(V)\n",
    "                p[i] = k_grid[j]\n",
    "                \n",
    "    return p"
   ]
  },
  {
   "cell_type": "code",
   "execution_count": 58,
   "metadata": {},
   "outputs": [
    {
     "name": "stderr",
     "output_type": "stream",
     "text": [
      "F:\\Anaconda\\lib\\site-packages\\ipykernel_launcher.py:3: RuntimeWarning: invalid value encountered in log\n",
      "  This is separate from the ipykernel package so we can avoid doing imports until\n"
     ]
    },
    {
     "data": {
      "text/plain": [
       "array([0., 0., 0., 0., 0., 0., 0., 0., 0., 0., 0., 0., 0., 0., 0., 0., 0.,\n",
       "       0., 0., 0., 0., 0., 0., 0., 0., 0., 0., 0., 0., 0., 0., 0., 0., 0.,\n",
       "       0., 0., 0., 0., 0., 0., 0., 0., 0., 0., 0., 0., 0., 0., 0., 0.])"
      ]
     },
     "execution_count": 58,
     "metadata": {},
     "output_type": "execute_result"
    }
   ],
   "source": [
    "extract_policy_shock2(iteration2convergence(V_init, 1000, 1e-4))"
   ]
  },
  {
   "cell_type": "code",
   "execution_count": 55,
   "metadata": {},
   "outputs": [
    {
     "name": "stderr",
     "output_type": "stream",
     "text": [
      "F:\\Anaconda\\lib\\site-packages\\ipykernel_launcher.py:3: RuntimeWarning: invalid value encountered in log\n",
      "  This is separate from the ipykernel package so we can avoid doing imports until\n"
     ]
    },
    {
     "data": {
      "image/png": "[encoded data removed]",
      "text/plain": [
       "<Figure size 432x288 with 1 Axes>"
      ]
     },
     "metadata": {},
     "output_type": "display_data"
    }
   ],
   "source": [
    "plt.figure()\n",
    "plt.plot(k_grid, extract_policy_shock2(iteration2convergence(V_init, 1000, 1e-4)))\n",
    "plt.xlabel('k')\n",
    "plt.ylabel(\"k'\")\n",
    "plt.title('Policy function')\n",
    "plt.show();"
   ]
  }
 ],
 "metadata": {
  "kernelspec": {
   "display_name": "Python 3",
   "language": "python",
   "name": "python3"
  },
  "language_info": {
   "codemirror_mode": {
    "name": "ipython",
    "version": 3
   },
   "file_extension": ".py",
   "mimetype": "text/x-python",
   "name": "python",
   "nbconvert_exporter": "python",
   "pygments_lexer": "ipython3",
   "version": "3.6.4"
  }
 },
 "nbformat": 4,
 "nbformat_minor": 2
}
