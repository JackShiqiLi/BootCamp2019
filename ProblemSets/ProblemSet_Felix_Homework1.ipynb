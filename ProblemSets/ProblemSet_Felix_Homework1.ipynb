{
 "cells": [
  {
   "cell_type": "markdown",
   "metadata": {},
   "source": [
    "## Problem 1"
   ]
  },
  {
   "cell_type": "code",
   "execution_count": 1,
   "metadata": {},
   "outputs": [],
   "source": [
    "import numpy as np\n",
    "from scipy import optimize"
   ]
  },
  {
   "cell_type": "markdown",
   "metadata": {},
   "source": [
    "Market clearing:  \n",
    "  \n",
    "$$\n",
    "q_1^1 = -q_1^2 \\\\\n",
    "q_2^1 = -q_2^2\n",
    "$$\n",
    "  \n",
    "Utility maximasing problem for agent h:  \n",
    "  \n",
    "$$\\max{v(c_0^h) + \\frac{1}{4}\\sum_{i=1}^{4}v(c_s^h)}$$  \n",
    "$$\\textit{s.t.  }c_0^h = e_0^h - p_1q_1^h - p_2q_2^h$$  \n",
    "$$\\textit{where  }c_s^h = e_s^h + q_1^hA_s^h + q_2^hA_s^h$$"
   ]
  },
  {
   "cell_type": "code",
   "execution_count": 2,
   "metadata": {},
   "outputs": [
    {
     "name": "stdout",
     "output_type": "stream",
     "text": [
      "    fjac: array([[-0.68575796,  0.04625939, -0.72506109, -0.04338778],\n",
      "       [-0.04925708, -0.77120037,  0.03530471, -0.63370128],\n",
      "       [ 0.48620599,  0.46576638, -0.39264464, -0.6264947 ],\n",
      "       [-0.53936397,  0.43147624,  0.56468591, -0.45171294]])\n",
      "     fun: array([ 4.65238958e-11,  6.61867228e-11, -3.56298324e-11, -3.56995544e-11])\n",
      " message: 'The solution converged.'\n",
      "    nfev: 17\n",
      "     qtf: array([-4.92930660e-10, -1.19829763e-09, -2.36371148e-09, -3.77368201e-11])\n",
      "       r: array([ 1.41574066, -0.01108599, -0.25926261, -0.33930651,  1.42822841,\n",
      "        0.46175253,  0.56322445, -3.96922262, -5.06758189, -0.06033892])\n",
      "  status: 1\n",
      " success: True\n",
      "       x: array([5.89777656e-01, 7.37222070e-01, 1.95406655e-02, 8.83418572e-12])\n"
     ]
    }
   ],
   "source": [
    "e = np.array([[1,1,2,1,2],\n",
    "              [1,3,1,3,1]])\n",
    "A = np.array([[1,1,1,1],\n",
    "              [1,1,1.5,1.5]])\n",
    "gamma = 2\n",
    "\n",
    "\n",
    "def v_prime(c, gamma):\n",
    "    return c ** -gamma\n",
    "\n",
    "def FOC(x):\n",
    "    '''x is the list of unknowns [p1, p2, q1, q2]'''\n",
    "    \n",
    "    p1 = x[0]\n",
    "    p2 = x[1]\n",
    "    q1 = x[2]\n",
    "    q2 = x[3]\n",
    "\n",
    "    c = np.zeros((e.shape))\n",
    "    c[0][0] = e[0][0] - p1*q1 - p2*q2\n",
    "    c[1][0] = e[1][0] + p1*q1 + p2*q2\n",
    "    \n",
    "    for s in range(1,5):\n",
    "        c[0][s] = e[0][s] + q1*A[0, s-1] + q2*A[1, s-1]\n",
    "        c[1][s] = e[1][s] - q1*A[0, s-1] - q2*A[1, s-1]\n",
    "    \n",
    "    sum_11 = 0\n",
    "    sum_12 = 0\n",
    "    sum_21 = 0\n",
    "    sum_22 = 0\n",
    "    \n",
    "    for s in range(1,5):\n",
    "        sum_11 += v_prime(c[0][s], gamma) * A[0][s-1]\n",
    "        sum_12 += v_prime(c[0][s], gamma) * A[1][s-1]\n",
    "        sum_21 += v_prime(c[1][s], gamma) * A[0][s-1]\n",
    "        sum_22 += v_prime(c[1][s], gamma) * A[1][s-1]\n",
    "\n",
    "    FOC1 = - p1 * v_prime(c[0][0], gamma) + 1/4 * sum_11\n",
    "    FOC2 = - p2 * v_prime(c[0][0], gamma) + 1/4 * sum_12\n",
    "    FOC3 = - p1 * v_prime(c[1][0], gamma) + 1/4 * sum_21\n",
    "    FOC4 = - p2 * v_prime(c[1][0], gamma) + 1/4 * sum_22\n",
    "\n",
    "    return np.array([FOC1,FOC2,FOC3,FOC4])\n",
    "\n",
    "print(optimize.root(FOC, x0 = [1,1,0,0]))"
   ]
  },
  {
   "cell_type": "code",
   "execution_count": 3,
   "metadata": {},
   "outputs": [
    {
     "data": {
      "text/plain": [
       "[1, 2, 3, 4]"
      ]
     },
     "execution_count": 3,
     "metadata": {},
     "output_type": "execute_result"
    }
   ],
   "source": [
    "list(range(1, 5))"
   ]
  },
  {
   "cell_type": "code",
   "execution_count": 4,
   "metadata": {},
   "outputs": [
    {
     "data": {
      "text/plain": [
       "(2, 5)"
      ]
     },
     "execution_count": 4,
     "metadata": {},
     "output_type": "execute_result"
    }
   ],
   "source": [
    "e = np.array([[1,1,2,1,2],\n",
    "              [1,3,1,3,1]])\n",
    "e.shape"
   ]
  },
  {
   "cell_type": "code",
   "execution_count": 5,
   "metadata": {},
   "outputs": [],
   "source": [
    "# Suppose I take 1, opponent take 2\n",
    "board = np.zeros((3,3), dtype = int)\n",
    "# Value: 0 if intermediate or , 1 if win, -1 if lose\n",
    "# Policy: assign 1 to one of the empty square"
   ]
  },
  {
   "cell_type": "code",
   "execution_count": 141,
   "metadata": {},
   "outputs": [],
   "source": [
    "def initial_value(board, player = {'1', '2'}):\n",
    "    value = 0\n",
    "    for i in [0, 1, 2]:\n",
    "        if (board[i][0], board[i][1], board[i][2]) == (1,1,1):\n",
    "            value = 1\n",
    "        elif (board[i][0], board[i][1], board[i][2]) == (2,2,2):\n",
    "            value = -1\n",
    "    for j in [0, 1, 2]:\n",
    "        if (board[0][j], board[1][j], board[2][j]) == (1,1,1):\n",
    "            value = 1\n",
    "        elif (board[0][j], board[1][j], board[2][j]) == (2,2,2):\n",
    "            value = -1\n",
    "    if (board[0][0], board[1][1], board[2][2]) == (1,1,1):\n",
    "        value = 1\n",
    "    elif (board[0][0], board[1][1], board[2][2]) == (2,2,2):\n",
    "        value = -1\n",
    "    elif (board[2][0], board[1][1], board[0][2]) == (1,1,1):\n",
    "        value = 1\n",
    "    elif (board[2][0], board[1][1], board[0][2]) == (2,2,2):\n",
    "        value = -1\n",
    "    if player == '1':\n",
    "        return value\n",
    "    if player == '2':\n",
    "        return -value"
   ]
  },
  {
   "cell_type": "code",
   "execution_count": 175,
   "metadata": {},
   "outputs": [
    {
     "data": {
      "text/plain": [
       "1"
      ]
     },
     "execution_count": 175,
     "metadata": {},
     "output_type": "execute_result"
    }
   ],
   "source": [
    "board = np.zeros((3,3))\n",
    "board[1,1] = 1\n",
    "board[0,1] = 1\n",
    "board[2,1] = 1\n",
    "initial_value(board, '1')"
   ]
  },
  {
   "cell_type": "code",
   "execution_count": 9,
   "metadata": {},
   "outputs": [],
   "source": [
    "def state_to_board(state_str):\n",
    "    '''state is a string representation of the board'''\n",
    "    board = np.eye(3, dtype = int)\n",
    "    for i in range(len(state_str)):\n",
    "        if 0 <= i <= 2:\n",
    "            board[0][i] = int(state_str[i])\n",
    "        elif 2 <= i <= 5:\n",
    "            board[1][i-3] = int(state_str[i])\n",
    "        else:\n",
    "            print(i)\n",
    "            board[2][i-6] = int(state_str[i])\n",
    "    return board"
   ]
  },
  {
   "cell_type": "code",
   "execution_count": 10,
   "metadata": {},
   "outputs": [],
   "source": [
    "def board_to_state(board):\n",
    "    state_str = ''\n",
    "    for i in range(len(board)):\n",
    "        for j in range(len(board[0])):\n",
    "            str_num = str(board[i][j])\n",
    "            state_str += str_num\n",
    "    return state_str"
   ]
  },
  {
   "cell_type": "code",
   "execution_count": 11,
   "metadata": {},
   "outputs": [],
   "source": [
    "def disgard_move_first(board):\n",
    "    state_str = board_to_state(board)    \n",
    "    if abs(state_str.count('2') - state_str.count('1')) > 1:\n",
    "        return False\n",
    "    elif state_str.count('2') - state_str.count('1') > 0:\n",
    "        return False\n",
    "    # have to deal with same number of 1's and 2's but already ended\n",
    "    else:\n",
    "        return True\n",
    "    \n",
    "def disgard_move_second(board):\n",
    "    state_str = board_to_state(board)    \n",
    "    if abs(state_str.count('1') - state_str.count('2')) > 1:\n",
    "        return False\n",
    "    elif state_str.count('1') - state_str.count('2') > 0:\n",
    "        return False\n",
    "    else:\n",
    "        return True"
   ]
  },
  {
   "cell_type": "code",
   "execution_count": 183,
   "metadata": {},
   "outputs": [],
   "source": [
    "def mover_check(board):\n",
    "    '''Return 1 if 1 should move, 2 if 2 should move'''\n",
    "    state_str = board_to_state(board)\n",
    "    if board.any() == np.zeros((3,3)).any():\n",
    "        return '1'\n",
    "    elif state_str.count('1') == state_str.count('2'):\n",
    "        return '1'\n",
    "    else:\n",
    "        return '2'\n",
    "    \n",
    "def end_check(board):\n",
    "    '''return a string if ends, False if not'''\n",
    "    if initial_value(board, '1') == 1:\n",
    "        return 'Game ended, computer wins'\n",
    "    elif initial_value(board, '1') == -1:\n",
    "        return 'Game ended, you win'\n",
    "    elif board.any() != 0:\n",
    "        return 'Game ended, draw'\n",
    "    else:\n",
    "        return False\n",
    "\n",
    "def value_function(board, i):\n",
    "    mover = mover_check(board)\n",
    "    value = initial_value(board, mover)\n",
    "    value += initial_value(policy_function(board, i), mover)\n",
    "    return value\n",
    "\n",
    "def policy_function(board, i):\n",
    "    state_str = board_to_state(board)\n",
    "    mover = mover_check(board)\n",
    "    flatten_board = board.flatten()\n",
    "    flatten_board[i] = int(mover)\n",
    "    policy = flatten_board.reshape((3,3))\n",
    "    return policy"
   ]
  },
  {
   "cell_type": "code",
   "execution_count": 157,
   "metadata": {},
   "outputs": [
    {
     "ename": "SyntaxError",
     "evalue": "unexpected EOF while parsing (<ipython-input-157-86ca4bc28bde>, line 3)",
     "output_type": "error",
     "traceback": [
      "\u001b[1;36m  File \u001b[1;32m\"<ipython-input-157-86ca4bc28bde>\"\u001b[1;36m, line \u001b[1;32m3\u001b[0m\n\u001b[1;33m    \u001b[0m\n\u001b[1;37m    ^\u001b[0m\n\u001b[1;31mSyntaxError\u001b[0m\u001b[1;31m:\u001b[0m unexpected EOF while parsing\n"
     ]
    }
   ],
   "source": [
    "def VFI(board):\n",
    "    values = []\n",
    "    policys = []\n",
    "    while end_check(board) == False:\n",
    "        for i in range(len(state_str)):\n",
    "            if abs(flatten_board[i] - 0) < 1e-6:\n",
    "                flatten_board = board.flatten()\n",
    "                policys.append(policy_function(board, i))\n",
    "                values.append(value_function(board, i))\n",
    "                board = policy_function(board, i)\n",
    "            \n",
    "            \n",
    "        \n",
    "def value_function_iteration(board):\n",
    "    state_str = board_to_state(board)\n",
    "    mover = mover_check(board)\n",
    "    value = initial_value(board, mover)\n",
    "    different_move_value = np.array([value] * 9, dtype = 'float64')\n",
    "    for i in range(len(state_str)):\n",
    "        x = int(state_str[i])\n",
    "        if abs(x - 0) < 1e-6:\n",
    "            flatten_board = board.flatten()\n",
    "            flatten_board[i] = int(mover)\n",
    "            new_board = flatten_board.reshape((3,3))\n",
    "            different_move_value[i] += initial_value(new_board, mover)\n",
    "    return different_move_value\n",
    "        "
   ]
  },
  {
   "cell_type": "code",
   "execution_count": 186,
   "metadata": {},
   "outputs": [
    {
     "name": "stdout",
     "output_type": "stream",
     "text": [
      "0\n"
     ]
    }
   ],
   "source": [
    "board = np.array([[1,2,1],\n",
    "                  [2,2,1],\n",
    "                  [0,0,0]])\n",
    "print(value_function(board, 3))"
   ]
  },
  {
   "cell_type": "code",
   "execution_count": 158,
   "metadata": {},
   "outputs": [
    {
     "data": {
      "text/plain": [
       "'Game ended, draw'"
      ]
     },
     "execution_count": 158,
     "metadata": {},
     "output_type": "execute_result"
    }
   ],
   "source": [
    "board = np.array([[1,2,1],\n",
    "                  [1,2,1],\n",
    "                  [2,1,2]])\n",
    "end_check(board)"
   ]
  }
 ],
 "metadata": {
  "kernelspec": {
   "display_name": "Python 3",
   "language": "python",
   "name": "python3"
  },
  "language_info": {
   "codemirror_mode": {
    "name": "ipython",
    "version": 3
   },
   "file_extension": ".py",
   "mimetype": "text/x-python",
   "name": "python",
   "nbconvert_exporter": "python",
   "pygments_lexer": "ipython3",
   "version": "3.6.4"
  }
 },
 "nbformat": 4,
 "nbformat_minor": 2
}
