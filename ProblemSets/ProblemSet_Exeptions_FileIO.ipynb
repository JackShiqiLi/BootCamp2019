{
 "cells": [
  {
   "cell_type": "code",
   "execution_count": 1,
   "metadata": {},
   "outputs": [],
   "source": [
    "# Problem 1\n",
    "\n",
    "def arithmagic():\n",
    "    step_1 = input(\"Enter a 3-digit number where the first and last \"\n",
    "    \"digits differ by 2 or more: \")\n",
    "    if len(step_1) != 3:\n",
    "        print('The first number (step_1) is not a 3-digit number.')\n",
    "    elif abs(int(step_1[2]) - int(step_1)[2]) <= 2:\n",
    "        print('The first number’s first and last digits differ by less than 2.')\n",
    "    step_2 = input(\"Enter the reverse of the first number, obtained \"\n",
    "    \"by reading it backwards: \")\n",
    "    if step_2[-1::-1] != step_1:\n",
    "        print('The second number (step_2) is not the reverse of the first number.')\n",
    "    step_3 = input(\"Enter the positive difference of these numbers: \")\n",
    "    if abs(int(step_2) - int(step_1)) != step_3:\n",
    "        print('The third number (step_3) is not the positive difference of the first two numbers.')\n",
    "    step_4 = input(\"Enter the reverse of the previous result: \")\n",
    "    if step_4[-1::-1] != step_3:\n",
    "        print('The fourth number (step_4) is not the reverse of the third number.')\n",
    "    print(str(step_3), \"+\", str(step_4), \"= 1089 (ta-da!)\")"
   ]
  },
  {
   "cell_type": "code",
   "execution_count": null,
   "metadata": {},
   "outputs": [],
   "source": [
    "arithmagic()"
   ]
  },
  {
   "cell_type": "code",
   "execution_count": 4,
   "metadata": {},
   "outputs": [],
   "source": [
    "# Problem 2\n",
    "\n",
    "from random import choice\n",
    "def random_walk(max_iters=1e12):\n",
    "    walk = 0\n",
    "    directions = [1, -1]\n",
    "    for i in range(int(max_iters)):\n",
    "        try:\n",
    "            walk += choice(directions)\n",
    "        except KeyboardInterrupt as e:\n",
    "            print('Process interrupted at iteration {}'.format(i))\n",
    "            return walk # return at the iteration where it stops\n",
    "    try:\n",
    "        return walk\n",
    "    finally:\n",
    "            print('Process completed')"
   ]
  },
  {
   "cell_type": "code",
   "execution_count": 5,
   "metadata": {},
   "outputs": [
    {
     "name": "stdout",
     "output_type": "stream",
     "text": [
      "Process interrupted at iteration 1891089\n"
     ]
    },
    {
     "data": {
      "text/plain": [
       "1401"
      ]
     },
     "execution_count": 5,
     "metadata": {},
     "output_type": "execute_result"
    }
   ],
   "source": [
    "random_walk()"
   ]
  },
  {
   "cell_type": "code",
   "execution_count": 2,
   "metadata": {},
   "outputs": [],
   "source": [
    "# Problem 3 and 4\n",
    "\n",
    "class ContentFilter:\n",
    "    '''a class helps to read contents'''\n",
    "    \n",
    "    def __init__(self, name):\n",
    "        self.name = name\n",
    "        valid = False\n",
    "        while valid == False:\n",
    "            try:\n",
    "                myfile = open(self.name, 'r')\n",
    "            except (FileNotFoundError, TypeError, OSError) as e:\n",
    "                print(e)\n",
    "                self.name = input('Please enter a valid file name:')\n",
    "                print(self.name)\n",
    "            else:\n",
    "                valid = True\n",
    "        self.contents = myfile.readlines()\n",
    "        myfile.close()\n",
    "        \n",
    "    def uniform(self, file_name, mode = 'w', case = 'upper'):\n",
    "        if mode == 'w':\n",
    "            new_file = open(file_name, 'w')\n",
    "        elif mode == 'x':\n",
    "            new_file = open(file_name, 'x')\n",
    "        elif mode == 'a':\n",
    "            new_file = open(file_name, 'a')\n",
    "        else:\n",
    "            raise ValueError('mode has to be \"w\" or \"x\" or \"a\"')\n",
    "        if case == 'upper':\n",
    "            contents = self.contents.upper()\n",
    "        elif case == 'lower':\n",
    "            contents = self.contesnt.lower()\n",
    "        else:\n",
    "            raise ValueError('case has to be \"upper\" or \"lower\"')\n",
    "        new_file.write(contents)\n",
    "        new_file.close\n",
    "        \n",
    "    def reverse(self, file_name, mode = 'w', unit = 'line'):\n",
    "        if mode == 'w':\n",
    "            new_file = open(file_name, 'w')\n",
    "        elif mode == 'x':\n",
    "            new_file = open(file_name, 'x')\n",
    "        elif mode == 'a':\n",
    "            new_file = open(file_name, 'a')\n",
    "        else:\n",
    "            raise ValueError('mode has to be \"w\" or \"x\" or \"a\"')\n",
    "        if unit == 'line':\n",
    "            contents = self.contents.split('\\n')[::-1]\n",
    "        if unit == 'word':\n",
    "            contents = self.contents.split()[::-1]\n",
    "        new_file.write(contents)\n",
    "        \n",
    "    def transpose(self, file_name, mode = 'w'): # dont know how to do the transpose.\n",
    "        if mode == 'w':\n",
    "            new_file = open(file_name, 'w')\n",
    "        elif mode == 'x':\n",
    "            new_file = open(file_name, 'x')\n",
    "        elif mode == 'a':\n",
    "            new_file = open(file_name, 'a')\n",
    "        else:\n",
    "            raise ValueError('mode has to be \"w\" or \"x\" or \"a\"')\n",
    "        contents = self.contents.split('\\n')\n",
    "        for i in range(len(contents)):\n",
    "            contents[i] = contents[i].split()\n",
    "        \n",
    "        \n",
    "            "
   ]
  },
  {
   "cell_type": "code",
   "execution_count": 4,
   "metadata": {},
   "outputs": [
    {
     "data": {
      "text/plain": [
       "['111']"
      ]
     },
     "execution_count": 4,
     "metadata": {},
     "output_type": "execute_result"
    }
   ],
   "source": [
    "ContentFilter('111.txt').contents"
   ]
  },
  {
   "cell_type": "code",
   "execution_count": 6,
   "metadata": {},
   "outputs": [
    {
     "ename": "TypeError",
     "evalue": "'str' object is not callable",
     "output_type": "error",
     "traceback": [
      "\u001b[1;31m---------------------------------------------------------------------------\u001b[0m",
      "\u001b[1;31mTypeError\u001b[0m                                 Traceback (most recent call last)",
      "\u001b[1;32m<ipython-input-6-5d1b94c690f7>\u001b[0m in \u001b[0;36m<module>\u001b[1;34m()\u001b[0m\n\u001b[0;32m      1\u001b[0m \u001b[0ma\u001b[0m \u001b[1;33m=\u001b[0m \u001b[1;34m'abc'\u001b[0m\u001b[1;33m\u001b[0m\u001b[0m\n\u001b[1;32m----> 2\u001b[1;33m \u001b[0ma\u001b[0m\u001b[1;33m(\u001b[0m\u001b[1;34m'upper'\u001b[0m\u001b[1;33m)\u001b[0m\u001b[1;33m\u001b[0m\u001b[0m\n\u001b[0m",
      "\u001b[1;31mTypeError\u001b[0m: 'str' object is not callable"
     ]
    }
   ],
   "source": [
    "a = 'abc'\n",
    "a('upper')"
   ]
  },
  {
   "cell_type": "code",
   "execution_count": 10,
   "metadata": {},
   "outputs": [
    {
     "data": {
      "text/plain": [
       "1"
      ]
     },
     "execution_count": 10,
     "metadata": {},
     "output_type": "execute_result"
    }
   ],
   "source": [
    "file = open('112.txt','w')\n",
    "file.write('a'+' ')\n",
    "file.write('b')\n",
    "file.write('c')"
   ]
  },
  {
   "cell_type": "code",
   "execution_count": 77,
   "metadata": {},
   "outputs": [
    {
     "data": {
      "text/plain": [
       "[['One', 'fish'], ['Two', 'fish'], ['Red', 'fish'], ['Blue', 'fish']]"
      ]
     },
     "execution_count": 77,
     "metadata": {},
     "output_type": "execute_result"
    }
   ],
   "source": [
    "a = \"One fish\\nTwo fish\\nRed fish\\nBlue fish\".split('\\n')\n",
    "for i in range(len(a)):\n",
    "    a[i] = a[i].split()\n",
    "a"
   ]
  },
  {
   "cell_type": "code",
   "execution_count": 38,
   "metadata": {},
   "outputs": [
    {
     "data": {
      "text/plain": [
       "'One'"
      ]
     },
     "execution_count": 38,
     "metadata": {},
     "output_type": "execute_result"
    }
   ],
   "source": [
    "for i in range(len(a)):\n",
    "    a[i] = np.array(a[i])\n",
    "a = np.array(a)\n",
    "a[0][0]"
   ]
  },
  {
   "cell_type": "code",
   "execution_count": 27,
   "metadata": {},
   "outputs": [],
   "source": [
    "import numpy as np"
   ]
  },
  {
   "cell_type": "code",
   "execution_count": 78,
   "metadata": {},
   "outputs": [
    {
     "name": "stdout",
     "output_type": "stream",
     "text": [
      "[['One', 'fish'], ['Two', 'fish'], ['Red', 'fish'], ['Blue', 'fish']]\n",
      "One\n",
      "fish\n",
      "Two\n",
      "fish\n",
      "Red\n",
      "fish\n",
      "Blue\n",
      "fish\n"
     ]
    }
   ],
   "source": [
    "b = a\n",
    "print(b)\n",
    "for i in range(len(b)):\n",
    "    for j in range(len(b[i])):\n",
    "        print(b[i][j])"
   ]
  },
  {
   "cell_type": "code",
   "execution_count": 102,
   "metadata": {},
   "outputs": [
    {
     "data": {
      "text/plain": [
       "[[[],\n",
       "  'O',\n",
       "  'n',\n",
       "  'e',\n",
       "  'T',\n",
       "  'w',\n",
       "  'o',\n",
       "  'R',\n",
       "  'e',\n",
       "  'd',\n",
       "  'B',\n",
       "  'l',\n",
       "  'u',\n",
       "  'e',\n",
       "  'f',\n",
       "  'i',\n",
       "  's',\n",
       "  'h',\n",
       "  'f',\n",
       "  'i',\n",
       "  's',\n",
       "  'h',\n",
       "  'f',\n",
       "  'i',\n",
       "  's',\n",
       "  'h',\n",
       "  'f',\n",
       "  'i',\n",
       "  's',\n",
       "  'h']]"
      ]
     },
     "execution_count": 102,
     "metadata": {},
     "output_type": "execute_result"
    }
   ],
   "source": [
    "c = [[[]]]\n",
    "for j in range(len(b[0])):\n",
    "    for i in range(len(b)):\n",
    "        c[0] += (b[i][j])\n",
    "c"
   ]
  }
 ],
 "metadata": {
  "kernelspec": {
   "display_name": "Python 3",
   "language": "python",
   "name": "python3"
  },
  "language_info": {
   "codemirror_mode": {
    "name": "ipython",
    "version": 3
   },
   "file_extension": ".py",
   "mimetype": "text/x-python",
   "name": "python",
   "nbconvert_exporter": "python",
   "pygments_lexer": "ipython3",
   "version": "3.6.4"
  }
 },
 "nbformat": 4,
 "nbformat_minor": 2
}
