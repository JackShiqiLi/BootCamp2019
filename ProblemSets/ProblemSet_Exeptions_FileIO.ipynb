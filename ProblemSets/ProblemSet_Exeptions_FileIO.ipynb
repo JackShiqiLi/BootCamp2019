{
 "cells": [
  {
   "cell_type": "code",
   "execution_count": null,
   "metadata": {},
   "outputs": [],
   "source": [
    "# Problem 1\n",
    "\n",
    "def arithmagic():\n",
    "    step_1 = input(\"Enter a 3-digit number where the first and last \"\n",
    "    \"digits differ by 2 or more: \")\n",
    "    if len(step_1) != 3:\n",
    "        print('The first number (step_1) is not a 3-digit number.')\n",
    "    elif abs(int(step_1[2]) - int(step_1)[2]) <= 2:\n",
    "        print('The first number’s first and last digits differ by less than 2.')\n",
    "    step_2 = input(\"Enter the reverse of the first number, obtained \"\n",
    "    \"by reading it backwards: \")\n",
    "    if step_2[-1::-1] != step_1:\n",
    "        print('The second number (step_2) is not the reverse of the first number.')\n",
    "    step_3 = input(\"Enter the positive difference of these numbers: \")\n",
    "    if abs(int(step_2) - int(step_1)) != step_3:\n",
    "        print('The third number (step_3) is not the positive difference of the first two numbers.')\n",
    "    step_4 = input(\"Enter the reverse of the previous result: \")\n",
    "    if step_4[-1::-1] != step_3:\n",
    "        print('The fourth number (step_4) is not the reverse of the third number.')\n",
    "    print(str(step_3), \"+\", str(step_4), \"= 1089 (ta-da!)\")"
   ]
  },
  {
   "cell_type": "code",
   "execution_count": null,
   "metadata": {},
   "outputs": [],
   "source": [
    "arithmagic()"
   ]
  },
  {
   "cell_type": "code",
   "execution_count": 3,
   "metadata": {},
   "outputs": [],
   "source": [
    "# Problem 2\n",
    "\n",
    "from random import choice\n",
    "def random_walk(max_iters=1e12):\n",
    "    walk = 0\n",
    "    directions = [1, -1]\n",
    "    for i in range(int(max_iters)):\n",
    "        try:\n",
    "            walk += choice(directions)\n",
    "        except KeyboardInterrupt as e:\n",
    "            print('Process interrupted at iteration {}'.format(i))\n",
    "            return i\n",
    "    try:\n",
    "        return walk\n",
    "    finally:\n",
    "            print('Process completed')"
   ]
  },
  {
   "cell_type": "code",
   "execution_count": 4,
   "metadata": {},
   "outputs": [
    {
     "name": "stdout",
     "output_type": "stream",
     "text": [
      "Process interrupted at iteration 2140290\n"
     ]
    },
    {
     "data": {
      "text/plain": [
       "2140290"
      ]
     },
     "execution_count": 4,
     "metadata": {},
     "output_type": "execute_result"
    }
   ],
   "source": [
    "random_walk()"
   ]
  },
  {
   "cell_type": "code",
   "execution_count": null,
   "metadata": {},
   "outputs": [],
   "source": []
  }
 ],
 "metadata": {
  "kernelspec": {
   "display_name": "Python 3",
   "language": "python",
   "name": "python3"
  },
  "language_info": {
   "codemirror_mode": {
    "name": "ipython",
    "version": 3
   },
   "file_extension": ".py",
   "mimetype": "text/x-python",
   "name": "python",
   "nbconvert_exporter": "python",
   "pygments_lexer": "ipython3",
   "version": "3.6.4"
  }
 },
 "nbformat": 4,
 "nbformat_minor": 2
}
